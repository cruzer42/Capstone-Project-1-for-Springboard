{
 "cells": [
  {
   "cell_type": "code",
   "execution_count": 113,
   "metadata": {},
   "outputs": [],
   "source": [
    "# Import Modules\n",
    "import pandas as pd\n",
    "import matplotlib.pyplot as plt\n",
    "import seaborn as sns\n",
    "pd.options.display.float_format = '{:,.2f}'.format"
   ]
  },
  {
   "cell_type": "code",
   "execution_count": 43,
   "metadata": {
    "scrolled": true
   },
   "outputs": [
    {
     "name": "stdout",
     "output_type": "stream",
     "text": [
      "<class 'pandas.core.frame.DataFrame'>\n",
      "RangeIndex: 6362620 entries, 0 to 6362619\n",
      "Data columns (total 11 columns):\n",
      "step              int64\n",
      "type              object\n",
      "amount            float64\n",
      "nameOrig          object\n",
      "oldbalanceOrg     float64\n",
      "newbalanceOrig    float64\n",
      "nameDest          object\n",
      "oldbalanceDest    float64\n",
      "newbalanceDest    float64\n",
      "isFraud           int64\n",
      "isFlaggedFraud    int64\n",
      "dtypes: float64(5), int64(3), object(3)\n",
      "memory usage: 534.0+ MB\n"
     ]
    }
   ],
   "source": [
    "# Read csv file into dataframe\n",
    "df = pd.read_csv('paysim.csv')\n",
    "df.info()"
   ]
  },
  {
   "cell_type": "code",
   "execution_count": 44,
   "metadata": {},
   "outputs": [
    {
     "data": {
      "text/html": [
       "<div>\n",
       "<style scoped>\n",
       "    .dataframe tbody tr th:only-of-type {\n",
       "        vertical-align: middle;\n",
       "    }\n",
       "\n",
       "    .dataframe tbody tr th {\n",
       "        vertical-align: top;\n",
       "    }\n",
       "\n",
       "    .dataframe thead th {\n",
       "        text-align: right;\n",
       "    }\n",
       "</style>\n",
       "<table border=\"1\" class=\"dataframe\">\n",
       "  <thead>\n",
       "    <tr style=\"text-align: right;\">\n",
       "      <th></th>\n",
       "      <th>step</th>\n",
       "      <th>amount</th>\n",
       "      <th>oldbalanceOrg</th>\n",
       "      <th>newbalanceOrig</th>\n",
       "      <th>oldbalanceDest</th>\n",
       "      <th>newbalanceDest</th>\n",
       "      <th>isFraud</th>\n",
       "      <th>isFlaggedFraud</th>\n",
       "    </tr>\n",
       "  </thead>\n",
       "  <tbody>\n",
       "    <tr>\n",
       "      <th>count</th>\n",
       "      <td>6,362,620.00</td>\n",
       "      <td>6,362,620.00</td>\n",
       "      <td>6,362,620.00</td>\n",
       "      <td>6,362,620.00</td>\n",
       "      <td>6,362,620.00</td>\n",
       "      <td>6,362,620.00</td>\n",
       "      <td>6,362,620.00</td>\n",
       "      <td>6,362,620.00</td>\n",
       "    </tr>\n",
       "    <tr>\n",
       "      <th>mean</th>\n",
       "      <td>243.40</td>\n",
       "      <td>179,861.90</td>\n",
       "      <td>833,883.10</td>\n",
       "      <td>855,113.67</td>\n",
       "      <td>1,100,701.67</td>\n",
       "      <td>1,224,996.40</td>\n",
       "      <td>0.00</td>\n",
       "      <td>0.00</td>\n",
       "    </tr>\n",
       "    <tr>\n",
       "      <th>std</th>\n",
       "      <td>142.33</td>\n",
       "      <td>603,858.23</td>\n",
       "      <td>2,888,242.67</td>\n",
       "      <td>2,924,048.50</td>\n",
       "      <td>3,399,180.11</td>\n",
       "      <td>3,674,128.94</td>\n",
       "      <td>0.04</td>\n",
       "      <td>0.00</td>\n",
       "    </tr>\n",
       "    <tr>\n",
       "      <th>min</th>\n",
       "      <td>1.00</td>\n",
       "      <td>0.00</td>\n",
       "      <td>0.00</td>\n",
       "      <td>0.00</td>\n",
       "      <td>0.00</td>\n",
       "      <td>0.00</td>\n",
       "      <td>0.00</td>\n",
       "      <td>0.00</td>\n",
       "    </tr>\n",
       "    <tr>\n",
       "      <th>25%</th>\n",
       "      <td>156.00</td>\n",
       "      <td>13,389.57</td>\n",
       "      <td>0.00</td>\n",
       "      <td>0.00</td>\n",
       "      <td>0.00</td>\n",
       "      <td>0.00</td>\n",
       "      <td>0.00</td>\n",
       "      <td>0.00</td>\n",
       "    </tr>\n",
       "    <tr>\n",
       "      <th>50%</th>\n",
       "      <td>239.00</td>\n",
       "      <td>74,871.94</td>\n",
       "      <td>14,208.00</td>\n",
       "      <td>0.00</td>\n",
       "      <td>132,705.66</td>\n",
       "      <td>214,661.44</td>\n",
       "      <td>0.00</td>\n",
       "      <td>0.00</td>\n",
       "    </tr>\n",
       "    <tr>\n",
       "      <th>75%</th>\n",
       "      <td>335.00</td>\n",
       "      <td>208,721.48</td>\n",
       "      <td>107,315.18</td>\n",
       "      <td>144,258.41</td>\n",
       "      <td>943,036.71</td>\n",
       "      <td>1,111,909.25</td>\n",
       "      <td>0.00</td>\n",
       "      <td>0.00</td>\n",
       "    </tr>\n",
       "    <tr>\n",
       "      <th>max</th>\n",
       "      <td>743.00</td>\n",
       "      <td>92,445,516.64</td>\n",
       "      <td>59,585,040.37</td>\n",
       "      <td>49,585,040.37</td>\n",
       "      <td>356,015,889.35</td>\n",
       "      <td>356,179,278.92</td>\n",
       "      <td>1.00</td>\n",
       "      <td>1.00</td>\n",
       "    </tr>\n",
       "  </tbody>\n",
       "</table>\n",
       "</div>"
      ],
      "text/plain": [
       "              step        amount  oldbalanceOrg  newbalanceOrig  \\\n",
       "count 6,362,620.00  6,362,620.00   6,362,620.00    6,362,620.00   \n",
       "mean        243.40    179,861.90     833,883.10      855,113.67   \n",
       "std         142.33    603,858.23   2,888,242.67    2,924,048.50   \n",
       "min           1.00          0.00           0.00            0.00   \n",
       "25%         156.00     13,389.57           0.00            0.00   \n",
       "50%         239.00     74,871.94      14,208.00            0.00   \n",
       "75%         335.00    208,721.48     107,315.18      144,258.41   \n",
       "max         743.00 92,445,516.64  59,585,040.37   49,585,040.37   \n",
       "\n",
       "       oldbalanceDest  newbalanceDest      isFraud  isFlaggedFraud  \n",
       "count    6,362,620.00    6,362,620.00 6,362,620.00    6,362,620.00  \n",
       "mean     1,100,701.67    1,224,996.40         0.00            0.00  \n",
       "std      3,399,180.11    3,674,128.94         0.04            0.00  \n",
       "min              0.00            0.00         0.00            0.00  \n",
       "25%              0.00            0.00         0.00            0.00  \n",
       "50%        132,705.66      214,661.44         0.00            0.00  \n",
       "75%        943,036.71    1,111,909.25         0.00            0.00  \n",
       "max    356,015,889.35  356,179,278.92         1.00            1.00  "
      ]
     },
     "execution_count": 44,
     "metadata": {},
     "output_type": "execute_result"
    }
   ],
   "source": [
    "df.describe()"
   ]
  },
  {
   "cell_type": "code",
   "execution_count": 45,
   "metadata": {},
   "outputs": [
    {
     "data": {
      "text/html": [
       "<div>\n",
       "<style scoped>\n",
       "    .dataframe tbody tr th:only-of-type {\n",
       "        vertical-align: middle;\n",
       "    }\n",
       "\n",
       "    .dataframe tbody tr th {\n",
       "        vertical-align: top;\n",
       "    }\n",
       "\n",
       "    .dataframe thead th {\n",
       "        text-align: right;\n",
       "    }\n",
       "</style>\n",
       "<table border=\"1\" class=\"dataframe\">\n",
       "  <thead>\n",
       "    <tr style=\"text-align: right;\">\n",
       "      <th></th>\n",
       "      <th>step</th>\n",
       "      <th>type</th>\n",
       "      <th>amount</th>\n",
       "      <th>nameOrig</th>\n",
       "      <th>oldbalanceOrg</th>\n",
       "      <th>newbalanceOrig</th>\n",
       "      <th>nameDest</th>\n",
       "      <th>oldbalanceDest</th>\n",
       "      <th>newbalanceDest</th>\n",
       "      <th>isFraud</th>\n",
       "      <th>isFlaggedFraud</th>\n",
       "    </tr>\n",
       "  </thead>\n",
       "  <tbody>\n",
       "    <tr>\n",
       "      <th>0</th>\n",
       "      <td>1</td>\n",
       "      <td>PAYMENT</td>\n",
       "      <td>9,839.64</td>\n",
       "      <td>C1231006815</td>\n",
       "      <td>170,136.00</td>\n",
       "      <td>160,296.36</td>\n",
       "      <td>M1979787155</td>\n",
       "      <td>0.00</td>\n",
       "      <td>0.00</td>\n",
       "      <td>0</td>\n",
       "      <td>0</td>\n",
       "    </tr>\n",
       "    <tr>\n",
       "      <th>1</th>\n",
       "      <td>1</td>\n",
       "      <td>PAYMENT</td>\n",
       "      <td>1,864.28</td>\n",
       "      <td>C1666544295</td>\n",
       "      <td>21,249.00</td>\n",
       "      <td>19,384.72</td>\n",
       "      <td>M2044282225</td>\n",
       "      <td>0.00</td>\n",
       "      <td>0.00</td>\n",
       "      <td>0</td>\n",
       "      <td>0</td>\n",
       "    </tr>\n",
       "    <tr>\n",
       "      <th>2</th>\n",
       "      <td>1</td>\n",
       "      <td>TRANSFER</td>\n",
       "      <td>181.00</td>\n",
       "      <td>C1305486145</td>\n",
       "      <td>181.00</td>\n",
       "      <td>0.00</td>\n",
       "      <td>C553264065</td>\n",
       "      <td>0.00</td>\n",
       "      <td>0.00</td>\n",
       "      <td>1</td>\n",
       "      <td>0</td>\n",
       "    </tr>\n",
       "    <tr>\n",
       "      <th>3</th>\n",
       "      <td>1</td>\n",
       "      <td>CASH_OUT</td>\n",
       "      <td>181.00</td>\n",
       "      <td>C840083671</td>\n",
       "      <td>181.00</td>\n",
       "      <td>0.00</td>\n",
       "      <td>C38997010</td>\n",
       "      <td>21,182.00</td>\n",
       "      <td>0.00</td>\n",
       "      <td>1</td>\n",
       "      <td>0</td>\n",
       "    </tr>\n",
       "    <tr>\n",
       "      <th>4</th>\n",
       "      <td>1</td>\n",
       "      <td>PAYMENT</td>\n",
       "      <td>11,668.14</td>\n",
       "      <td>C2048537720</td>\n",
       "      <td>41,554.00</td>\n",
       "      <td>29,885.86</td>\n",
       "      <td>M1230701703</td>\n",
       "      <td>0.00</td>\n",
       "      <td>0.00</td>\n",
       "      <td>0</td>\n",
       "      <td>0</td>\n",
       "    </tr>\n",
       "  </tbody>\n",
       "</table>\n",
       "</div>"
      ],
      "text/plain": [
       "   step      type    amount     nameOrig  oldbalanceOrg  newbalanceOrig  \\\n",
       "0     1   PAYMENT  9,839.64  C1231006815     170,136.00      160,296.36   \n",
       "1     1   PAYMENT  1,864.28  C1666544295      21,249.00       19,384.72   \n",
       "2     1  TRANSFER    181.00  C1305486145         181.00            0.00   \n",
       "3     1  CASH_OUT    181.00   C840083671         181.00            0.00   \n",
       "4     1   PAYMENT 11,668.14  C2048537720      41,554.00       29,885.86   \n",
       "\n",
       "      nameDest  oldbalanceDest  newbalanceDest  isFraud  isFlaggedFraud  \n",
       "0  M1979787155            0.00            0.00        0               0  \n",
       "1  M2044282225            0.00            0.00        0               0  \n",
       "2   C553264065            0.00            0.00        1               0  \n",
       "3    C38997010       21,182.00            0.00        1               0  \n",
       "4  M1230701703            0.00            0.00        0               0  "
      ]
     },
     "execution_count": 45,
     "metadata": {},
     "output_type": "execute_result"
    }
   ],
   "source": [
    "df.head()"
   ]
  },
  {
   "cell_type": "code",
   "execution_count": 46,
   "metadata": {},
   "outputs": [
    {
     "data": {
      "text/plain": [
       "step              0\n",
       "type              0\n",
       "amount            0\n",
       "nameOrig          0\n",
       "oldbalanceOrg     0\n",
       "newbalanceOrig    0\n",
       "nameDest          0\n",
       "oldbalanceDest    0\n",
       "newbalanceDest    0\n",
       "isFraud           0\n",
       "isFlaggedFraud    0\n",
       "dtype: int64"
      ]
     },
     "execution_count": 46,
     "metadata": {},
     "output_type": "execute_result"
    }
   ],
   "source": [
    "# Get count of null values per cokumn\n",
    "df.isnull().sum()"
   ]
  },
  {
   "cell_type": "code",
   "execution_count": 171,
   "metadata": {},
   "outputs": [
    {
     "name": "stderr",
     "output_type": "stream",
     "text": [
      "C:\\Users\\19145\\Anaconda3\\lib\\site-packages\\ipykernel_launcher.py:4: SettingWithCopyWarning: \n",
      "A value is trying to be set on a copy of a slice from a DataFrame\n",
      "\n",
      "See the caveats in the documentation: http://pandas.pydata.org/pandas-docs/stable/indexing.html#indexing-view-versus-copy\n",
      "  after removing the cwd from sys.path.\n"
     ]
    },
    {
     "data": {
      "text/html": [
       "<div>\n",
       "<style scoped>\n",
       "    .dataframe tbody tr th:only-of-type {\n",
       "        vertical-align: middle;\n",
       "    }\n",
       "\n",
       "    .dataframe tbody tr th {\n",
       "        vertical-align: top;\n",
       "    }\n",
       "\n",
       "    .dataframe thead th {\n",
       "        text-align: right;\n",
       "    }\n",
       "</style>\n",
       "<table border=\"1\" class=\"dataframe\">\n",
       "  <thead>\n",
       "    <tr style=\"text-align: right;\">\n",
       "      <th></th>\n",
       "      <th>step</th>\n",
       "      <th>type</th>\n",
       "      <th>amount</th>\n",
       "      <th>nameOrig</th>\n",
       "      <th>oldbalanceOrg</th>\n",
       "      <th>newbalanceOrig</th>\n",
       "      <th>nameDest</th>\n",
       "      <th>oldbalanceDest</th>\n",
       "      <th>newbalanceDest</th>\n",
       "      <th>isFraud</th>\n",
       "      <th>isFlaggedFraud</th>\n",
       "      <th>stepcount</th>\n",
       "    </tr>\n",
       "  </thead>\n",
       "  <tbody>\n",
       "    <tr>\n",
       "      <th>6362615</th>\n",
       "      <td>743</td>\n",
       "      <td>CASH_OUT</td>\n",
       "      <td>339,682.13</td>\n",
       "      <td>C786484425</td>\n",
       "      <td>339,682.13</td>\n",
       "      <td>0.00</td>\n",
       "      <td>C776919290</td>\n",
       "      <td>0.00</td>\n",
       "      <td>339,682.13</td>\n",
       "      <td>1</td>\n",
       "      <td>0</td>\n",
       "      <td>nan</td>\n",
       "    </tr>\n",
       "    <tr>\n",
       "      <th>6362616</th>\n",
       "      <td>743</td>\n",
       "      <td>TRANSFER</td>\n",
       "      <td>6,311,409.28</td>\n",
       "      <td>C1529008245</td>\n",
       "      <td>6,311,409.28</td>\n",
       "      <td>0.00</td>\n",
       "      <td>C1881841831</td>\n",
       "      <td>0.00</td>\n",
       "      <td>0.00</td>\n",
       "      <td>1</td>\n",
       "      <td>0</td>\n",
       "      <td>nan</td>\n",
       "    </tr>\n",
       "    <tr>\n",
       "      <th>6362617</th>\n",
       "      <td>743</td>\n",
       "      <td>CASH_OUT</td>\n",
       "      <td>6,311,409.28</td>\n",
       "      <td>C1162922333</td>\n",
       "      <td>6,311,409.28</td>\n",
       "      <td>0.00</td>\n",
       "      <td>C1365125890</td>\n",
       "      <td>68,488.84</td>\n",
       "      <td>6,379,898.11</td>\n",
       "      <td>1</td>\n",
       "      <td>0</td>\n",
       "      <td>nan</td>\n",
       "    </tr>\n",
       "    <tr>\n",
       "      <th>6362618</th>\n",
       "      <td>743</td>\n",
       "      <td>TRANSFER</td>\n",
       "      <td>850,002.52</td>\n",
       "      <td>C1685995037</td>\n",
       "      <td>850,002.52</td>\n",
       "      <td>0.00</td>\n",
       "      <td>C2080388513</td>\n",
       "      <td>0.00</td>\n",
       "      <td>0.00</td>\n",
       "      <td>1</td>\n",
       "      <td>0</td>\n",
       "      <td>nan</td>\n",
       "    </tr>\n",
       "    <tr>\n",
       "      <th>6362619</th>\n",
       "      <td>743</td>\n",
       "      <td>CASH_OUT</td>\n",
       "      <td>850,002.52</td>\n",
       "      <td>C1280323807</td>\n",
       "      <td>850,002.52</td>\n",
       "      <td>0.00</td>\n",
       "      <td>C873221189</td>\n",
       "      <td>6,510,099.11</td>\n",
       "      <td>7,360,101.63</td>\n",
       "      <td>1</td>\n",
       "      <td>0</td>\n",
       "      <td>nan</td>\n",
       "    </tr>\n",
       "  </tbody>\n",
       "</table>\n",
       "</div>"
      ],
      "text/plain": [
       "         step      type       amount     nameOrig  oldbalanceOrg  \\\n",
       "6362615   743  CASH_OUT   339,682.13   C786484425     339,682.13   \n",
       "6362616   743  TRANSFER 6,311,409.28  C1529008245   6,311,409.28   \n",
       "6362617   743  CASH_OUT 6,311,409.28  C1162922333   6,311,409.28   \n",
       "6362618   743  TRANSFER   850,002.52  C1685995037     850,002.52   \n",
       "6362619   743  CASH_OUT   850,002.52  C1280323807     850,002.52   \n",
       "\n",
       "         newbalanceOrig     nameDest  oldbalanceDest  newbalanceDest  isFraud  \\\n",
       "6362615            0.00   C776919290            0.00      339,682.13        1   \n",
       "6362616            0.00  C1881841831            0.00            0.00        1   \n",
       "6362617            0.00  C1365125890       68,488.84    6,379,898.11        1   \n",
       "6362618            0.00  C2080388513            0.00            0.00        1   \n",
       "6362619            0.00   C873221189    6,510,099.11    7,360,101.63        1   \n",
       "\n",
       "         isFlaggedFraud  stepcount  \n",
       "6362615               0        nan  \n",
       "6362616               0        nan  \n",
       "6362617               0        nan  \n",
       "6362618               0        nan  \n",
       "6362619               0        nan  "
      ]
     },
     "execution_count": 171,
     "metadata": {},
     "output_type": "execute_result"
    }
   ],
   "source": [
    "#Stepcount fills in the value_count for the default index, starting from 0, so you can check \n",
    "#top frequency 19 is the stepcount for head(20) \n",
    "df['stepcount'] = df['step'].value_counts()\n",
    "df['stepcount'][0] = 0\n",
    "df.tail()\n",
    "#print(df['stepcount'].sum())\n",
    "#print(df['stepcount'].value_counts(sort=True).head(5))"
   ]
  },
  {
   "cell_type": "code",
   "execution_count": 196,
   "metadata": {},
   "outputs": [
    {
     "data": {
      "text/plain": [
       "<matplotlib.axes._subplots.AxesSubplot at 0x2093dcb6828>"
      ]
     },
     "execution_count": 196,
     "metadata": {},
     "output_type": "execute_result"
    },
    {
     "data": {
      "image/png": "[encoded data removed]",
      "text/plain": [
       "<Figure size 864x288 with 1 Axes>"
      ]
     },
     "metadata": {
      "needs_background": "light"
     },
     "output_type": "display_data"
    }
   ],
   "source": [
    "df['step'].hist(figsize=(12,4), bins=743)"
   ]
  },
  {
   "cell_type": "code",
   "execution_count": 179,
   "metadata": {},
   "outputs": [
    {
     "name": "stdout",
     "output_type": "stream",
     "text": [
      "19     51352\n",
      "18     49579\n",
      "187    49083\n",
      "235    47491\n",
      "307    46968\n",
      "163    46352\n",
      "139    46054\n",
      "403    45155\n",
      "43     45060\n",
      "355    44787\n",
      "15     44609\n",
      "186    43747\n",
      "306    43615\n",
      "17     43361\n",
      "259    43328\n",
      "16     42471\n",
      "379    41759\n",
      "14     41485\n",
      "42     41304\n",
      "354    40696\n",
      "20     40625\n",
      "162    40622\n",
      "402    40218\n",
      "331    40186\n",
      "36     39774\n",
      "164    39102\n",
      "188    39079\n",
      "44     38523\n",
      "380    37693\n",
      "9      37628\n",
      "13     37515\n",
      "185    37323\n",
      "11     37241\n",
      "378    37127\n",
      "236    37109\n",
      "140    37012\n",
      "308    36983\n",
      "211    36889\n",
      "204    36856\n",
      "404    36726\n",
      "330    36682\n",
      "283    36644\n",
      "131    36375\n",
      "41     36348\n",
      "203    36176\n",
      "332    36156\n",
      "12     36153\n",
      "10     35991\n",
      "132    35936\n",
      "252    35590\n",
      "Name: step, dtype: int64\n"
     ]
    },
    {
     "data": {
      "text/plain": [
       "Text(0, 0.5, 'transaction count')"
      ]
     },
     "execution_count": 179,
     "metadata": {},
     "output_type": "execute_result"
    },
    {
     "data": {
      "image/png": "[encoded data removed]",
      "text/plain": [
       "<Figure size 864x288 with 1 Axes>"
      ]
     },
     "metadata": {
      "needs_background": "light"
     },
     "output_type": "display_data"
    }
   ],
   "source": [
    "# Check frequency of step, which represents an hour time interval.  \n",
    "# All periods have some transaction, and there is a cluster of periods with the most activity. \n",
    "print(df['step'].value_counts(sort=True).head(50))\n",
    "#print(df['step'].value_counts(sort=True).tail(5))\n",
    "#print(df['step'].value_counts().describe())\n",
    "#print(df['step'].nunique())\n",
    "#df['step'].value_counts().hist()\n",
    "#plt.axvline(df['step'].value_counts().mean(), color='k', linestyle='dashed', linewidth=1)\n",
    "#df['stepcount'].hist()\n",
    "#plt.axvline(df['step'].value_counts().mean(), linestyle='dashed')\n",
    "#plt.axvline(df['step'].value_counts().median(), linestyle='dashed', color='k')\n",
    "#plt.show()\n",
    "#df['step'].value_counts().plot(kind='bar')\n",
    "#plt.axvline(df['step'].value_counts().mean(), linestyle='dotted', linewidth=100)\n",
    "#plt.axvline(df['step'].value_counts().median(), linestyle='dashed', color='k')\n",
    "#plt.show()data:image/png;base64,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\n",
    "#df.plot.scatter(\"step\", \"amount\")\n",
    "# Plot number of datapoints of each time interval\n",
    "plt.figure(figsize=(12,4))\n",
    "sns.distplot(df.step, kde=False )\n",
    "plt.title('Time Series all steps (F-D bins)')\n",
    "plt.ylabel('transaction count')"
   ]
  },
  {
   "cell_type": "code",
   "execution_count": 178,
   "metadata": {},
   "outputs": [
    {
     "data": {
      "text/plain": [
       "Text(0, 0.5, 'transaction count')"
      ]
     },
     "execution_count": 178,
     "metadata": {},
     "output_type": "execute_result"
    },
    {
     "data": {
      "image/png": "[encoded data removed]",
      "text/plain": [
       "<Figure size 864x288 with 1 Axes>"
      ]
     },
     "metadata": {
      "needs_background": "light"
     },
     "output_type": "display_data"
    }
   ],
   "source": [
    "plt.figure(figsize=(12,4))\n",
    "sns.distplot(df.step, kde=False, bins=744 )\n",
    "plt.title('Time Series all steps (hourly)')\n",
    "plt.ylabel('transaction count')"
   ]
  },
  {
   "cell_type": "code",
   "execution_count": 159,
   "metadata": {},
   "outputs": [
    {
     "data": {
      "text/plain": [
       "Text(0.5, 1.0, 'Time Series isFraud')"
      ]
     },
     "execution_count": 159,
     "metadata": {},
     "output_type": "execute_result"
    },
    {
     "data": {
      "image/png": "[encoded data removed]",
      "text/plain": [
       "<Figure size 864x288 with 1 Axes>"
      ]
     },
     "metadata": {
      "needs_background": "light"
     },
     "output_type": "display_data"
    }
   ],
   "source": [
    "dffraud = df[df.isFraud == 1]\n",
    "plt.figure(figsize=(12,4))\n",
    "sns.distplot(dffraud.step, bins=743, kde=False)\n",
    "plt.title('Time Series isFraud')\n",
    "#plt.ylabel('transaction count')"
   ]
  },
  {
   "cell_type": "code",
   "execution_count": 54,
   "metadata": {},
   "outputs": [
    {
     "data": {
      "text/plain": [
       "CASH_OUT    2237500\n",
       "PAYMENT     2151495\n",
       "CASH_IN     1399284\n",
       "TRANSFER     532909\n",
       "DEBIT         41432\n",
       "Name: type, dtype: int64"
      ]
     },
     "execution_count": 54,
     "metadata": {},
     "output_type": "execute_result"
    },
    {
     "data": {
      "image/png": "[encoded data removed]",
      "text/plain": [
       "<Figure size 432x288 with 1 Axes>"
      ]
     },
     "metadata": {},
     "output_type": "display_data"
    }
   ],
   "source": [
    "# Get count of unique values for \"type\" field and display pie chart distribution \n",
    "df.type.value_counts().plot.pie(autopct='%.2f%%')\n",
    "df['type'].value_counts()"
   ]
  },
  {
   "cell_type": "code",
   "execution_count": 224,
   "metadata": {},
   "outputs": [
    {
     "data": {
      "text/html": [
       "<div>\n",
       "<style scoped>\n",
       "    .dataframe tbody tr th:only-of-type {\n",
       "        vertical-align: middle;\n",
       "    }\n",
       "\n",
       "    .dataframe tbody tr th {\n",
       "        vertical-align: top;\n",
       "    }\n",
       "\n",
       "    .dataframe thead th {\n",
       "        text-align: right;\n",
       "    }\n",
       "</style>\n",
       "<table border=\"1\" class=\"dataframe\">\n",
       "  <thead>\n",
       "    <tr style=\"text-align: right;\">\n",
       "      <th>isFraud</th>\n",
       "      <th>0</th>\n",
       "      <th>1</th>\n",
       "    </tr>\n",
       "    <tr>\n",
       "      <th>type</th>\n",
       "      <th></th>\n",
       "      <th></th>\n",
       "    </tr>\n",
       "  </thead>\n",
       "  <tbody>\n",
       "    <tr>\n",
       "      <th>CASH_IN</th>\n",
       "      <td>1399284</td>\n",
       "      <td>0</td>\n",
       "    </tr>\n",
       "    <tr>\n",
       "      <th>CASH_OUT</th>\n",
       "      <td>2233384</td>\n",
       "      <td>4116</td>\n",
       "    </tr>\n",
       "    <tr>\n",
       "      <th>DEBIT</th>\n",
       "      <td>41432</td>\n",
       "      <td>0</td>\n",
       "    </tr>\n",
       "    <tr>\n",
       "      <th>PAYMENT</th>\n",
       "      <td>2151495</td>\n",
       "      <td>0</td>\n",
       "    </tr>\n",
       "    <tr>\n",
       "      <th>TRANSFER</th>\n",
       "      <td>528812</td>\n",
       "      <td>4097</td>\n",
       "    </tr>\n",
       "  </tbody>\n",
       "</table>\n",
       "</div>"
      ],
      "text/plain": [
       "isFraud         0     1\n",
       "type                   \n",
       "CASH_IN   1399284     0\n",
       "CASH_OUT  2233384  4116\n",
       "DEBIT       41432     0\n",
       "PAYMENT   2151495     0\n",
       "TRANSFER   528812  4097"
      ]
     },
     "execution_count": 224,
     "metadata": {},
     "output_type": "execute_result"
    }
   ],
   "source": [
    "pd.crosstab(df.type, df.isFraud)"
   ]
  },
  {
   "cell_type": "code",
   "execution_count": 55,
   "metadata": {},
   "outputs": [
    {
     "name": "stdout",
     "output_type": "stream",
     "text": [
      "The ratio of zero values is 0.00030000000000000003% or 16 of 6,362,620\n"
     ]
    }
   ],
   "source": [
    "# Check the count of value zero \"0\" for \"amount\" column\n",
    "# Investigate further how \"0\" could be the value for a transaction amount\n",
    "zero_amount = df[df.amount == 0]\n",
    "print('The ratio of zero values is ' + str(round(len(zero_amount)/len(df['amount']),6)*100) + '% or ' \n",
    "      + '{0:,.0f}'.format(len(zero_amount)) + ' of ' +'{0:,.0f}'.format(len(df['amount'])))"
   ]
  },
  {
   "cell_type": "code",
   "execution_count": 57,
   "metadata": {},
   "outputs": [
    {
     "name": "stdout",
     "output_type": "stream",
     "text": [
      "count         6362620\n",
      "unique        6353307\n",
      "top       C1784010646\n",
      "freq                3\n",
      "Name: nameOrig, dtype: object\n",
      "The percentage of unique accounts is 99.8536 or 9,313 non-unique accounts out of 6,362,620\n"
     ]
    }
   ],
   "source": [
    "# Check the frequency stats from describe() for origin account\n",
    "# The top frequency for any one account is 3\n",
    "print(df['nameOrig'].describe())\n",
    "print('The percentage of unique accounts is ' + '{0:,.4f}'.format((df['nameOrig'].nunique())/len(df['nameOrig'])*100) + ' or ' \n",
    "     + '{0:,.0f}'.format(len(df['nameOrig'])-df['nameOrig'].nunique()) + ' non-unique accounts out of ' + '{0:,.0f}'.format(len(df['nameOrig'])) )"
   ]
  },
  {
   "cell_type": "code",
   "execution_count": 58,
   "metadata": {},
   "outputs": [
    {
     "name": "stdout",
     "output_type": "stream",
     "text": [
      "The ratio of zero values is 0.33 or 2,102,449 of 6,362,620\n"
     ]
    }
   ],
   "source": [
    "# Check the count of value zero \"0\" for \"oldbalanceOrg\" column \n",
    "zero_oldbalanceOrg = df[df.oldbalanceOrg == 0]\n",
    "print('The ratio of zero values is ' + str(round(len(zero_oldbalanceOrg)/len(df['oldbalanceOrg']),2)) + ' or ' \n",
    "      + '{0:,.0f}'.format(len(zero_oldbalanceOrg)) + ' of ' +'{0:,.0f}'.format(len(df['oldbalanceOrg'])))"
   ]
  },
  {
   "cell_type": "code",
   "execution_count": 59,
   "metadata": {},
   "outputs": [
    {
     "name": "stdout",
     "output_type": "stream",
     "text": [
      "The ratio of zero values is 0.57 or 3,609,566 of 6,362,620\n"
     ]
    }
   ],
   "source": [
    "# Check the count of value zero \"0\" for a \"newbalanceOrig\" column\n",
    "zero_newbalanceOrig = df[df.newbalanceOrig == 0]\n",
    "print('The ratio of zero values is ' + str(round(len(zero_newbalanceOrig)/len(df['newbalanceOrig']),2)) + ' or ' \n",
    "      + '{0:,.0f}'.format(len(zero_newbalanceOrig)) + ' of ' +'{0:,.0f}'.format(len(df['newbalanceOrig'])))"
   ]
  },
  {
   "cell_type": "code",
   "execution_count": 60,
   "metadata": {},
   "outputs": [
    {
     "name": "stdout",
     "output_type": "stream",
     "text": [
      "C1286084959    113\n",
      "C985934102     109\n",
      "C665576141     105\n",
      "C2083562754    102\n",
      "C248609774     101\n",
      "Name: nameDest, dtype: int64\n",
      "M1634617414    1\n",
      "M1067336007    1\n",
      "M1816415501    1\n",
      "M1786680731    1\n",
      "C997821903     1\n",
      "Name: nameDest, dtype: int64\n",
      "count         6362620\n",
      "unique        2722362\n",
      "top       C1286084959\n",
      "freq              113\n",
      "Name: nameDest, dtype: object\n",
      "The percentage of unique accounts is 42.7868 or 3,640,258 non-unique accounts out of 6,362,620\n"
     ]
    }
   ],
   "source": [
    "# Check the frequency stats from describe() for destination account, \n",
    "# Note the top frequency for destination accounts is 113, several accounts are used nearly as frequently\n",
    "# And the number of unique accounts is nearly half the number of transactions\n",
    "print(df['nameDest'].value_counts(sort=True).head(5))\n",
    "print(df['nameDest'].value_counts(sort=True).tail(5))\n",
    "print(df['nameDest'].describe())\n",
    "print('The percentage of unique accounts is ' + '{0:,.4f}'.format((df['nameDest'].nunique())/len(df['nameDest'])*100) + ' or ' \n",
    "     + '{0:,.0f}'.format(len(df['nameDest'])-df['nameDest'].nunique()) + ' non-unique accounts out of ' + '{0:,.0f}'.format(len(df['nameDest'])) )"
   ]
  },
  {
   "cell_type": "code",
   "execution_count": 61,
   "metadata": {},
   "outputs": [
    {
     "name": "stdout",
     "output_type": "stream",
     "text": [
      "The ratio of zero values is 0.43 or 2,704,388 of 6,362,620\n"
     ]
    }
   ],
   "source": [
    "# Check the count of value zero \"0\" for \"oldbalanceDest\" column\n",
    "zero_oldbalanceDest = df[df.oldbalanceDest == 0]\n",
    "print('The ratio of zero values is ' + str(round(len(zero_oldbalanceDest)/len(df['oldbalanceDest']),2)) + ' or ' \n",
    "      + '{0:,.0f}'.format(len(zero_oldbalanceDest)) + ' of ' +'{0:,.0f}'.format(len(df['oldbalanceDest'])))"
   ]
  },
  {
   "cell_type": "code",
   "execution_count": 62,
   "metadata": {},
   "outputs": [
    {
     "name": "stdout",
     "output_type": "stream",
     "text": [
      "The ratio of zero values is 0.38 or 2,439,433 of 6,362,620\n"
     ]
    }
   ],
   "source": [
    "# Check the count of value zero \"0\" for \"newbalanceDest\" column\n",
    "zero_newbalanceDest = df[df.newbalanceDest == 0]\n",
    "print('The ratio of zero values is ' + str(round(len(zero_newbalanceDest)/len(df['newbalanceDest']),2)) + ' or ' \n",
    "      + '{0:,.0f}'.format(len(zero_newbalanceDest)) + ' of ' +'{0:,.0f}'.format(len(df['newbalanceDest'])))"
   ]
  },
  {
   "cell_type": "code",
   "execution_count": 63,
   "metadata": {},
   "outputs": [
    {
     "name": "stdout",
     "output_type": "stream",
     "text": [
      "The ratio of zero values is 0.998709 or 6,354,407 of 6,362,620\n",
      "The number of isFraud cases is 8,213\n"
     ]
    },
    {
     "data": {
      "image/png": "[encoded data removed]",
      "text/plain": [
       "<Figure size 432x288 with 1 Axes>"
      ]
     },
     "metadata": {},
     "output_type": "display_data"
    }
   ],
   "source": [
    "# Check the count of value zero \"0\" for \"isFraud\" column and show pie chart\n",
    "# The zero is a boolean indicator, and represents a small percentage of the population\n",
    "zero_isFraud = df[df.isFraud == 0]\n",
    "print('The ratio of zero values is ' + str(round(len(zero_isFraud)/len(df['isFraud']),6)) + ' or ' \n",
    "      + '{0:,.0f}'.format(len(zero_isFraud)) + ' of ' +'{0:,.0f}'.format(len(df['isFraud'])))\n",
    "print('The number of isFraud cases is ' + '{0:,.0f}'.format(len(df['isFraud'])-len(zero_isFraud)))\n",
    "df.isFraud.value_counts().plot.pie(autopct='%.4f%%')\n",
    "plt.title('Class Distribution \"isFraud\"')\n",
    "plt.tight_layout()"
   ]
  },
  {
   "cell_type": "code",
   "execution_count": 64,
   "metadata": {},
   "outputs": [
    {
     "name": "stdout",
     "output_type": "stream",
     "text": [
      "The ratio of zero values is 0.999997 or 6,362,604 of 6,362,620\n",
      "The number of isFlaggedFraud cases is 16\n"
     ]
    },
    {
     "data": {
      "image/png": "[encoded data removed]",
      "text/plain": [
       "<Figure size 432x288 with 1 Axes>"
      ]
     },
     "metadata": {},
     "output_type": "display_data"
    }
   ],
   "source": [
    "# Check the count of value zero \"0\" for \"isFlaggedFraud\" column\n",
    "# The zero is a boolean indicator, and represents a small percentage of the population \n",
    "zero_isFlaggedFraud = df[df.isFlaggedFraud == 0]\n",
    "print('The ratio of zero values is ' + str(round(len(zero_isFlaggedFraud)/len(df['isFlaggedFraud']),6)) + ' or ' \n",
    "      + '{0:,.0f}'.format(len(zero_isFlaggedFraud)) + ' of ' +'{0:,.0f}'.format(len(df['isFlaggedFraud'])))\n",
    "print('The number of isFlaggedFraud cases is ' + '{0:,.0f}'.format(len(df['isFlaggedFraud'])-len(zero_isFlaggedFraud)))\n",
    "df.isFlaggedFraud.value_counts().plot.pie(autopct='%.4f%%')\n",
    "plt.title('Class Distribution \"isFlaggedFraud\"')\n",
    "plt.tight_layout()"
   ]
  },
  {
   "cell_type": "code",
   "execution_count": 65,
   "metadata": {},
   "outputs": [
    {
     "data": {
      "text/html": [
       "<div>\n",
       "<style scoped>\n",
       "    .dataframe tbody tr th:only-of-type {\n",
       "        vertical-align: middle;\n",
       "    }\n",
       "\n",
       "    .dataframe tbody tr th {\n",
       "        vertical-align: top;\n",
       "    }\n",
       "\n",
       "    .dataframe thead th {\n",
       "        text-align: right;\n",
       "    }\n",
       "</style>\n",
       "<table border=\"1\" class=\"dataframe\">\n",
       "  <thead>\n",
       "    <tr style=\"text-align: right;\">\n",
       "      <th></th>\n",
       "      <th>step</th>\n",
       "      <th>type</th>\n",
       "      <th>amount</th>\n",
       "      <th>nameOrig</th>\n",
       "      <th>oldbalanceOrg</th>\n",
       "      <th>newbalanceOrig</th>\n",
       "      <th>nameDest</th>\n",
       "      <th>oldbalanceDest</th>\n",
       "      <th>newbalanceDest</th>\n",
       "      <th>isFraud</th>\n",
       "      <th>isFlaggedFraud</th>\n",
       "    </tr>\n",
       "  </thead>\n",
       "  <tbody>\n",
       "    <tr>\n",
       "      <th>2736447</th>\n",
       "      <td>212</td>\n",
       "      <td>CASH_OUT</td>\n",
       "      <td>0.00</td>\n",
       "      <td>C1510987794</td>\n",
       "      <td>0.00</td>\n",
       "      <td>0.00</td>\n",
       "      <td>C1696624817</td>\n",
       "      <td>0.00</td>\n",
       "      <td>0.00</td>\n",
       "      <td>1</td>\n",
       "      <td>0</td>\n",
       "    </tr>\n",
       "    <tr>\n",
       "      <th>3247298</th>\n",
       "      <td>250</td>\n",
       "      <td>CASH_OUT</td>\n",
       "      <td>0.00</td>\n",
       "      <td>C521393327</td>\n",
       "      <td>0.00</td>\n",
       "      <td>0.00</td>\n",
       "      <td>C480398193</td>\n",
       "      <td>0.00</td>\n",
       "      <td>0.00</td>\n",
       "      <td>1</td>\n",
       "      <td>0</td>\n",
       "    </tr>\n",
       "    <tr>\n",
       "      <th>3760289</th>\n",
       "      <td>279</td>\n",
       "      <td>CASH_OUT</td>\n",
       "      <td>0.00</td>\n",
       "      <td>C539112012</td>\n",
       "      <td>0.00</td>\n",
       "      <td>0.00</td>\n",
       "      <td>C1106468520</td>\n",
       "      <td>538,547.63</td>\n",
       "      <td>538,547.63</td>\n",
       "      <td>1</td>\n",
       "      <td>0</td>\n",
       "    </tr>\n",
       "    <tr>\n",
       "      <th>5563714</th>\n",
       "      <td>387</td>\n",
       "      <td>CASH_OUT</td>\n",
       "      <td>0.00</td>\n",
       "      <td>C1294472700</td>\n",
       "      <td>0.00</td>\n",
       "      <td>0.00</td>\n",
       "      <td>C1325541393</td>\n",
       "      <td>7,970,766.57</td>\n",
       "      <td>7,970,766.57</td>\n",
       "      <td>1</td>\n",
       "      <td>0</td>\n",
       "    </tr>\n",
       "    <tr>\n",
       "      <th>5996408</th>\n",
       "      <td>425</td>\n",
       "      <td>CASH_OUT</td>\n",
       "      <td>0.00</td>\n",
       "      <td>C832555372</td>\n",
       "      <td>0.00</td>\n",
       "      <td>0.00</td>\n",
       "      <td>C1462759334</td>\n",
       "      <td>76,759.90</td>\n",
       "      <td>76,759.90</td>\n",
       "      <td>1</td>\n",
       "      <td>0</td>\n",
       "    </tr>\n",
       "    <tr>\n",
       "      <th>5996410</th>\n",
       "      <td>425</td>\n",
       "      <td>CASH_OUT</td>\n",
       "      <td>0.00</td>\n",
       "      <td>C69493310</td>\n",
       "      <td>0.00</td>\n",
       "      <td>0.00</td>\n",
       "      <td>C719711728</td>\n",
       "      <td>2,921,531.34</td>\n",
       "      <td>2,921,531.34</td>\n",
       "      <td>1</td>\n",
       "      <td>0</td>\n",
       "    </tr>\n",
       "    <tr>\n",
       "      <th>6168500</th>\n",
       "      <td>554</td>\n",
       "      <td>CASH_OUT</td>\n",
       "      <td>0.00</td>\n",
       "      <td>C10965156</td>\n",
       "      <td>0.00</td>\n",
       "      <td>0.00</td>\n",
       "      <td>C1493336195</td>\n",
       "      <td>230,289.66</td>\n",
       "      <td>230,289.66</td>\n",
       "      <td>1</td>\n",
       "      <td>0</td>\n",
       "    </tr>\n",
       "    <tr>\n",
       "      <th>6205440</th>\n",
       "      <td>586</td>\n",
       "      <td>CASH_OUT</td>\n",
       "      <td>0.00</td>\n",
       "      <td>C1303719003</td>\n",
       "      <td>0.00</td>\n",
       "      <td>0.00</td>\n",
       "      <td>C900608348</td>\n",
       "      <td>1,328,472.86</td>\n",
       "      <td>1,328,472.86</td>\n",
       "      <td>1</td>\n",
       "      <td>0</td>\n",
       "    </tr>\n",
       "    <tr>\n",
       "      <th>6266414</th>\n",
       "      <td>617</td>\n",
       "      <td>CASH_OUT</td>\n",
       "      <td>0.00</td>\n",
       "      <td>C1971175979</td>\n",
       "      <td>0.00</td>\n",
       "      <td>0.00</td>\n",
       "      <td>C1352345416</td>\n",
       "      <td>0.00</td>\n",
       "      <td>0.00</td>\n",
       "      <td>1</td>\n",
       "      <td>0</td>\n",
       "    </tr>\n",
       "    <tr>\n",
       "      <th>6281483</th>\n",
       "      <td>646</td>\n",
       "      <td>CASH_OUT</td>\n",
       "      <td>0.00</td>\n",
       "      <td>C2060908932</td>\n",
       "      <td>0.00</td>\n",
       "      <td>0.00</td>\n",
       "      <td>C1587892888</td>\n",
       "      <td>0.00</td>\n",
       "      <td>0.00</td>\n",
       "      <td>1</td>\n",
       "      <td>0</td>\n",
       "    </tr>\n",
       "    <tr>\n",
       "      <th>6281485</th>\n",
       "      <td>646</td>\n",
       "      <td>CASH_OUT</td>\n",
       "      <td>0.00</td>\n",
       "      <td>C1997645312</td>\n",
       "      <td>0.00</td>\n",
       "      <td>0.00</td>\n",
       "      <td>C601248796</td>\n",
       "      <td>0.00</td>\n",
       "      <td>0.00</td>\n",
       "      <td>1</td>\n",
       "      <td>0</td>\n",
       "    </tr>\n",
       "    <tr>\n",
       "      <th>6296015</th>\n",
       "      <td>671</td>\n",
       "      <td>CASH_OUT</td>\n",
       "      <td>0.00</td>\n",
       "      <td>C1960007029</td>\n",
       "      <td>0.00</td>\n",
       "      <td>0.00</td>\n",
       "      <td>C459118517</td>\n",
       "      <td>27,938.72</td>\n",
       "      <td>27,938.72</td>\n",
       "      <td>1</td>\n",
       "      <td>0</td>\n",
       "    </tr>\n",
       "    <tr>\n",
       "      <th>6351226</th>\n",
       "      <td>702</td>\n",
       "      <td>CASH_OUT</td>\n",
       "      <td>0.00</td>\n",
       "      <td>C1461113533</td>\n",
       "      <td>0.00</td>\n",
       "      <td>0.00</td>\n",
       "      <td>C1382150537</td>\n",
       "      <td>107,777.02</td>\n",
       "      <td>107,777.02</td>\n",
       "      <td>1</td>\n",
       "      <td>0</td>\n",
       "    </tr>\n",
       "    <tr>\n",
       "      <th>6362461</th>\n",
       "      <td>730</td>\n",
       "      <td>CASH_OUT</td>\n",
       "      <td>0.00</td>\n",
       "      <td>C729003789</td>\n",
       "      <td>0.00</td>\n",
       "      <td>0.00</td>\n",
       "      <td>C1388096959</td>\n",
       "      <td>1,008,609.53</td>\n",
       "      <td>1,008,609.53</td>\n",
       "      <td>1</td>\n",
       "      <td>0</td>\n",
       "    </tr>\n",
       "    <tr>\n",
       "      <th>6362463</th>\n",
       "      <td>730</td>\n",
       "      <td>CASH_OUT</td>\n",
       "      <td>0.00</td>\n",
       "      <td>C2088151490</td>\n",
       "      <td>0.00</td>\n",
       "      <td>0.00</td>\n",
       "      <td>C1156763710</td>\n",
       "      <td>0.00</td>\n",
       "      <td>0.00</td>\n",
       "      <td>1</td>\n",
       "      <td>0</td>\n",
       "    </tr>\n",
       "    <tr>\n",
       "      <th>6362585</th>\n",
       "      <td>741</td>\n",
       "      <td>CASH_OUT</td>\n",
       "      <td>0.00</td>\n",
       "      <td>C312737633</td>\n",
       "      <td>0.00</td>\n",
       "      <td>0.00</td>\n",
       "      <td>C1400061387</td>\n",
       "      <td>267,522.87</td>\n",
       "      <td>267,522.87</td>\n",
       "      <td>1</td>\n",
       "      <td>0</td>\n",
       "    </tr>\n",
       "  </tbody>\n",
       "</table>\n",
       "</div>"
      ],
      "text/plain": [
       "         step      type  amount     nameOrig  oldbalanceOrg  newbalanceOrig  \\\n",
       "2736447   212  CASH_OUT    0.00  C1510987794           0.00            0.00   \n",
       "3247298   250  CASH_OUT    0.00   C521393327           0.00            0.00   \n",
       "3760289   279  CASH_OUT    0.00   C539112012           0.00            0.00   \n",
       "5563714   387  CASH_OUT    0.00  C1294472700           0.00            0.00   \n",
       "5996408   425  CASH_OUT    0.00   C832555372           0.00            0.00   \n",
       "5996410   425  CASH_OUT    0.00    C69493310           0.00            0.00   \n",
       "6168500   554  CASH_OUT    0.00    C10965156           0.00            0.00   \n",
       "6205440   586  CASH_OUT    0.00  C1303719003           0.00            0.00   \n",
       "6266414   617  CASH_OUT    0.00  C1971175979           0.00            0.00   \n",
       "6281483   646  CASH_OUT    0.00  C2060908932           0.00            0.00   \n",
       "6281485   646  CASH_OUT    0.00  C1997645312           0.00            0.00   \n",
       "6296015   671  CASH_OUT    0.00  C1960007029           0.00            0.00   \n",
       "6351226   702  CASH_OUT    0.00  C1461113533           0.00            0.00   \n",
       "6362461   730  CASH_OUT    0.00   C729003789           0.00            0.00   \n",
       "6362463   730  CASH_OUT    0.00  C2088151490           0.00            0.00   \n",
       "6362585   741  CASH_OUT    0.00   C312737633           0.00            0.00   \n",
       "\n",
       "            nameDest  oldbalanceDest  newbalanceDest  isFraud  isFlaggedFraud  \n",
       "2736447  C1696624817            0.00            0.00        1               0  \n",
       "3247298   C480398193            0.00            0.00        1               0  \n",
       "3760289  C1106468520      538,547.63      538,547.63        1               0  \n",
       "5563714  C1325541393    7,970,766.57    7,970,766.57        1               0  \n",
       "5996408  C1462759334       76,759.90       76,759.90        1               0  \n",
       "5996410   C719711728    2,921,531.34    2,921,531.34        1               0  \n",
       "6168500  C1493336195      230,289.66      230,289.66        1               0  \n",
       "6205440   C900608348    1,328,472.86    1,328,472.86        1               0  \n",
       "6266414  C1352345416            0.00            0.00        1               0  \n",
       "6281483  C1587892888            0.00            0.00        1               0  \n",
       "6281485   C601248796            0.00            0.00        1               0  \n",
       "6296015   C459118517       27,938.72       27,938.72        1               0  \n",
       "6351226  C1382150537      107,777.02      107,777.02        1               0  \n",
       "6362461  C1388096959    1,008,609.53    1,008,609.53        1               0  \n",
       "6362463  C1156763710            0.00            0.00        1               0  \n",
       "6362585  C1400061387      267,522.87      267,522.87        1               0  "
      ]
     },
     "execution_count": 65,
     "metadata": {},
     "output_type": "execute_result"
    }
   ],
   "source": [
    "# The isFlaggedFraud indicator coincides with the only zero amounts\n",
    "zero_amount.head(20)"
   ]
  },
  {
   "cell_type": "code",
   "execution_count": 66,
   "metadata": {},
   "outputs": [
    {
     "data": {
      "text/html": [
       "<div>\n",
       "<style scoped>\n",
       "    .dataframe tbody tr th:only-of-type {\n",
       "        vertical-align: middle;\n",
       "    }\n",
       "\n",
       "    .dataframe tbody tr th {\n",
       "        vertical-align: top;\n",
       "    }\n",
       "\n",
       "    .dataframe thead th {\n",
       "        text-align: right;\n",
       "    }\n",
       "</style>\n",
       "<table border=\"1\" class=\"dataframe\">\n",
       "  <thead>\n",
       "    <tr style=\"text-align: right;\">\n",
       "      <th></th>\n",
       "      <th>step</th>\n",
       "      <th>type</th>\n",
       "      <th>amount</th>\n",
       "      <th>nameOrig</th>\n",
       "      <th>oldbalanceOrg</th>\n",
       "      <th>newbalanceOrig</th>\n",
       "      <th>nameDest</th>\n",
       "      <th>oldbalanceDest</th>\n",
       "      <th>newbalanceDest</th>\n",
       "      <th>isFraud</th>\n",
       "      <th>isFlaggedFraud</th>\n",
       "    </tr>\n",
       "  </thead>\n",
       "  <tbody>\n",
       "    <tr>\n",
       "      <th>6362600</th>\n",
       "      <td>742</td>\n",
       "      <td>TRANSFER</td>\n",
       "      <td>652,993.91</td>\n",
       "      <td>C40604503</td>\n",
       "      <td>652,993.91</td>\n",
       "      <td>0.00</td>\n",
       "      <td>C1166857907</td>\n",
       "      <td>0.00</td>\n",
       "      <td>0.00</td>\n",
       "      <td>1</td>\n",
       "      <td>0</td>\n",
       "    </tr>\n",
       "    <tr>\n",
       "      <th>6362601</th>\n",
       "      <td>742</td>\n",
       "      <td>CASH_OUT</td>\n",
       "      <td>652,993.91</td>\n",
       "      <td>C1614818636</td>\n",
       "      <td>652,993.91</td>\n",
       "      <td>0.00</td>\n",
       "      <td>C362803701</td>\n",
       "      <td>0.00</td>\n",
       "      <td>652,993.91</td>\n",
       "      <td>1</td>\n",
       "      <td>0</td>\n",
       "    </tr>\n",
       "    <tr>\n",
       "      <th>6362602</th>\n",
       "      <td>742</td>\n",
       "      <td>TRANSFER</td>\n",
       "      <td>1,819,543.69</td>\n",
       "      <td>C2089752665</td>\n",
       "      <td>1,819,543.69</td>\n",
       "      <td>0.00</td>\n",
       "      <td>C112833674</td>\n",
       "      <td>0.00</td>\n",
       "      <td>0.00</td>\n",
       "      <td>1</td>\n",
       "      <td>0</td>\n",
       "    </tr>\n",
       "    <tr>\n",
       "      <th>6362603</th>\n",
       "      <td>742</td>\n",
       "      <td>CASH_OUT</td>\n",
       "      <td>1,819,543.69</td>\n",
       "      <td>C1039979813</td>\n",
       "      <td>1,819,543.69</td>\n",
       "      <td>0.00</td>\n",
       "      <td>C2078394828</td>\n",
       "      <td>0.00</td>\n",
       "      <td>1,819,543.69</td>\n",
       "      <td>1</td>\n",
       "      <td>0</td>\n",
       "    </tr>\n",
       "    <tr>\n",
       "      <th>6362604</th>\n",
       "      <td>742</td>\n",
       "      <td>TRANSFER</td>\n",
       "      <td>54,652.46</td>\n",
       "      <td>C1674778854</td>\n",
       "      <td>54,652.46</td>\n",
       "      <td>0.00</td>\n",
       "      <td>C1930074465</td>\n",
       "      <td>0.00</td>\n",
       "      <td>0.00</td>\n",
       "      <td>1</td>\n",
       "      <td>0</td>\n",
       "    </tr>\n",
       "    <tr>\n",
       "      <th>6362605</th>\n",
       "      <td>742</td>\n",
       "      <td>CASH_OUT</td>\n",
       "      <td>54,652.46</td>\n",
       "      <td>C43545501</td>\n",
       "      <td>54,652.46</td>\n",
       "      <td>0.00</td>\n",
       "      <td>C830041824</td>\n",
       "      <td>0.00</td>\n",
       "      <td>54,652.46</td>\n",
       "      <td>1</td>\n",
       "      <td>0</td>\n",
       "    </tr>\n",
       "    <tr>\n",
       "      <th>6362606</th>\n",
       "      <td>742</td>\n",
       "      <td>TRANSFER</td>\n",
       "      <td>303,846.74</td>\n",
       "      <td>C959102961</td>\n",
       "      <td>303,846.74</td>\n",
       "      <td>0.00</td>\n",
       "      <td>C114421319</td>\n",
       "      <td>0.00</td>\n",
       "      <td>0.00</td>\n",
       "      <td>1</td>\n",
       "      <td>0</td>\n",
       "    </tr>\n",
       "    <tr>\n",
       "      <th>6362607</th>\n",
       "      <td>742</td>\n",
       "      <td>CASH_OUT</td>\n",
       "      <td>303,846.74</td>\n",
       "      <td>C1148860488</td>\n",
       "      <td>303,846.74</td>\n",
       "      <td>0.00</td>\n",
       "      <td>C846260566</td>\n",
       "      <td>343,660.89</td>\n",
       "      <td>647,507.63</td>\n",
       "      <td>1</td>\n",
       "      <td>0</td>\n",
       "    </tr>\n",
       "    <tr>\n",
       "      <th>6362608</th>\n",
       "      <td>742</td>\n",
       "      <td>TRANSFER</td>\n",
       "      <td>258,355.42</td>\n",
       "      <td>C1226129332</td>\n",
       "      <td>258,355.42</td>\n",
       "      <td>0.00</td>\n",
       "      <td>C1744173808</td>\n",
       "      <td>0.00</td>\n",
       "      <td>0.00</td>\n",
       "      <td>1</td>\n",
       "      <td>0</td>\n",
       "    </tr>\n",
       "    <tr>\n",
       "      <th>6362609</th>\n",
       "      <td>742</td>\n",
       "      <td>CASH_OUT</td>\n",
       "      <td>258,355.42</td>\n",
       "      <td>C1113162093</td>\n",
       "      <td>258,355.42</td>\n",
       "      <td>0.00</td>\n",
       "      <td>C797688696</td>\n",
       "      <td>25,176.67</td>\n",
       "      <td>283,532.09</td>\n",
       "      <td>1</td>\n",
       "      <td>0</td>\n",
       "    </tr>\n",
       "    <tr>\n",
       "      <th>6362610</th>\n",
       "      <td>742</td>\n",
       "      <td>TRANSFER</td>\n",
       "      <td>63,416.99</td>\n",
       "      <td>C778071008</td>\n",
       "      <td>63,416.99</td>\n",
       "      <td>0.00</td>\n",
       "      <td>C1812552860</td>\n",
       "      <td>0.00</td>\n",
       "      <td>0.00</td>\n",
       "      <td>1</td>\n",
       "      <td>0</td>\n",
       "    </tr>\n",
       "    <tr>\n",
       "      <th>6362611</th>\n",
       "      <td>742</td>\n",
       "      <td>CASH_OUT</td>\n",
       "      <td>63,416.99</td>\n",
       "      <td>C994950684</td>\n",
       "      <td>63,416.99</td>\n",
       "      <td>0.00</td>\n",
       "      <td>C1662241365</td>\n",
       "      <td>276,433.18</td>\n",
       "      <td>339,850.17</td>\n",
       "      <td>1</td>\n",
       "      <td>0</td>\n",
       "    </tr>\n",
       "    <tr>\n",
       "      <th>6362612</th>\n",
       "      <td>743</td>\n",
       "      <td>TRANSFER</td>\n",
       "      <td>1,258,818.82</td>\n",
       "      <td>C1531301470</td>\n",
       "      <td>1,258,818.82</td>\n",
       "      <td>0.00</td>\n",
       "      <td>C1470998563</td>\n",
       "      <td>0.00</td>\n",
       "      <td>0.00</td>\n",
       "      <td>1</td>\n",
       "      <td>0</td>\n",
       "    </tr>\n",
       "    <tr>\n",
       "      <th>6362613</th>\n",
       "      <td>743</td>\n",
       "      <td>CASH_OUT</td>\n",
       "      <td>1,258,818.82</td>\n",
       "      <td>C1436118706</td>\n",
       "      <td>1,258,818.82</td>\n",
       "      <td>0.00</td>\n",
       "      <td>C1240760502</td>\n",
       "      <td>503,464.50</td>\n",
       "      <td>1,762,283.33</td>\n",
       "      <td>1</td>\n",
       "      <td>0</td>\n",
       "    </tr>\n",
       "    <tr>\n",
       "      <th>6362614</th>\n",
       "      <td>743</td>\n",
       "      <td>TRANSFER</td>\n",
       "      <td>339,682.13</td>\n",
       "      <td>C2013999242</td>\n",
       "      <td>339,682.13</td>\n",
       "      <td>0.00</td>\n",
       "      <td>C1850423904</td>\n",
       "      <td>0.00</td>\n",
       "      <td>0.00</td>\n",
       "      <td>1</td>\n",
       "      <td>0</td>\n",
       "    </tr>\n",
       "    <tr>\n",
       "      <th>6362615</th>\n",
       "      <td>743</td>\n",
       "      <td>CASH_OUT</td>\n",
       "      <td>339,682.13</td>\n",
       "      <td>C786484425</td>\n",
       "      <td>339,682.13</td>\n",
       "      <td>0.00</td>\n",
       "      <td>C776919290</td>\n",
       "      <td>0.00</td>\n",
       "      <td>339,682.13</td>\n",
       "      <td>1</td>\n",
       "      <td>0</td>\n",
       "    </tr>\n",
       "    <tr>\n",
       "      <th>6362616</th>\n",
       "      <td>743</td>\n",
       "      <td>TRANSFER</td>\n",
       "      <td>6,311,409.28</td>\n",
       "      <td>C1529008245</td>\n",
       "      <td>6,311,409.28</td>\n",
       "      <td>0.00</td>\n",
       "      <td>C1881841831</td>\n",
       "      <td>0.00</td>\n",
       "      <td>0.00</td>\n",
       "      <td>1</td>\n",
       "      <td>0</td>\n",
       "    </tr>\n",
       "    <tr>\n",
       "      <th>6362617</th>\n",
       "      <td>743</td>\n",
       "      <td>CASH_OUT</td>\n",
       "      <td>6,311,409.28</td>\n",
       "      <td>C1162922333</td>\n",
       "      <td>6,311,409.28</td>\n",
       "      <td>0.00</td>\n",
       "      <td>C1365125890</td>\n",
       "      <td>68,488.84</td>\n",
       "      <td>6,379,898.11</td>\n",
       "      <td>1</td>\n",
       "      <td>0</td>\n",
       "    </tr>\n",
       "    <tr>\n",
       "      <th>6362618</th>\n",
       "      <td>743</td>\n",
       "      <td>TRANSFER</td>\n",
       "      <td>850,002.52</td>\n",
       "      <td>C1685995037</td>\n",
       "      <td>850,002.52</td>\n",
       "      <td>0.00</td>\n",
       "      <td>C2080388513</td>\n",
       "      <td>0.00</td>\n",
       "      <td>0.00</td>\n",
       "      <td>1</td>\n",
       "      <td>0</td>\n",
       "    </tr>\n",
       "    <tr>\n",
       "      <th>6362619</th>\n",
       "      <td>743</td>\n",
       "      <td>CASH_OUT</td>\n",
       "      <td>850,002.52</td>\n",
       "      <td>C1280323807</td>\n",
       "      <td>850,002.52</td>\n",
       "      <td>0.00</td>\n",
       "      <td>C873221189</td>\n",
       "      <td>6,510,099.11</td>\n",
       "      <td>7,360,101.63</td>\n",
       "      <td>1</td>\n",
       "      <td>0</td>\n",
       "    </tr>\n",
       "  </tbody>\n",
       "</table>\n",
       "</div>"
      ],
      "text/plain": [
       "         step      type       amount     nameOrig  oldbalanceOrg  \\\n",
       "6362600   742  TRANSFER   652,993.91    C40604503     652,993.91   \n",
       "6362601   742  CASH_OUT   652,993.91  C1614818636     652,993.91   \n",
       "6362602   742  TRANSFER 1,819,543.69  C2089752665   1,819,543.69   \n",
       "6362603   742  CASH_OUT 1,819,543.69  C1039979813   1,819,543.69   \n",
       "6362604   742  TRANSFER    54,652.46  C1674778854      54,652.46   \n",
       "6362605   742  CASH_OUT    54,652.46    C43545501      54,652.46   \n",
       "6362606   742  TRANSFER   303,846.74   C959102961     303,846.74   \n",
       "6362607   742  CASH_OUT   303,846.74  C1148860488     303,846.74   \n",
       "6362608   742  TRANSFER   258,355.42  C1226129332     258,355.42   \n",
       "6362609   742  CASH_OUT   258,355.42  C1113162093     258,355.42   \n",
       "6362610   742  TRANSFER    63,416.99   C778071008      63,416.99   \n",
       "6362611   742  CASH_OUT    63,416.99   C994950684      63,416.99   \n",
       "6362612   743  TRANSFER 1,258,818.82  C1531301470   1,258,818.82   \n",
       "6362613   743  CASH_OUT 1,258,818.82  C1436118706   1,258,818.82   \n",
       "6362614   743  TRANSFER   339,682.13  C2013999242     339,682.13   \n",
       "6362615   743  CASH_OUT   339,682.13   C786484425     339,682.13   \n",
       "6362616   743  TRANSFER 6,311,409.28  C1529008245   6,311,409.28   \n",
       "6362617   743  CASH_OUT 6,311,409.28  C1162922333   6,311,409.28   \n",
       "6362618   743  TRANSFER   850,002.52  C1685995037     850,002.52   \n",
       "6362619   743  CASH_OUT   850,002.52  C1280323807     850,002.52   \n",
       "\n",
       "         newbalanceOrig     nameDest  oldbalanceDest  newbalanceDest  isFraud  \\\n",
       "6362600            0.00  C1166857907            0.00            0.00        1   \n",
       "6362601            0.00   C362803701            0.00      652,993.91        1   \n",
       "6362602            0.00   C112833674            0.00            0.00        1   \n",
       "6362603            0.00  C2078394828            0.00    1,819,543.69        1   \n",
       "6362604            0.00  C1930074465            0.00            0.00        1   \n",
       "6362605            0.00   C830041824            0.00       54,652.46        1   \n",
       "6362606            0.00   C114421319            0.00            0.00        1   \n",
       "6362607            0.00   C846260566      343,660.89      647,507.63        1   \n",
       "6362608            0.00  C1744173808            0.00            0.00        1   \n",
       "6362609            0.00   C797688696       25,176.67      283,532.09        1   \n",
       "6362610            0.00  C1812552860            0.00            0.00        1   \n",
       "6362611            0.00  C1662241365      276,433.18      339,850.17        1   \n",
       "6362612            0.00  C1470998563            0.00            0.00        1   \n",
       "6362613            0.00  C1240760502      503,464.50    1,762,283.33        1   \n",
       "6362614            0.00  C1850423904            0.00            0.00        1   \n",
       "6362615            0.00   C776919290            0.00      339,682.13        1   \n",
       "6362616            0.00  C1881841831            0.00            0.00        1   \n",
       "6362617            0.00  C1365125890       68,488.84    6,379,898.11        1   \n",
       "6362618            0.00  C2080388513            0.00            0.00        1   \n",
       "6362619            0.00   C873221189    6,510,099.11    7,360,101.63        1   \n",
       "\n",
       "         isFlaggedFraud  \n",
       "6362600               0  \n",
       "6362601               0  \n",
       "6362602               0  \n",
       "6362603               0  \n",
       "6362604               0  \n",
       "6362605               0  \n",
       "6362606               0  \n",
       "6362607               0  \n",
       "6362608               0  \n",
       "6362609               0  \n",
       "6362610               0  \n",
       "6362611               0  \n",
       "6362612               0  \n",
       "6362613               0  \n",
       "6362614               0  \n",
       "6362615               0  \n",
       "6362616               0  \n",
       "6362617               0  \n",
       "6362618               0  \n",
       "6362619               0  "
      ]
     },
     "execution_count": 66,
     "metadata": {},
     "output_type": "execute_result"
    }
   ],
   "source": [
    "#Check isFraud 20 observations\n",
    "nonzero_isFraud = df[df.isFraud == 1]\n",
    "nonzero_isFraud.tail(20)"
   ]
  },
  {
   "cell_type": "code",
   "execution_count": 67,
   "metadata": {},
   "outputs": [
    {
     "data": {
      "text/html": [
       "<div>\n",
       "<style scoped>\n",
       "    .dataframe tbody tr th:only-of-type {\n",
       "        vertical-align: middle;\n",
       "    }\n",
       "\n",
       "    .dataframe tbody tr th {\n",
       "        vertical-align: top;\n",
       "    }\n",
       "\n",
       "    .dataframe thead th {\n",
       "        text-align: right;\n",
       "    }\n",
       "</style>\n",
       "<table border=\"1\" class=\"dataframe\">\n",
       "  <thead>\n",
       "    <tr style=\"text-align: right;\">\n",
       "      <th></th>\n",
       "      <th>step</th>\n",
       "      <th>type</th>\n",
       "      <th>amount</th>\n",
       "      <th>nameOrig</th>\n",
       "      <th>oldbalanceOrg</th>\n",
       "      <th>newbalanceOrig</th>\n",
       "      <th>nameDest</th>\n",
       "      <th>oldbalanceDest</th>\n",
       "      <th>newbalanceDest</th>\n",
       "      <th>isFraud</th>\n",
       "      <th>isFlaggedFraud</th>\n",
       "    </tr>\n",
       "  </thead>\n",
       "  <tbody>\n",
       "    <tr>\n",
       "      <th>2736446</th>\n",
       "      <td>212</td>\n",
       "      <td>TRANSFER</td>\n",
       "      <td>4,953,893.08</td>\n",
       "      <td>C728984460</td>\n",
       "      <td>4,953,893.08</td>\n",
       "      <td>4,953,893.08</td>\n",
       "      <td>C639921569</td>\n",
       "      <td>0.00</td>\n",
       "      <td>0.00</td>\n",
       "      <td>1</td>\n",
       "      <td>1</td>\n",
       "    </tr>\n",
       "    <tr>\n",
       "      <th>3247297</th>\n",
       "      <td>250</td>\n",
       "      <td>TRANSFER</td>\n",
       "      <td>1,343,002.08</td>\n",
       "      <td>C1100582606</td>\n",
       "      <td>1,343,002.08</td>\n",
       "      <td>1,343,002.08</td>\n",
       "      <td>C1147517658</td>\n",
       "      <td>0.00</td>\n",
       "      <td>0.00</td>\n",
       "      <td>1</td>\n",
       "      <td>1</td>\n",
       "    </tr>\n",
       "    <tr>\n",
       "      <th>3760288</th>\n",
       "      <td>279</td>\n",
       "      <td>TRANSFER</td>\n",
       "      <td>536,624.41</td>\n",
       "      <td>C1035541766</td>\n",
       "      <td>536,624.41</td>\n",
       "      <td>536,624.41</td>\n",
       "      <td>C1100697970</td>\n",
       "      <td>0.00</td>\n",
       "      <td>0.00</td>\n",
       "      <td>1</td>\n",
       "      <td>1</td>\n",
       "    </tr>\n",
       "    <tr>\n",
       "      <th>5563713</th>\n",
       "      <td>387</td>\n",
       "      <td>TRANSFER</td>\n",
       "      <td>4,892,193.09</td>\n",
       "      <td>C908544136</td>\n",
       "      <td>4,892,193.09</td>\n",
       "      <td>4,892,193.09</td>\n",
       "      <td>C891140444</td>\n",
       "      <td>0.00</td>\n",
       "      <td>0.00</td>\n",
       "      <td>1</td>\n",
       "      <td>1</td>\n",
       "    </tr>\n",
       "    <tr>\n",
       "      <th>5996407</th>\n",
       "      <td>425</td>\n",
       "      <td>TRANSFER</td>\n",
       "      <td>10,000,000.00</td>\n",
       "      <td>C689608084</td>\n",
       "      <td>19,585,040.37</td>\n",
       "      <td>19,585,040.37</td>\n",
       "      <td>C1392803603</td>\n",
       "      <td>0.00</td>\n",
       "      <td>0.00</td>\n",
       "      <td>1</td>\n",
       "      <td>1</td>\n",
       "    </tr>\n",
       "    <tr>\n",
       "      <th>5996409</th>\n",
       "      <td>425</td>\n",
       "      <td>TRANSFER</td>\n",
       "      <td>9,585,040.37</td>\n",
       "      <td>C452586515</td>\n",
       "      <td>19,585,040.37</td>\n",
       "      <td>19,585,040.37</td>\n",
       "      <td>C1109166882</td>\n",
       "      <td>0.00</td>\n",
       "      <td>0.00</td>\n",
       "      <td>1</td>\n",
       "      <td>1</td>\n",
       "    </tr>\n",
       "    <tr>\n",
       "      <th>6168499</th>\n",
       "      <td>554</td>\n",
       "      <td>TRANSFER</td>\n",
       "      <td>3,576,297.10</td>\n",
       "      <td>C193696150</td>\n",
       "      <td>3,576,297.10</td>\n",
       "      <td>3,576,297.10</td>\n",
       "      <td>C484597480</td>\n",
       "      <td>0.00</td>\n",
       "      <td>0.00</td>\n",
       "      <td>1</td>\n",
       "      <td>1</td>\n",
       "    </tr>\n",
       "    <tr>\n",
       "      <th>6205439</th>\n",
       "      <td>586</td>\n",
       "      <td>TRANSFER</td>\n",
       "      <td>353,874.22</td>\n",
       "      <td>C1684585475</td>\n",
       "      <td>353,874.22</td>\n",
       "      <td>353,874.22</td>\n",
       "      <td>C1770418982</td>\n",
       "      <td>0.00</td>\n",
       "      <td>0.00</td>\n",
       "      <td>1</td>\n",
       "      <td>1</td>\n",
       "    </tr>\n",
       "    <tr>\n",
       "      <th>6266413</th>\n",
       "      <td>617</td>\n",
       "      <td>TRANSFER</td>\n",
       "      <td>2,542,664.27</td>\n",
       "      <td>C786455622</td>\n",
       "      <td>2,542,664.27</td>\n",
       "      <td>2,542,664.27</td>\n",
       "      <td>C661958277</td>\n",
       "      <td>0.00</td>\n",
       "      <td>0.00</td>\n",
       "      <td>1</td>\n",
       "      <td>1</td>\n",
       "    </tr>\n",
       "    <tr>\n",
       "      <th>6281482</th>\n",
       "      <td>646</td>\n",
       "      <td>TRANSFER</td>\n",
       "      <td>10,000,000.00</td>\n",
       "      <td>C19004745</td>\n",
       "      <td>10,399,045.08</td>\n",
       "      <td>10,399,045.08</td>\n",
       "      <td>C1806199534</td>\n",
       "      <td>0.00</td>\n",
       "      <td>0.00</td>\n",
       "      <td>1</td>\n",
       "      <td>1</td>\n",
       "    </tr>\n",
       "    <tr>\n",
       "      <th>6281484</th>\n",
       "      <td>646</td>\n",
       "      <td>TRANSFER</td>\n",
       "      <td>399,045.08</td>\n",
       "      <td>C724693370</td>\n",
       "      <td>10,399,045.08</td>\n",
       "      <td>10,399,045.08</td>\n",
       "      <td>C1909486199</td>\n",
       "      <td>0.00</td>\n",
       "      <td>0.00</td>\n",
       "      <td>1</td>\n",
       "      <td>1</td>\n",
       "    </tr>\n",
       "    <tr>\n",
       "      <th>6296014</th>\n",
       "      <td>671</td>\n",
       "      <td>TRANSFER</td>\n",
       "      <td>3,441,041.46</td>\n",
       "      <td>C917414431</td>\n",
       "      <td>3,441,041.46</td>\n",
       "      <td>3,441,041.46</td>\n",
       "      <td>C1082139865</td>\n",
       "      <td>0.00</td>\n",
       "      <td>0.00</td>\n",
       "      <td>1</td>\n",
       "      <td>1</td>\n",
       "    </tr>\n",
       "    <tr>\n",
       "      <th>6351225</th>\n",
       "      <td>702</td>\n",
       "      <td>TRANSFER</td>\n",
       "      <td>3,171,085.59</td>\n",
       "      <td>C1892216157</td>\n",
       "      <td>3,171,085.59</td>\n",
       "      <td>3,171,085.59</td>\n",
       "      <td>C1308068787</td>\n",
       "      <td>0.00</td>\n",
       "      <td>0.00</td>\n",
       "      <td>1</td>\n",
       "      <td>1</td>\n",
       "    </tr>\n",
       "    <tr>\n",
       "      <th>6362460</th>\n",
       "      <td>730</td>\n",
       "      <td>TRANSFER</td>\n",
       "      <td>10,000,000.00</td>\n",
       "      <td>C2140038573</td>\n",
       "      <td>17,316,255.05</td>\n",
       "      <td>17,316,255.05</td>\n",
       "      <td>C1395467927</td>\n",
       "      <td>0.00</td>\n",
       "      <td>0.00</td>\n",
       "      <td>1</td>\n",
       "      <td>1</td>\n",
       "    </tr>\n",
       "    <tr>\n",
       "      <th>6362462</th>\n",
       "      <td>730</td>\n",
       "      <td>TRANSFER</td>\n",
       "      <td>7,316,255.05</td>\n",
       "      <td>C1869569059</td>\n",
       "      <td>17,316,255.05</td>\n",
       "      <td>17,316,255.05</td>\n",
       "      <td>C1861208726</td>\n",
       "      <td>0.00</td>\n",
       "      <td>0.00</td>\n",
       "      <td>1</td>\n",
       "      <td>1</td>\n",
       "    </tr>\n",
       "    <tr>\n",
       "      <th>6362584</th>\n",
       "      <td>741</td>\n",
       "      <td>TRANSFER</td>\n",
       "      <td>5,674,547.89</td>\n",
       "      <td>C992223106</td>\n",
       "      <td>5,674,547.89</td>\n",
       "      <td>5,674,547.89</td>\n",
       "      <td>C1366804249</td>\n",
       "      <td>0.00</td>\n",
       "      <td>0.00</td>\n",
       "      <td>1</td>\n",
       "      <td>1</td>\n",
       "    </tr>\n",
       "  </tbody>\n",
       "</table>\n",
       "</div>"
      ],
      "text/plain": [
       "         step      type        amount     nameOrig  oldbalanceOrg  \\\n",
       "2736446   212  TRANSFER  4,953,893.08   C728984460   4,953,893.08   \n",
       "3247297   250  TRANSFER  1,343,002.08  C1100582606   1,343,002.08   \n",
       "3760288   279  TRANSFER    536,624.41  C1035541766     536,624.41   \n",
       "5563713   387  TRANSFER  4,892,193.09   C908544136   4,892,193.09   \n",
       "5996407   425  TRANSFER 10,000,000.00   C689608084  19,585,040.37   \n",
       "5996409   425  TRANSFER  9,585,040.37   C452586515  19,585,040.37   \n",
       "6168499   554  TRANSFER  3,576,297.10   C193696150   3,576,297.10   \n",
       "6205439   586  TRANSFER    353,874.22  C1684585475     353,874.22   \n",
       "6266413   617  TRANSFER  2,542,664.27   C786455622   2,542,664.27   \n",
       "6281482   646  TRANSFER 10,000,000.00    C19004745  10,399,045.08   \n",
       "6281484   646  TRANSFER    399,045.08   C724693370  10,399,045.08   \n",
       "6296014   671  TRANSFER  3,441,041.46   C917414431   3,441,041.46   \n",
       "6351225   702  TRANSFER  3,171,085.59  C1892216157   3,171,085.59   \n",
       "6362460   730  TRANSFER 10,000,000.00  C2140038573  17,316,255.05   \n",
       "6362462   730  TRANSFER  7,316,255.05  C1869569059  17,316,255.05   \n",
       "6362584   741  TRANSFER  5,674,547.89   C992223106   5,674,547.89   \n",
       "\n",
       "         newbalanceOrig     nameDest  oldbalanceDest  newbalanceDest  isFraud  \\\n",
       "2736446    4,953,893.08   C639921569            0.00            0.00        1   \n",
       "3247297    1,343,002.08  C1147517658            0.00            0.00        1   \n",
       "3760288      536,624.41  C1100697970            0.00            0.00        1   \n",
       "5563713    4,892,193.09   C891140444            0.00            0.00        1   \n",
       "5996407   19,585,040.37  C1392803603            0.00            0.00        1   \n",
       "5996409   19,585,040.37  C1109166882            0.00            0.00        1   \n",
       "6168499    3,576,297.10   C484597480            0.00            0.00        1   \n",
       "6205439      353,874.22  C1770418982            0.00            0.00        1   \n",
       "6266413    2,542,664.27   C661958277            0.00            0.00        1   \n",
       "6281482   10,399,045.08  C1806199534            0.00            0.00        1   \n",
       "6281484   10,399,045.08  C1909486199            0.00            0.00        1   \n",
       "6296014    3,441,041.46  C1082139865            0.00            0.00        1   \n",
       "6351225    3,171,085.59  C1308068787            0.00            0.00        1   \n",
       "6362460   17,316,255.05  C1395467927            0.00            0.00        1   \n",
       "6362462   17,316,255.05  C1861208726            0.00            0.00        1   \n",
       "6362584    5,674,547.89  C1366804249            0.00            0.00        1   \n",
       "\n",
       "         isFlaggedFraud  \n",
       "2736446               1  \n",
       "3247297               1  \n",
       "3760288               1  \n",
       "5563713               1  \n",
       "5996407               1  \n",
       "5996409               1  \n",
       "6168499               1  \n",
       "6205439               1  \n",
       "6266413               1  \n",
       "6281482               1  \n",
       "6281484               1  \n",
       "6296014               1  \n",
       "6351225               1  \n",
       "6362460               1  \n",
       "6362462               1  \n",
       "6362584               1  "
      ]
     },
     "execution_count": 67,
     "metadata": {},
     "output_type": "execute_result"
    }
   ],
   "source": [
    "#Check isFraud all 16 observations\n",
    "nonzero_isFlaggedFraud = df[df.isFlaggedFraud == 1]\n",
    "nonzero_isFlaggedFraud.head(20)"
   ]
  },
  {
   "cell_type": "code",
   "execution_count": null,
   "metadata": {
    "scrolled": true
   },
   "outputs": [],
   "source": [
    "# Check the histogram for all columns. Note the imbalanced nature of the data, meaning that there are very few fraud cases.\n",
    "#df.hist(bins=50, figsize=(15,15), color = 'cyan')\n",
    "df.hist()\n",
    "plt.show()\n",
    "plt.tight_layout()"
   ]
  },
  {
   "cell_type": "code",
   "execution_count": null,
   "metadata": {},
   "outputs": [],
   "source": [
    "df2 = df\n",
    "df2['M_nameDest'] = df2['nameDest'].str.startswith('M')\n",
    "df2['M_nameOrig'] = df2['nameOrig'].str.startswith('M')\n",
    "df2['C_nameDest'] = df2['nameDest'].str.startswith('C')\n",
    "df2['C_nameOrig'] = df2['nameOrig'].str.startswith('C')\n",
    "df2.head()"
   ]
  },
  {
   "cell_type": "code",
   "execution_count": null,
   "metadata": {},
   "outputs": [],
   "source": [
    "print(df2['M_nameDest'].describe())\n",
    "print(df2['M_nameOrig'].describe())\n",
    "print(df2['C_nameDest'].describe())\n",
    "print(df2['C_nameOrig'].describe())"
   ]
  },
  {
   "cell_type": "code",
   "execution_count": 112,
   "metadata": {},
   "outputs": [
    {
     "data": {
      "image/png": "[encoded data removed]",
      "text/plain": [
       "<Figure size 1080x1080 with 9 Axes>"
      ]
     },
     "metadata": {
      "needs_background": "light"
     },
     "output_type": "display_data"
    }
   ],
   "source": [
    "df.hist (bins=5, figsize=(15,15), color = 'green')\n",
    "plt.show()"
   ]
  },
  {
   "cell_type": "code",
   "execution_count": 152,
   "metadata": {},
   "outputs": [
    {
     "name": "stdout",
     "output_type": "stream",
     "text": [
      "        step        amount  oldbalanceOrg  newbalanceOrig  oldbalanceDest  \\\n",
      "count 296.00        296.00         296.00          296.00          296.00   \n",
      "mean  731.14  1,584,333.91   2,369,483.14      862,820.86      457,659.57   \n",
      "std     7.06  2,767,853.81   6,633,547.40    4,975,757.99    1,466,041.41   \n",
      "min   719.00          0.00           0.00            0.00            0.00   \n",
      "25%   726.00    119,143.75     119,143.75            0.00            0.00   \n",
      "50%   731.00    338,364.14     338,364.14            0.00            0.00   \n",
      "75%   737.00  1,314,660.84   1,314,660.84            0.00      161,406.82   \n",
      "max   743.00 10,000,000.00  57,316,255.05   47,316,255.05   11,436,080.11   \n",
      "\n",
      "       newbalanceDest  isFraud  isFlaggedFraud  stepcount  \n",
      "count          296.00   296.00          296.00       0.00  \n",
      "mean     1,210,990.71     1.00            0.01        nan  \n",
      "std      2,538,268.75     0.00            0.10        nan  \n",
      "min              0.00     1.00            0.00        nan  \n",
      "25%              0.00     1.00            0.00        nan  \n",
      "50%              0.00     1.00            0.00        nan  \n",
      "75%      1,055,358.06     1.00            0.00        nan  \n",
      "max     12,571,402.25     1.00            1.00        nan  \n",
      "296\n"
     ]
    }
   ],
   "source": [
    "df718 = df[df.step > 718]\n",
    "print(df718.describe())\n",
    "df718notfraud = df718[df718.isFraud == 1]\n",
    "print(len(df718notfraud))"
   ]
  },
  {
   "cell_type": "code",
   "execution_count": 183,
   "metadata": {},
   "outputs": [
    {
     "data": {
      "text/plain": [
       "Timestamp('1970-01-01 00:00:00.000000001')"
      ]
     },
     "execution_count": 183,
     "metadata": {},
     "output_type": "execute_result"
    }
   ],
   "source": [
    "pd.to_datetime(df['step'][0])"
   ]
  },
  {
   "cell_type": "code",
   "execution_count": 217,
   "metadata": {},
   "outputs": [
    {
     "data": {
      "text/html": [
       "<div>\n",
       "<style scoped>\n",
       "    .dataframe tbody tr th:only-of-type {\n",
       "        vertical-align: middle;\n",
       "    }\n",
       "\n",
       "    .dataframe tbody tr th {\n",
       "        vertical-align: top;\n",
       "    }\n",
       "\n",
       "    .dataframe thead th {\n",
       "        text-align: right;\n",
       "    }\n",
       "</style>\n",
       "<table border=\"1\" class=\"dataframe\">\n",
       "  <thead>\n",
       "    <tr style=\"text-align: right;\">\n",
       "      <th></th>\n",
       "      <th>step</th>\n",
       "      <th>type</th>\n",
       "      <th>amount</th>\n",
       "      <th>nameOrig</th>\n",
       "      <th>oldbalanceOrg</th>\n",
       "      <th>newbalanceOrig</th>\n",
       "      <th>nameDest</th>\n",
       "      <th>oldbalanceDest</th>\n",
       "      <th>newbalanceDest</th>\n",
       "      <th>isFraud</th>\n",
       "      <th>isFlaggedFraud</th>\n",
       "      <th>stepcount</th>\n",
       "      <th>steptime</th>\n",
       "    </tr>\n",
       "  </thead>\n",
       "  <tbody>\n",
       "    <tr>\n",
       "      <th>2</th>\n",
       "      <td>1</td>\n",
       "      <td>TRANSFER</td>\n",
       "      <td>181.00</td>\n",
       "      <td>C1305486145</td>\n",
       "      <td>181.00</td>\n",
       "      <td>0.00</td>\n",
       "      <td>C553264065</td>\n",
       "      <td>0.00</td>\n",
       "      <td>0.00</td>\n",
       "      <td>1</td>\n",
       "      <td>0</td>\n",
       "      <td>1,014.00</td>\n",
       "      <td>1970-01-01 01:00:00</td>\n",
       "    </tr>\n",
       "    <tr>\n",
       "      <th>3</th>\n",
       "      <td>1</td>\n",
       "      <td>CASH_OUT</td>\n",
       "      <td>181.00</td>\n",
       "      <td>C840083671</td>\n",
       "      <td>181.00</td>\n",
       "      <td>0.00</td>\n",
       "      <td>C38997010</td>\n",
       "      <td>21,182.00</td>\n",
       "      <td>0.00</td>\n",
       "      <td>1</td>\n",
       "      <td>0</td>\n",
       "      <td>552.00</td>\n",
       "      <td>1970-01-01 01:00:00</td>\n",
       "    </tr>\n",
       "    <tr>\n",
       "      <th>251</th>\n",
       "      <td>1</td>\n",
       "      <td>TRANSFER</td>\n",
       "      <td>2,806.00</td>\n",
       "      <td>C1420196421</td>\n",
       "      <td>2,806.00</td>\n",
       "      <td>0.00</td>\n",
       "      <td>C972765878</td>\n",
       "      <td>0.00</td>\n",
       "      <td>0.00</td>\n",
       "      <td>1</td>\n",
       "      <td>0</td>\n",
       "      <td>35,269.00</td>\n",
       "      <td>1970-01-01 01:00:00</td>\n",
       "    </tr>\n",
       "    <tr>\n",
       "      <th>252</th>\n",
       "      <td>1</td>\n",
       "      <td>CASH_OUT</td>\n",
       "      <td>2,806.00</td>\n",
       "      <td>C2101527076</td>\n",
       "      <td>2,806.00</td>\n",
       "      <td>0.00</td>\n",
       "      <td>C1007251739</td>\n",
       "      <td>26,202.00</td>\n",
       "      <td>0.00</td>\n",
       "      <td>1</td>\n",
       "      <td>0</td>\n",
       "      <td>35,590.00</td>\n",
       "      <td>1970-01-01 01:00:00</td>\n",
       "    </tr>\n",
       "    <tr>\n",
       "      <th>680</th>\n",
       "      <td>1</td>\n",
       "      <td>TRANSFER</td>\n",
       "      <td>20,128.00</td>\n",
       "      <td>C137533655</td>\n",
       "      <td>20,128.00</td>\n",
       "      <td>0.00</td>\n",
       "      <td>C1848415041</td>\n",
       "      <td>0.00</td>\n",
       "      <td>0.00</td>\n",
       "      <td>1</td>\n",
       "      <td>0</td>\n",
       "      <td>22.00</td>\n",
       "      <td>1970-01-01 01:00:00</td>\n",
       "    </tr>\n",
       "  </tbody>\n",
       "</table>\n",
       "</div>"
      ],
      "text/plain": [
       "     step      type    amount     nameOrig  oldbalanceOrg  newbalanceOrig  \\\n",
       "2       1  TRANSFER    181.00  C1305486145         181.00            0.00   \n",
       "3       1  CASH_OUT    181.00   C840083671         181.00            0.00   \n",
       "251     1  TRANSFER  2,806.00  C1420196421       2,806.00            0.00   \n",
       "252     1  CASH_OUT  2,806.00  C2101527076       2,806.00            0.00   \n",
       "680     1  TRANSFER 20,128.00   C137533655      20,128.00            0.00   \n",
       "\n",
       "        nameDest  oldbalanceDest  newbalanceDest  isFraud  isFlaggedFraud  \\\n",
       "2     C553264065            0.00            0.00        1               0   \n",
       "3      C38997010       21,182.00            0.00        1               0   \n",
       "251   C972765878            0.00            0.00        1               0   \n",
       "252  C1007251739       26,202.00            0.00        1               0   \n",
       "680  C1848415041            0.00            0.00        1               0   \n",
       "\n",
       "     stepcount            steptime  \n",
       "2     1,014.00 1970-01-01 01:00:00  \n",
       "3       552.00 1970-01-01 01:00:00  \n",
       "251  35,269.00 1970-01-01 01:00:00  \n",
       "252  35,590.00 1970-01-01 01:00:00  \n",
       "680      22.00 1970-01-01 01:00:00  "
      ]
     },
     "execution_count": 217,
     "metadata": {},
     "output_type": "execute_result"
    }
   ],
   "source": [
    "#df['steptime'] = df['step'].apply(lambda x: pd.to_datetime(x, unit='h'))\n",
    "#dffraud['steptime'] = dffraud['step'].apply(lambda x: pd.to_datetime(x, unit='h'))\n",
    "dffraud.head()"
   ]
  },
  {
   "cell_type": "code",
   "execution_count": 218,
   "metadata": {},
   "outputs": [
    {
     "name": "stdout",
     "output_type": "stream",
     "text": [
      "count                 6362620\n",
      "unique                    743\n",
      "top       1970-01-01 19:00:00\n",
      "freq                    51352\n",
      "first     1970-01-01 01:00:00\n",
      "last      1970-01-31 23:00:00\n",
      "Name: steptime, dtype: object\n",
      "count                    8213\n",
      "unique                    741\n",
      "top       1970-01-09 20:00:00\n",
      "freq                       40\n",
      "first     1970-01-01 01:00:00\n",
      "last      1970-01-31 23:00:00\n",
      "Name: steptime, dtype: object\n"
     ]
    }
   ],
   "source": [
    "print(df.steptime.describe())\n",
    "print(dffraud.steptime.describe())"
   ]
  },
  {
   "cell_type": "code",
   "execution_count": 193,
   "metadata": {},
   "outputs": [
    {
     "data": {
      "text/plain": [
       "count   6,362,620.00\n",
       "mean          243.40\n",
       "std           142.33\n",
       "min             1.00\n",
       "25%           156.00\n",
       "50%           239.00\n",
       "75%           335.00\n",
       "max           743.00\n",
       "Name: step, dtype: float64"
      ]
     },
     "execution_count": 193,
     "metadata": {},
     "output_type": "execute_result"
    }
   ],
   "source": [
    "df.step.describe()"
   ]
  },
  {
   "cell_type": "code",
   "execution_count": 198,
   "metadata": {},
   "outputs": [
    {
     "data": {
      "text/plain": [
       "0    Thursday\n",
       "1    Thursday\n",
       "2    Thursday\n",
       "3    Thursday\n",
       "4    Thursday\n",
       "Name: steptime, dtype: object"
      ]
     },
     "execution_count": 198,
     "metadata": {},
     "output_type": "execute_result"
    }
   ],
   "source": [
    "df.steptime.dt.weekday_name.head()"
   ]
  },
  {
   "cell_type": "code",
   "execution_count": 219,
   "metadata": {},
   "outputs": [
    {
     "name": "stderr",
     "output_type": "stream",
     "text": [
      "C:\\Users\\19145\\Anaconda3\\lib\\site-packages\\ipykernel_launcher.py:6: SettingWithCopyWarning: \n",
      "A value is trying to be set on a copy of a slice from a DataFrame.\n",
      "Try using .loc[row_indexer,col_indexer] = value instead\n",
      "\n",
      "See the caveats in the documentation: http://pandas.pydata.org/pandas-docs/stable/indexing.html#indexing-view-versus-copy\n",
      "  \n"
     ]
    }
   ],
   "source": [
    "df['dayofweek'] = pd.Categorical(df['steptime'].dt.weekday_name,\n",
    "                                       ordered=True,\n",
    "                                       categories=['Monday','Tuesday','Wednesday','Thursday','Friday','Saturday','Sunday'])\n",
    "dffraud['dayofweek'] = pd.Categorical(dffraud['steptime'].dt.weekday_name,\n",
    "                                       ordered=True,\n",
    "                                       categories=['Monday','Tuesday','Wednesday','Thursday','Friday','Saturday','Sunday'])"
   ]
  },
  {
   "cell_type": "code",
   "execution_count": 220,
   "metadata": {},
   "outputs": [
    {
     "name": "stderr",
     "output_type": "stream",
     "text": [
      "C:\\Users\\19145\\Anaconda3\\lib\\site-packages\\ipykernel_launcher.py:2: SettingWithCopyWarning: \n",
      "A value is trying to be set on a copy of a slice from a DataFrame.\n",
      "Try using .loc[row_indexer,col_indexer] = value instead\n",
      "\n",
      "See the caveats in the documentation: http://pandas.pydata.org/pandas-docs/stable/indexing.html#indexing-view-versus-copy\n",
      "  \n"
     ]
    }
   ],
   "source": [
    "df['timeofday'] = df['steptime'].dt.hour + df['steptime'].dt.minute / 60\n",
    "dffraud['timeofday'] = dffraud['steptime'].dt.hour + dffraud['steptime'].dt.minute / 60"
   ]
  },
  {
   "cell_type": "code",
   "execution_count": 205,
   "metadata": {},
   "outputs": [
    {
     "data": {
      "text/plain": [
       "<matplotlib.axes._subplots.AxesSubplot at 0x2084b6b1668>"
      ]
     },
     "execution_count": 205,
     "metadata": {},
     "output_type": "execute_result"
    },
    {
     "data": {
      "image/png": "[encoded data removed]",
      "text/plain": [
       "<Figure size 432x288 with 1 Axes>"
      ]
     },
     "metadata": {
      "needs_background": "light"
     },
     "output_type": "display_data"
    }
   ],
   "source": [
    "df.timeofday.hist(bins=24)"
   ]
  },
  {
   "cell_type": "code",
   "execution_count": 221,
   "metadata": {},
   "outputs": [
    {
     "data": {
      "text/plain": [
       "<matplotlib.axes._subplots.AxesSubplot at 0x2093ed1d9b0>"
      ]
     },
     "execution_count": 221,
     "metadata": {},
     "output_type": "execute_result"
    },
    {
     "data": {
      "image/png": "[encoded data removed]",
      "text/plain": [
       "<Figure size 432x288 with 1 Axes>"
      ]
     },
     "metadata": {
      "needs_background": "light"
     },
     "output_type": "display_data"
    }
   ],
   "source": [
    "dffraud.timeofday.hist(bins=24)"
   ]
  },
  {
   "cell_type": "code",
   "execution_count": 211,
   "metadata": {},
   "outputs": [
    {
     "data": {
      "text/plain": [
       "Thursday     1528439\n",
       "Friday       1308093\n",
       "Tuesday       898274\n",
       "Wednesday     857603\n",
       "Saturday      854364\n",
       "Sunday        527873\n",
       "Monday        387974\n",
       "Name: dayofweek, dtype: int64"
      ]
     },
     "execution_count": 211,
     "metadata": {},
     "output_type": "execute_result"
    }
   ],
   "source": [
    "df.dayofweek.value_counts()"
   ]
  },
  {
   "cell_type": "code",
   "execution_count": 207,
   "metadata": {},
   "outputs": [
    {
     "data": {
      "text/plain": [
       "<matplotlib.axes._subplots.AxesSubplot at 0x20930c7cf98>"
      ]
     },
     "execution_count": 207,
     "metadata": {},
     "output_type": "execute_result"
    },
    {
     "data": {
      "image/png": "[encoded data removed]",
      "text/plain": [
       "<Figure size 432x288 with 1 Axes>"
      ]
     },
     "metadata": {
      "needs_background": "light"
     },
     "output_type": "display_data"
    }
   ],
   "source": [
    "counts = df.dayofweek.value_counts(sort=False)\n",
    "counts.plot(kind='bar')"
   ]
  },
  {
   "cell_type": "code",
   "execution_count": 222,
   "metadata": {},
   "outputs": [
    {
     "data": {
      "text/plain": [
       "<matplotlib.axes._subplots.AxesSubplot at 0x2084bf59668>"
      ]
     },
     "execution_count": 222,
     "metadata": {},
     "output_type": "execute_result"
    },
    {
     "data": {
      "image/png": "[encoded data removed]",
      "text/plain": [
       "<Figure size 432x288 with 1 Axes>"
      ]
     },
     "metadata": {
      "needs_background": "light"
     },
     "output_type": "display_data"
    }
   ],
   "source": [
    "counts_f = dffraud.dayofweek.value_counts(sort=False)\n",
    "counts_f.plot(kind='bar')"
   ]
  },
  {
   "cell_type": "code",
   "execution_count": 247,
   "metadata": {},
   "outputs": [
    {
     "data": {
      "image/png": "[encoded data removed]",
      "text/plain": [
       "<Figure size 1080x360 with 4 Axes>"
      ]
     },
     "metadata": {
      "needs_background": "light"
     },
     "output_type": "display_data"
    }
   ],
   "source": [
    "fig, ax = plt.subplots( 1,2, figsize=(15,5))\n",
    "\n",
    "ax[0].set_title(\"Fraudent Records correlation\")\n",
    "sns.heatmap(df.query('isFraud == 1').drop(['isFraud', 'isFlaggedFraud', 'stepcount', 'timeofday', 'step'],1).corr(),  cmap=\"OrRd\", ax=ax[0], annot=True)\n",
    "#sns.heatmap(df.query('isFraud == 1').drop(['isFraud', 'isFlaggedFraud'],1).corr(),  cmap=\"OrRd\", ax=ax[0], annot=True)\n",
    "\n",
    "ax[1].set_title(\"Non-fraudent Records correlation\")\n",
    "#sns.heatmap(df.drop(['isFraud', 'isFlaggedFraud'],1).corr(),  cmap=\"Purples\", ax=ax[1], annot=True)\n",
    "sns.heatmap(df.query('isFraud == 0').drop(['isFraud', 'isFlaggedFraud', 'stepcount', 'timeofday', 'step'],1).corr(),  cmap=\"Purples\", ax=ax[1], annot=True)\n",
    "#sns.heatmap(df.query('isFraud == 0').drop(['isFraud', 'isFlaggedFraud'],1).corr(),  cmap=\"Purples\", ax=ax[1], annot=True)\n",
    "plt.show()\n",
    "\n",
    "#ax[2].set_title(\"All Records correlation\")\n",
    "#sns.heatmap(df.query.drop(['isFraud', 'isFlaggedFraud'],1).corr(), ax=ax[2], annot=True)\n",
    "#plt.show()"
   ]
  },
  {
   "cell_type": "code",
   "execution_count": 252,
   "metadata": {},
   "outputs": [
    {
     "data": {
      "image/png": "[encoded data removed]",
      "text/plain": [
       "<Figure size 576x360 with 2 Axes>"
      ]
     },
     "metadata": {
      "needs_background": "light"
     },
     "output_type": "display_data"
    }
   ],
   "source": [
    "plt.figure(figsize=(8,5))\n",
    "#sns.heatmap(df.select_dtypes(['int','float']).corr(), \n",
    "#            cmap=plt.cm.Purples, annot=True);\n",
    "sns.heatmap(df.drop(['isFraud', 'isFlaggedFraud', 'stepcount', 'timeofday', 'step'],1).corr(), annot=True, cmap=\"Purples\")\n",
    "plt.title('Feature Correlation Map');\n",
    "plt.ylabel('Features')\n",
    "plt.xlabel('Features')\n",
    "plt.xticks(rotation='vertical');"
   ]
  },
  {
   "cell_type": "code",
   "execution_count": 254,
   "metadata": {},
   "outputs": [
    {
     "data": {
      "text/plain": [
       "Text(0, 0.5, 'Target (Fraud = 1, Not Fraud=0)')"
      ]
     },
     "execution_count": 254,
     "metadata": {},
     "output_type": "execute_result"
    },
    {
     "data": {
      "image/png": "[encoded data removed]",
      "text/plain": [
       "<Figure size 1440x1080 with 1 Axes>"
      ]
     },
     "metadata": {
      "needs_background": "light"
     },
     "output_type": "display_data"
    }
   ],
   "source": [
    "plt.figure(figsize=(20,15))\n",
    "sns.stripplot(x=df[\"amount\"], y=df['isFraud'].astype('category'),\n",
    "             palette=['#bcbddc','#756bb1']);\n",
    "plt.title('Target vs Amount', fontsize=9)\n",
    "plt.xlabel('Amount',)\n",
    "plt.ylabel('Target (Fraud = 1, Not Fraud=0)',)"
   ]
  },
  {
   "cell_type": "code",
   "execution_count": null,
   "metadata": {},
   "outputs": [],
   "source": []
  }
 ],
 "metadata": {
  "kernelspec": {
   "display_name": "Python 3",
   "language": "python",
   "name": "python3"
  },
  "language_info": {
   "codemirror_mode": {
    "name": "ipython",
    "version": 3
   },
   "file_extension": ".py",
   "mimetype": "text/x-python",
   "name": "python",
   "nbconvert_exporter": "python",
   "pygments_lexer": "ipython3",
   "version": "3.7.1"
  }
 },
 "nbformat": 4,
 "nbformat_minor": 2
}

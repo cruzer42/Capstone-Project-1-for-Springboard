{
 "cells": [
  {
   "cell_type": "code",
   "execution_count": 1,
   "metadata": {},
   "outputs": [
    {
     "name": "stdout",
     "output_type": "stream",
     "text": [
      "Wall time: 27.3 s\n"
     ]
    }
   ],
   "source": [
    "%%time\n",
    "# Import Modules\n",
    "import pandas as pd\n",
    "import matplotlib.pyplot as plt\n",
    "import seaborn as sns\n",
    "import numpy as np\n",
    "pd.options.display.float_format = '{:,.2f}'.format\n",
    "from sklearn.model_selection import train_test_split\n",
    "from sklearn.model_selection import GridSearchCV, RandomizedSearchCV\n",
    "from sklearn.metrics import accuracy_score , confusion_matrix , precision_score , precision_recall_curve , f1_score\n",
    "from sklearn.metrics import classification_report , roc_auc_score, recall_score\n",
    "from sklearn.naive_bayes import MultinomialNB\n",
    "from sklearn.linear_model import LogisticRegression\n",
    "from sklearn.ensemble import RandomForestClassifier\n",
    "from sklearn.preprocessing import StandardScaler\n",
    "from sklearn.neighbors import KNeighborsClassifier\n",
    "from sklearn.pipeline import Pipeline\n",
    "import sklearn.metrics as metrics\n",
    "from joblib import dump, load"
   ]
  },
  {
   "cell_type": "code",
   "execution_count": 2,
   "metadata": {},
   "outputs": [
    {
     "name": "stdout",
     "output_type": "stream",
     "text": [
      "<class 'pandas.core.frame.DataFrame'>\n",
      "RangeIndex: 6362620 entries, 0 to 6362619\n",
      "Data columns (total 11 columns):\n",
      "step              int64\n",
      "type              object\n",
      "amount            float64\n",
      "nameOrig          object\n",
      "oldbalanceOrg     float64\n",
      "newbalanceOrig    float64\n",
      "nameDest          object\n",
      "oldbalanceDest    float64\n",
      "newbalanceDest    float64\n",
      "isFraud           int64\n",
      "isFlaggedFraud    int64\n",
      "dtypes: float64(5), int64(3), object(3)\n",
      "memory usage: 534.0+ MB\n",
      "Wall time: 10.2 s\n"
     ]
    }
   ],
   "source": [
    "%%time\n",
    "# Read csv file into dataframe\n",
    "df = pd.read_csv('paysim.csv')\n",
    "df.info()"
   ]
  },
  {
   "cell_type": "code",
   "execution_count": 3,
   "metadata": {},
   "outputs": [
    {
     "data": {
      "text/html": [
       "<div>\n",
       "<style scoped>\n",
       "    .dataframe tbody tr th:only-of-type {\n",
       "        vertical-align: middle;\n",
       "    }\n",
       "\n",
       "    .dataframe tbody tr th {\n",
       "        vertical-align: top;\n",
       "    }\n",
       "\n",
       "    .dataframe thead th {\n",
       "        text-align: right;\n",
       "    }\n",
       "</style>\n",
       "<table border=\"1\" class=\"dataframe\">\n",
       "  <thead>\n",
       "    <tr style=\"text-align: right;\">\n",
       "      <th></th>\n",
       "      <th>step</th>\n",
       "      <th>amount</th>\n",
       "      <th>oldbalanceOrg</th>\n",
       "      <th>newbalanceOrig</th>\n",
       "      <th>oldbalanceDest</th>\n",
       "      <th>newbalanceDest</th>\n",
       "      <th>isFraud</th>\n",
       "      <th>isFlaggedFraud</th>\n",
       "    </tr>\n",
       "  </thead>\n",
       "  <tbody>\n",
       "    <tr>\n",
       "      <th>count</th>\n",
       "      <td>6,362,620.00</td>\n",
       "      <td>6,362,620.00</td>\n",
       "      <td>6,362,620.00</td>\n",
       "      <td>6,362,620.00</td>\n",
       "      <td>6,362,620.00</td>\n",
       "      <td>6,362,620.00</td>\n",
       "      <td>6,362,620.00</td>\n",
       "      <td>6,362,620.00</td>\n",
       "    </tr>\n",
       "    <tr>\n",
       "      <th>mean</th>\n",
       "      <td>243.40</td>\n",
       "      <td>179,861.90</td>\n",
       "      <td>833,883.10</td>\n",
       "      <td>855,113.67</td>\n",
       "      <td>1,100,701.67</td>\n",
       "      <td>1,224,996.40</td>\n",
       "      <td>0.00</td>\n",
       "      <td>0.00</td>\n",
       "    </tr>\n",
       "    <tr>\n",
       "      <th>std</th>\n",
       "      <td>142.33</td>\n",
       "      <td>603,858.23</td>\n",
       "      <td>2,888,242.67</td>\n",
       "      <td>2,924,048.50</td>\n",
       "      <td>3,399,180.11</td>\n",
       "      <td>3,674,128.94</td>\n",
       "      <td>0.04</td>\n",
       "      <td>0.00</td>\n",
       "    </tr>\n",
       "    <tr>\n",
       "      <th>min</th>\n",
       "      <td>1.00</td>\n",
       "      <td>0.00</td>\n",
       "      <td>0.00</td>\n",
       "      <td>0.00</td>\n",
       "      <td>0.00</td>\n",
       "      <td>0.00</td>\n",
       "      <td>0.00</td>\n",
       "      <td>0.00</td>\n",
       "    </tr>\n",
       "    <tr>\n",
       "      <th>25%</th>\n",
       "      <td>156.00</td>\n",
       "      <td>13,389.57</td>\n",
       "      <td>0.00</td>\n",
       "      <td>0.00</td>\n",
       "      <td>0.00</td>\n",
       "      <td>0.00</td>\n",
       "      <td>0.00</td>\n",
       "      <td>0.00</td>\n",
       "    </tr>\n",
       "    <tr>\n",
       "      <th>50%</th>\n",
       "      <td>239.00</td>\n",
       "      <td>74,871.94</td>\n",
       "      <td>14,208.00</td>\n",
       "      <td>0.00</td>\n",
       "      <td>132,705.66</td>\n",
       "      <td>214,661.44</td>\n",
       "      <td>0.00</td>\n",
       "      <td>0.00</td>\n",
       "    </tr>\n",
       "    <tr>\n",
       "      <th>75%</th>\n",
       "      <td>335.00</td>\n",
       "      <td>208,721.48</td>\n",
       "      <td>107,315.18</td>\n",
       "      <td>144,258.41</td>\n",
       "      <td>943,036.71</td>\n",
       "      <td>1,111,909.25</td>\n",
       "      <td>0.00</td>\n",
       "      <td>0.00</td>\n",
       "    </tr>\n",
       "    <tr>\n",
       "      <th>max</th>\n",
       "      <td>743.00</td>\n",
       "      <td>92,445,516.64</td>\n",
       "      <td>59,585,040.37</td>\n",
       "      <td>49,585,040.37</td>\n",
       "      <td>356,015,889.35</td>\n",
       "      <td>356,179,278.92</td>\n",
       "      <td>1.00</td>\n",
       "      <td>1.00</td>\n",
       "    </tr>\n",
       "  </tbody>\n",
       "</table>\n",
       "</div>"
      ],
      "text/plain": [
       "              step        amount  oldbalanceOrg  newbalanceOrig  \\\n",
       "count 6,362,620.00  6,362,620.00   6,362,620.00    6,362,620.00   \n",
       "mean        243.40    179,861.90     833,883.10      855,113.67   \n",
       "std         142.33    603,858.23   2,888,242.67    2,924,048.50   \n",
       "min           1.00          0.00           0.00            0.00   \n",
       "25%         156.00     13,389.57           0.00            0.00   \n",
       "50%         239.00     74,871.94      14,208.00            0.00   \n",
       "75%         335.00    208,721.48     107,315.18      144,258.41   \n",
       "max         743.00 92,445,516.64  59,585,040.37   49,585,040.37   \n",
       "\n",
       "       oldbalanceDest  newbalanceDest      isFraud  isFlaggedFraud  \n",
       "count    6,362,620.00    6,362,620.00 6,362,620.00    6,362,620.00  \n",
       "mean     1,100,701.67    1,224,996.40         0.00            0.00  \n",
       "std      3,399,180.11    3,674,128.94         0.04            0.00  \n",
       "min              0.00            0.00         0.00            0.00  \n",
       "25%              0.00            0.00         0.00            0.00  \n",
       "50%        132,705.66      214,661.44         0.00            0.00  \n",
       "75%        943,036.71    1,111,909.25         0.00            0.00  \n",
       "max    356,015,889.35  356,179,278.92         1.00            1.00  "
      ]
     },
     "execution_count": 3,
     "metadata": {},
     "output_type": "execute_result"
    }
   ],
   "source": [
    "df.describe()"
   ]
  },
  {
   "cell_type": "code",
   "execution_count": 4,
   "metadata": {
    "scrolled": true
   },
   "outputs": [
    {
     "data": {
      "text/html": [
       "<div>\n",
       "<style scoped>\n",
       "    .dataframe tbody tr th:only-of-type {\n",
       "        vertical-align: middle;\n",
       "    }\n",
       "\n",
       "    .dataframe tbody tr th {\n",
       "        vertical-align: top;\n",
       "    }\n",
       "\n",
       "    .dataframe thead th {\n",
       "        text-align: right;\n",
       "    }\n",
       "</style>\n",
       "<table border=\"1\" class=\"dataframe\">\n",
       "  <thead>\n",
       "    <tr style=\"text-align: right;\">\n",
       "      <th></th>\n",
       "      <th>step</th>\n",
       "      <th>type</th>\n",
       "      <th>amount</th>\n",
       "      <th>nameOrig</th>\n",
       "      <th>oldbalanceOrg</th>\n",
       "      <th>newbalanceOrig</th>\n",
       "      <th>nameDest</th>\n",
       "      <th>oldbalanceDest</th>\n",
       "      <th>newbalanceDest</th>\n",
       "      <th>isFraud</th>\n",
       "      <th>isFlaggedFraud</th>\n",
       "    </tr>\n",
       "  </thead>\n",
       "  <tbody>\n",
       "    <tr>\n",
       "      <th>0</th>\n",
       "      <td>1</td>\n",
       "      <td>PAYMENT</td>\n",
       "      <td>9,839.64</td>\n",
       "      <td>C1231006815</td>\n",
       "      <td>170,136.00</td>\n",
       "      <td>160,296.36</td>\n",
       "      <td>M1979787155</td>\n",
       "      <td>0.00</td>\n",
       "      <td>0.00</td>\n",
       "      <td>0</td>\n",
       "      <td>0</td>\n",
       "    </tr>\n",
       "    <tr>\n",
       "      <th>1</th>\n",
       "      <td>1</td>\n",
       "      <td>PAYMENT</td>\n",
       "      <td>1,864.28</td>\n",
       "      <td>C1666544295</td>\n",
       "      <td>21,249.00</td>\n",
       "      <td>19,384.72</td>\n",
       "      <td>M2044282225</td>\n",
       "      <td>0.00</td>\n",
       "      <td>0.00</td>\n",
       "      <td>0</td>\n",
       "      <td>0</td>\n",
       "    </tr>\n",
       "    <tr>\n",
       "      <th>2</th>\n",
       "      <td>1</td>\n",
       "      <td>TRANSFER</td>\n",
       "      <td>181.00</td>\n",
       "      <td>C1305486145</td>\n",
       "      <td>181.00</td>\n",
       "      <td>0.00</td>\n",
       "      <td>C553264065</td>\n",
       "      <td>0.00</td>\n",
       "      <td>0.00</td>\n",
       "      <td>1</td>\n",
       "      <td>0</td>\n",
       "    </tr>\n",
       "    <tr>\n",
       "      <th>3</th>\n",
       "      <td>1</td>\n",
       "      <td>CASH_OUT</td>\n",
       "      <td>181.00</td>\n",
       "      <td>C840083671</td>\n",
       "      <td>181.00</td>\n",
       "      <td>0.00</td>\n",
       "      <td>C38997010</td>\n",
       "      <td>21,182.00</td>\n",
       "      <td>0.00</td>\n",
       "      <td>1</td>\n",
       "      <td>0</td>\n",
       "    </tr>\n",
       "    <tr>\n",
       "      <th>4</th>\n",
       "      <td>1</td>\n",
       "      <td>PAYMENT</td>\n",
       "      <td>11,668.14</td>\n",
       "      <td>C2048537720</td>\n",
       "      <td>41,554.00</td>\n",
       "      <td>29,885.86</td>\n",
       "      <td>M1230701703</td>\n",
       "      <td>0.00</td>\n",
       "      <td>0.00</td>\n",
       "      <td>0</td>\n",
       "      <td>0</td>\n",
       "    </tr>\n",
       "  </tbody>\n",
       "</table>\n",
       "</div>"
      ],
      "text/plain": [
       "   step      type    amount     nameOrig  oldbalanceOrg  newbalanceOrig  \\\n",
       "0     1   PAYMENT  9,839.64  C1231006815     170,136.00      160,296.36   \n",
       "1     1   PAYMENT  1,864.28  C1666544295      21,249.00       19,384.72   \n",
       "2     1  TRANSFER    181.00  C1305486145         181.00            0.00   \n",
       "3     1  CASH_OUT    181.00   C840083671         181.00            0.00   \n",
       "4     1   PAYMENT 11,668.14  C2048537720      41,554.00       29,885.86   \n",
       "\n",
       "      nameDest  oldbalanceDest  newbalanceDest  isFraud  isFlaggedFraud  \n",
       "0  M1979787155            0.00            0.00        0               0  \n",
       "1  M2044282225            0.00            0.00        0               0  \n",
       "2   C553264065            0.00            0.00        1               0  \n",
       "3    C38997010       21,182.00            0.00        1               0  \n",
       "4  M1230701703            0.00            0.00        0               0  "
      ]
     },
     "execution_count": 4,
     "metadata": {},
     "output_type": "execute_result"
    }
   ],
   "source": [
    "df.head()"
   ]
  },
  {
   "cell_type": "code",
   "execution_count": 5,
   "metadata": {},
   "outputs": [],
   "source": [
    "# Convert \"type\" into categorical variables, e.g. values 0,1 for each type as its own column\n",
    "df['type'] = df['type'].astype('category')\n",
    "df = pd.get_dummies(df , columns= ['type'])"
   ]
  },
  {
   "cell_type": "code",
   "execution_count": 6,
   "metadata": {},
   "outputs": [
    {
     "data": {
      "text/html": [
       "<div>\n",
       "<style scoped>\n",
       "    .dataframe tbody tr th:only-of-type {\n",
       "        vertical-align: middle;\n",
       "    }\n",
       "\n",
       "    .dataframe tbody tr th {\n",
       "        vertical-align: top;\n",
       "    }\n",
       "\n",
       "    .dataframe thead th {\n",
       "        text-align: right;\n",
       "    }\n",
       "</style>\n",
       "<table border=\"1\" class=\"dataframe\">\n",
       "  <thead>\n",
       "    <tr style=\"text-align: right;\">\n",
       "      <th></th>\n",
       "      <th>step</th>\n",
       "      <th>amount</th>\n",
       "      <th>nameOrig</th>\n",
       "      <th>oldbalanceOrg</th>\n",
       "      <th>newbalanceOrig</th>\n",
       "      <th>nameDest</th>\n",
       "      <th>oldbalanceDest</th>\n",
       "      <th>newbalanceDest</th>\n",
       "      <th>isFraud</th>\n",
       "      <th>isFlaggedFraud</th>\n",
       "      <th>type_CASH_IN</th>\n",
       "      <th>type_CASH_OUT</th>\n",
       "      <th>type_DEBIT</th>\n",
       "      <th>type_PAYMENT</th>\n",
       "      <th>type_TRANSFER</th>\n",
       "    </tr>\n",
       "  </thead>\n",
       "  <tbody>\n",
       "    <tr>\n",
       "      <th>0</th>\n",
       "      <td>1</td>\n",
       "      <td>9,839.64</td>\n",
       "      <td>C1231006815</td>\n",
       "      <td>170,136.00</td>\n",
       "      <td>160,296.36</td>\n",
       "      <td>M1979787155</td>\n",
       "      <td>0.00</td>\n",
       "      <td>0.00</td>\n",
       "      <td>0</td>\n",
       "      <td>0</td>\n",
       "      <td>0</td>\n",
       "      <td>0</td>\n",
       "      <td>0</td>\n",
       "      <td>1</td>\n",
       "      <td>0</td>\n",
       "    </tr>\n",
       "    <tr>\n",
       "      <th>1</th>\n",
       "      <td>1</td>\n",
       "      <td>1,864.28</td>\n",
       "      <td>C1666544295</td>\n",
       "      <td>21,249.00</td>\n",
       "      <td>19,384.72</td>\n",
       "      <td>M2044282225</td>\n",
       "      <td>0.00</td>\n",
       "      <td>0.00</td>\n",
       "      <td>0</td>\n",
       "      <td>0</td>\n",
       "      <td>0</td>\n",
       "      <td>0</td>\n",
       "      <td>0</td>\n",
       "      <td>1</td>\n",
       "      <td>0</td>\n",
       "    </tr>\n",
       "    <tr>\n",
       "      <th>2</th>\n",
       "      <td>1</td>\n",
       "      <td>181.00</td>\n",
       "      <td>C1305486145</td>\n",
       "      <td>181.00</td>\n",
       "      <td>0.00</td>\n",
       "      <td>C553264065</td>\n",
       "      <td>0.00</td>\n",
       "      <td>0.00</td>\n",
       "      <td>1</td>\n",
       "      <td>0</td>\n",
       "      <td>0</td>\n",
       "      <td>0</td>\n",
       "      <td>0</td>\n",
       "      <td>0</td>\n",
       "      <td>1</td>\n",
       "    </tr>\n",
       "    <tr>\n",
       "      <th>3</th>\n",
       "      <td>1</td>\n",
       "      <td>181.00</td>\n",
       "      <td>C840083671</td>\n",
       "      <td>181.00</td>\n",
       "      <td>0.00</td>\n",
       "      <td>C38997010</td>\n",
       "      <td>21,182.00</td>\n",
       "      <td>0.00</td>\n",
       "      <td>1</td>\n",
       "      <td>0</td>\n",
       "      <td>0</td>\n",
       "      <td>1</td>\n",
       "      <td>0</td>\n",
       "      <td>0</td>\n",
       "      <td>0</td>\n",
       "    </tr>\n",
       "    <tr>\n",
       "      <th>4</th>\n",
       "      <td>1</td>\n",
       "      <td>11,668.14</td>\n",
       "      <td>C2048537720</td>\n",
       "      <td>41,554.00</td>\n",
       "      <td>29,885.86</td>\n",
       "      <td>M1230701703</td>\n",
       "      <td>0.00</td>\n",
       "      <td>0.00</td>\n",
       "      <td>0</td>\n",
       "      <td>0</td>\n",
       "      <td>0</td>\n",
       "      <td>0</td>\n",
       "      <td>0</td>\n",
       "      <td>1</td>\n",
       "      <td>0</td>\n",
       "    </tr>\n",
       "  </tbody>\n",
       "</table>\n",
       "</div>"
      ],
      "text/plain": [
       "   step    amount     nameOrig  oldbalanceOrg  newbalanceOrig     nameDest  \\\n",
       "0     1  9,839.64  C1231006815     170,136.00      160,296.36  M1979787155   \n",
       "1     1  1,864.28  C1666544295      21,249.00       19,384.72  M2044282225   \n",
       "2     1    181.00  C1305486145         181.00            0.00   C553264065   \n",
       "3     1    181.00   C840083671         181.00            0.00    C38997010   \n",
       "4     1 11,668.14  C2048537720      41,554.00       29,885.86  M1230701703   \n",
       "\n",
       "   oldbalanceDest  newbalanceDest  isFraud  isFlaggedFraud  type_CASH_IN  \\\n",
       "0            0.00            0.00        0               0             0   \n",
       "1            0.00            0.00        0               0             0   \n",
       "2            0.00            0.00        1               0             0   \n",
       "3       21,182.00            0.00        1               0             0   \n",
       "4            0.00            0.00        0               0             0   \n",
       "\n",
       "   type_CASH_OUT  type_DEBIT  type_PAYMENT  type_TRANSFER  \n",
       "0              0           0             1              0  \n",
       "1              0           0             1              0  \n",
       "2              0           0             0              1  \n",
       "3              1           0             0              0  \n",
       "4              0           0             1              0  "
      ]
     },
     "execution_count": 6,
     "metadata": {},
     "output_type": "execute_result"
    }
   ],
   "source": [
    "df.head()"
   ]
  },
  {
   "cell_type": "code",
   "execution_count": 7,
   "metadata": {},
   "outputs": [],
   "source": [
    "# Define X with selected columns, y as the binary variable to predict\n",
    "X = df.drop(['isFraud' , 'isFlaggedFraud' , 'nameOrig' , 'nameDest' ] , axis = 1 ).values\n",
    "y = df['isFraud'].values"
   ]
  },
  {
   "cell_type": "code",
   "execution_count": 8,
   "metadata": {},
   "outputs": [],
   "source": [
    "# Train, Test, Split to segregate Training from Test data\n",
    "X_train, X_test, y_train, y_test = train_test_split(X, y, test_size=0.30, random_state=42)"
   ]
  },
  {
   "cell_type": "code",
   "execution_count": 9,
   "metadata": {},
   "outputs": [
    {
     "name": "stderr",
     "output_type": "stream",
     "text": [
      "C:\\Users\\19145\\Anaconda3\\lib\\site-packages\\sklearn\\ensemble\\forest.py:245: FutureWarning: The default value of n_estimators will change from 10 in version 0.20 to 100 in 0.22.\n",
      "  \"10 in version 0.20 to 100 in 0.22.\", FutureWarning)\n"
     ]
    },
    {
     "name": "stdout",
     "output_type": "stream",
     "text": [
      "[[1906298      53]\n",
      " [    526    1909]]\n",
      "Accuracy score:  0.9996966658389154\n",
      "F1 score:  0.8683193086195133\n",
      "Precision score:  0.972986748216106\n",
      "Recall score:  0.7839835728952772\n",
      "              precision    recall  f1-score   support\n",
      "\n",
      "           0       1.00      1.00      1.00   1906351\n",
      "           1       0.97      0.78      0.87      2435\n",
      "\n",
      "    accuracy                           1.00   1908786\n",
      "   macro avg       0.99      0.89      0.93   1908786\n",
      "weighted avg       1.00      1.00      1.00   1908786\n",
      "\n",
      "Wall time: 2min 18s\n"
     ]
    },
    {
     "data": {
      "text/plain": [
       "RandomForestClassifier(bootstrap=True, class_weight=None, criterion='gini',\n",
       "                       max_depth=None, max_features='auto', max_leaf_nodes=None,\n",
       "                       min_impurity_decrease=0.0, min_impurity_split=None,\n",
       "                       min_samples_leaf=1, min_samples_split=2,\n",
       "                       min_weight_fraction_leaf=0.0, n_estimators=10,\n",
       "                       n_jobs=None, oob_score=False, random_state=None,\n",
       "                       verbose=0, warm_start=False)"
      ]
     },
     "execution_count": 9,
     "metadata": {},
     "output_type": "execute_result"
    }
   ],
   "source": [
    "%%time\n",
    "#lr = LogisticRegression(solver='lbfgs', max_iter=1000)\n",
    "rc = RandomForestClassifier()\n",
    "\n",
    "rc.fit(X_train, y_train)\n",
    "\n",
    "rc_predict = rc.predict(X_test)\n",
    "\n",
    "print (confusion_matrix(y_test , rc_predict))\n",
    "print (\"Accuracy score: \", accuracy_score(y_test , rc_predict))\n",
    "print(\"F1 score: \", f1_score(y_test , rc_predict))\n",
    "print(\"Precision score: \" , precision_score(y_test , rc_predict))\n",
    "print(\"Recall score: \" , recall_score(y_test , rc_predict))\n",
    "print (classification_report(y_test , rc_predict))\n",
    "rc"
   ]
  },
  {
   "cell_type": "code",
   "execution_count": 10,
   "metadata": {},
   "outputs": [
    {
     "name": "stderr",
     "output_type": "stream",
     "text": [
      "C:\\Users\\19145\\Anaconda3\\lib\\site-packages\\sklearn\\ensemble\\forest.py:245: FutureWarning: The default value of n_estimators will change from 10 in version 0.20 to 100 in 0.22.\n",
      "  \"10 in version 0.20 to 100 in 0.22.\", FutureWarning)\n"
     ]
    },
    {
     "name": "stdout",
     "output_type": "stream",
     "text": [
      "[[1906303      48]\n",
      " [    550    1885]]\n",
      "Accuracy score:  0.9996867118681717\n",
      "F1 score:  0.8630952380952381\n",
      "Precision score:  0.975168132436627\n",
      "Recall score:  0.7741273100616016\n",
      "              precision    recall  f1-score   support\n",
      "\n",
      "           0       1.00      1.00      1.00   1906351\n",
      "           1       0.98      0.77      0.86      2435\n",
      "\n",
      "    accuracy                           1.00   1908786\n",
      "   macro avg       0.99      0.89      0.93   1908786\n",
      "weighted avg       1.00      1.00      1.00   1908786\n",
      "\n",
      "Wall time: 2min 28s\n"
     ]
    },
    {
     "data": {
      "text/plain": [
       "Pipeline(memory=None,\n",
       "         steps=[('scaler',\n",
       "                 StandardScaler(copy=True, with_mean=True, with_std=True)),\n",
       "                ('rc',\n",
       "                 RandomForestClassifier(bootstrap=True, class_weight=None,\n",
       "                                        criterion='gini', max_depth=None,\n",
       "                                        max_features='auto',\n",
       "                                        max_leaf_nodes=None,\n",
       "                                        min_impurity_decrease=0.0,\n",
       "                                        min_impurity_split=None,\n",
       "                                        min_samples_leaf=1, min_samples_split=2,\n",
       "                                        min_weight_fraction_leaf=0.0,\n",
       "                                        n_estimators=10, n_jobs=None,\n",
       "                                        oob_score=False, random_state=None,\n",
       "                                        verbose=0, warm_start=False))],\n",
       "         verbose=False)"
      ]
     },
     "execution_count": 10,
     "metadata": {},
     "output_type": "execute_result"
    }
   ],
   "source": [
    "%%time\n",
    "# Setup the pipeline steps: steps\n",
    "steps = [('scaler', StandardScaler()),\n",
    "        ('rc', RandomForestClassifier())]\n",
    "        \n",
    "# Create the pipeline: pipeline\n",
    "pipeline = Pipeline(steps)\n",
    "\n",
    "# Create train and test sets\n",
    "#X_train, X_test, y_train, y_test = train_test_split(X, y, random_state=42, test_size=0.3)\n",
    "\n",
    "# Fit the pipeline to the training set: knn_scaled\n",
    "\n",
    "rc_scaled = pipeline.fit(X_train, y_train)\n",
    "\n",
    "rc_predict_scaled = rc_scaled.predict(X_test)\n",
    "\n",
    "# Instantiate and fit a k-NN classifier to the unscaled data\n",
    "\n",
    "# Compute and print metrics\n",
    "print (confusion_matrix(y_test , rc_predict_scaled))\n",
    "print (\"Accuracy score: \", accuracy_score(y_test , rc_predict_scaled))\n",
    "print(\"F1 score: \", f1_score(y_test , rc_predict_scaled))\n",
    "print(\"Precision score: \" , precision_score(y_test , rc_predict_scaled))\n",
    "print(\"Recall score: \" , recall_score(y_test , rc_predict_scaled))\n",
    "print (classification_report(y_test , rc_predict_scaled))\n",
    "rc_scaled"
   ]
  },
  {
   "cell_type": "code",
   "execution_count": 11,
   "metadata": {},
   "outputs": [
    {
     "name": "stdout",
     "output_type": "stream",
     "text": [
      "[[1906306      45]\n",
      " [    523    1912]]\n",
      "Accuracy score:  0.9997024286640829\n",
      "F1 score:  0.8706739526411658\n",
      "Precision score:  0.977005620848237\n",
      "Recall score:  0.7852156057494867\n",
      "              precision    recall  f1-score   support\n",
      "\n",
      "           0       1.00      1.00      1.00   1906351\n",
      "           1       0.98      0.79      0.87      2435\n",
      "\n",
      "    accuracy                           1.00   1908786\n",
      "   macro avg       0.99      0.89      0.94   1908786\n",
      "weighted avg       1.00      1.00      1.00   1908786\n",
      "\n",
      "Wall time: 22min 17s\n"
     ]
    },
    {
     "data": {
      "text/plain": [
       "Pipeline(memory=None,\n",
       "         steps=[('scaler',\n",
       "                 StandardScaler(copy=True, with_mean=True, with_std=True)),\n",
       "                ('rc2',\n",
       "                 RandomForestClassifier(bootstrap=True, class_weight=None,\n",
       "                                        criterion='gini', max_depth=None,\n",
       "                                        max_features='auto',\n",
       "                                        max_leaf_nodes=None,\n",
       "                                        min_impurity_decrease=0.0,\n",
       "                                        min_impurity_split=None,\n",
       "                                        min_samples_leaf=1, min_samples_split=2,\n",
       "                                        min_weight_fraction_leaf=0.0,\n",
       "                                        n_estimators=100, n_jobs=None,\n",
       "                                        oob_score=False, random_state=None,\n",
       "                                        verbose=0, warm_start=False))],\n",
       "         verbose=False)"
      ]
     },
     "execution_count": 11,
     "metadata": {},
     "output_type": "execute_result"
    }
   ],
   "source": [
    "%%time\n",
    "# Set max_iter=1000 and compare to default(100) no convergange result: Similar result \n",
    "steps = [('scaler', StandardScaler()),\n",
    "        ('rc2', RandomForestClassifier(n_estimators=100))]\n",
    "        \n",
    "# Create the pipeline: pipeline\n",
    "pipeline = Pipeline(steps)\n",
    "\n",
    "# Create train and test sets\n",
    "#X_train, X_test, y_train, y_test = train_test_split(X, y, random_state=42, test_size=0.3)\n",
    "\n",
    "# Fit the pipeline to the training set: knn_scaled\n",
    "\n",
    "rc_scaled2 = pipeline.fit(X_train, y_train)\n",
    "\n",
    "rc_predict_scaled2 = rc_scaled2.predict(X_test)\n",
    "\n",
    "# Instantiate and fit a k-NN classifier to the unscaled data\n",
    "\n",
    "# Compute and print metrics\n",
    "print (confusion_matrix(y_test , rc_predict_scaled2))\n",
    "print (\"Accuracy score: \", accuracy_score(y_test , rc_predict_scaled2))\n",
    "print(\"F1 score: \", f1_score(y_test , rc_predict_scaled2))\n",
    "print(\"Precision score: \" , precision_score(y_test , rc_predict_scaled2))\n",
    "print(\"Recall score: \" , recall_score(y_test , rc_predict_scaled2))\n",
    "print (classification_report(y_test , rc_predict_scaled2))\n",
    "rc_scaled2"
   ]
  },
  {
   "cell_type": "code",
   "execution_count": 12,
   "metadata": {},
   "outputs": [
    {
     "name": "stdout",
     "output_type": "stream",
     "text": [
      "[[4448056       0]\n",
      " [      0    5778]]\n",
      "Accuracy score:  1.0\n",
      "F1 score:  1.0\n",
      "Precision score:  1.0\n",
      "Recall score:  1.0\n",
      "              precision    recall  f1-score   support\n",
      "\n",
      "           0       1.00      1.00      1.00   4448056\n",
      "           1       1.00      1.00      1.00      5778\n",
      "\n",
      "    accuracy                           1.00   4453834\n",
      "   macro avg       1.00      1.00      1.00   4453834\n",
      "weighted avg       1.00      1.00      1.00   4453834\n",
      "\n",
      "Wall time: 22min 31s\n"
     ]
    },
    {
     "data": {
      "text/plain": [
       "Pipeline(memory=None,\n",
       "         steps=[('scaler',\n",
       "                 StandardScaler(copy=True, with_mean=True, with_std=True)),\n",
       "                ('rc2',\n",
       "                 RandomForestClassifier(bootstrap=True, class_weight=None,\n",
       "                                        criterion='gini', max_depth=None,\n",
       "                                        max_features='auto',\n",
       "                                        max_leaf_nodes=None,\n",
       "                                        min_impurity_decrease=0.0,\n",
       "                                        min_impurity_split=None,\n",
       "                                        min_samples_leaf=1, min_samples_split=2,\n",
       "                                        min_weight_fraction_leaf=0.0,\n",
       "                                        n_estimators=100, n_jobs=None,\n",
       "                                        oob_score=False, random_state=None,\n",
       "                                        verbose=0, warm_start=False))],\n",
       "         verbose=False)"
      ]
     },
     "execution_count": 12,
     "metadata": {},
     "output_type": "execute_result"
    }
   ],
   "source": [
    "%%time\n",
    "# Set max_iter=1000 and compare to default(100) no convergange result: Similar result \n",
    "steps = [('scaler', StandardScaler()),\n",
    "        ('rc2', RandomForestClassifier(n_estimators=100))]\n",
    "        \n",
    "# Create the pipeline: pipeline\n",
    "pipeline = Pipeline(steps)\n",
    "\n",
    "# Create train and test sets\n",
    "#X_train, X_test, y_train, y_test = train_test_split(X, y, random_state=42, test_size=0.3)\n",
    "\n",
    "# Fit the pipeline to the training set: knn_scaled\n",
    "\n",
    "rc_train_scaled2 = pipeline.fit(X_train, y_train)\n",
    "\n",
    "rc_predict_train_scaled2 = rc_train_scaled2.predict(X_train)\n",
    "\n",
    "# Instantiate and fit a k-NN classifier to the unscaled data\n",
    "\n",
    "# Compute and print metrics\n",
    "print (confusion_matrix(y_train , rc_predict_train_scaled2))\n",
    "print (\"Accuracy score: \", accuracy_score(y_train , rc_predict_train_scaled2))\n",
    "print(\"F1 score: \", f1_score(y_train , rc_predict_train_scaled2))\n",
    "print(\"Precision score: \" , precision_score(y_train , rc_predict_train_scaled2))\n",
    "print(\"Recall score: \" , recall_score(y_train , rc_predict_train_scaled2))\n",
    "print (classification_report(y_train , rc_predict_train_scaled2))\n",
    "rc_train_scaled2"
   ]
  },
  {
   "cell_type": "code",
   "execution_count": 19,
   "metadata": {},
   "outputs": [
    {
     "name": "stdout",
     "output_type": "stream",
     "text": [
      "Fitting 5 folds for each of 24 candidates, totalling 120 fits\n"
     ]
    },
    {
     "name": "stderr",
     "output_type": "stream",
     "text": [
      "[Parallel(n_jobs=-1)]: Using backend LokyBackend with 4 concurrent workers.\n",
      "[Parallel(n_jobs=-1)]: Done  42 tasks      | elapsed: 178.7min\n",
      "[Parallel(n_jobs=-1)]: Done 120 out of 120 | elapsed: 448.3min finished\n"
     ]
    },
    {
     "name": "stdout",
     "output_type": "stream",
     "text": [
      "Tuned Logistic Regression Parameter: {'rc2__class_weight': None, 'rc2__criterion': 'entropy', 'rc2__max_depth': 50}\n",
      "Tuned Logistic Regression Accuracy: 0.9997054223394944\n",
      "[[1906310      41]\n",
      " [    514    1921]]\n",
      "Accuracy score:  0.9997092392756443\n",
      "F1 score:  0.8737775756197408\n",
      "Precision score:  0.9791029561671764\n",
      "Recall score:  0.788911704312115\n",
      "              precision    recall  f1-score   support\n",
      "\n",
      "           0       1.00      1.00      1.00   1906351\n",
      "           1       0.98      0.79      0.87      2435\n",
      "\n",
      "    accuracy                           1.00   1908786\n",
      "   macro avg       0.99      0.89      0.94   1908786\n",
      "weighted avg       1.00      1.00      1.00   1908786\n",
      "\n",
      "Wall time: 7h 45min 15s\n"
     ]
    },
    {
     "data": {
      "text/plain": [
       "GridSearchCV(cv=5, error_score='raise-deprecating',\n",
       "             estimator=Pipeline(memory=None,\n",
       "                                steps=[('scaler',\n",
       "                                        StandardScaler(copy=True,\n",
       "                                                       with_mean=True,\n",
       "                                                       with_std=True)),\n",
       "                                       ('rc2',\n",
       "                                        RandomForestClassifier(bootstrap=True,\n",
       "                                                               class_weight=None,\n",
       "                                                               criterion='gini',\n",
       "                                                               max_depth=None,\n",
       "                                                               max_features='auto',\n",
       "                                                               max_leaf_nodes=None,\n",
       "                                                               min_impurity_decrease=0.0,\n",
       "                                                               min_impurity_split=None,\n",
       "                                                               min_samples...\n",
       "                                                               min_weight_fraction_leaf=0.0,\n",
       "                                                               n_estimators=100,\n",
       "                                                               n_jobs=None,\n",
       "                                                               oob_score=False,\n",
       "                                                               random_state=None,\n",
       "                                                               verbose=0,\n",
       "                                                               warm_start=False))],\n",
       "                                verbose=False),\n",
       "             iid='warn', n_jobs=-1,\n",
       "             param_grid={'rc2__class_weight': [None, 'balanced'],\n",
       "                         'rc2__criterion': ['gini', 'entropy'],\n",
       "                         'rc2__max_depth': [1, 10, 20, 30, 50, None]},\n",
       "             pre_dispatch='2*n_jobs', refit=True, return_train_score=False,\n",
       "             scoring=None, verbose=True)"
      ]
     },
     "execution_count": 19,
     "metadata": {},
     "output_type": "execute_result"
    }
   ],
   "source": [
    "%%time\n",
    "# Setup the pipeline\n",
    "steps = [('scaler', StandardScaler()),\n",
    "         ('rc2', RandomForestClassifier(n_estimators=100))\n",
    "         ]\n",
    "\n",
    "pipeline = Pipeline(steps)\n",
    "\n",
    "# Create the hyperparameter grid\n",
    "#c_space = np.logspace(-5, 8, 15)\n",
    "param_grid = {'rc2__max_depth': [1, 10, 20, 30, 50, None],\n",
    "                'rc2__class_weight': [None, 'balanced'],\n",
    "                 'rc2__criterion' : ['gini', 'entropy']}\n",
    "\n",
    "# Instantiate the logistic regression classifier: logreg\n",
    "#logreg = LogisticRegression(solver='lbfgs', max_iter=1000)\n",
    "\n",
    "# Create train and test sets\n",
    "#X_train, X_test, y_train, y_test = train_test_split(X, y, random_state=42, test_size=0.4)\n",
    "\n",
    "# Instantiate the GridSearchCV object: logreg_cv\n",
    "rc_cv = GridSearchCV(pipeline, param_grid, cv=5, verbose=True, n_jobs=-1)\n",
    "\n",
    "# Fit it to the training data\n",
    "rc_cv.fit(X_train, y_train)\n",
    "\n",
    "rc_cv_predict = rc_cv.predict(X_test)\n",
    "\n",
    "# Print the optimal parameters and best score\n",
    "print(\"Tuned Logistic Regression Parameter: {}\".format(rc_cv.best_params_))\n",
    "print(\"Tuned Logistic Regression Accuracy: {}\".format(rc_cv.best_score_))\n",
    "\n",
    "\n",
    "# Compute and print metrics\n",
    "print (confusion_matrix(y_test , rc_cv_predict))\n",
    "print (\"Accuracy score: \", accuracy_score(y_test , rc_cv_predict))\n",
    "print(\"F1 score: \", f1_score(y_test , rc_cv_predict))\n",
    "print(\"Precision score: \" , precision_score(y_test , rc_cv_predict))\n",
    "print(\"Recall score: \" , recall_score(y_test , rc_cv_predict))\n",
    "print (classification_report(y_test , rc_cv_predict))\n",
    "rc_cv"
   ]
  },
  {
   "cell_type": "code",
   "execution_count": 40,
   "metadata": {},
   "outputs": [
    {
     "name": "stdout",
     "output_type": "stream",
     "text": [
      "Fitting 5 folds for each of 7 candidates, totalling 35 fits\n"
     ]
    },
    {
     "name": "stderr",
     "output_type": "stream",
     "text": [
      "[Parallel(n_jobs=-1)]: Using backend LokyBackend with 4 concurrent workers.\n",
      "[Parallel(n_jobs=-1)]: Done  35 out of  35 | elapsed: 207.8min finished\n"
     ]
    },
    {
     "name": "stdout",
     "output_type": "stream",
     "text": [
      "Tuned Logistic Regression Parameter: {'rc3__max_depth': 200}\n",
      "Tuned Logistic Regression Accuracy: 0.9996975639415389\n",
      "[[1906312      39]\n",
      " [    537    1898]]\n",
      "Accuracy score:  0.9996982375185065\n",
      "F1 score:  0.868252516010979\n",
      "Precision score:  0.9798657718120806\n",
      "Recall score:  0.7794661190965092\n",
      "              precision    recall  f1-score   support\n",
      "\n",
      "           0       1.00      1.00      1.00   1906351\n",
      "           1       0.98      0.78      0.87      2435\n",
      "\n",
      "    accuracy                           1.00   1908786\n",
      "   macro avg       0.99      0.89      0.93   1908786\n",
      "weighted avg       1.00      1.00      1.00   1908786\n",
      "\n",
      "Wall time: 3h 51min 19s\n"
     ]
    },
    {
     "data": {
      "text/plain": [
       "GridSearchCV(cv=5, error_score='raise-deprecating',\n",
       "             estimator=Pipeline(memory=None,\n",
       "                                steps=[('scaler',\n",
       "                                        StandardScaler(copy=True,\n",
       "                                                       with_mean=True,\n",
       "                                                       with_std=True)),\n",
       "                                       ('rc3',\n",
       "                                        RandomForestClassifier(bootstrap=True,\n",
       "                                                               class_weight=None,\n",
       "                                                               criterion='gini',\n",
       "                                                               max_depth=None,\n",
       "                                                               max_features='auto',\n",
       "                                                               max_leaf_nodes=None,\n",
       "                                                               min_impurity_decrease=0.0,\n",
       "                                                               min_impurity_split=None,\n",
       "                                                               min_samples_leaf=1,\n",
       "                                                               min_samples_split=2,\n",
       "                                                               min_weight_fraction_leaf=0.0,\n",
       "                                                               n_estimators=100,\n",
       "                                                               n_jobs=None,\n",
       "                                                               oob_score=False,\n",
       "                                                               random_state=None,\n",
       "                                                               verbose=0,\n",
       "                                                               warm_start=False))],\n",
       "                                verbose=False),\n",
       "             iid='warn', n_jobs=-1,\n",
       "             param_grid={'rc3__max_depth': [100, 200, 500, 2000, 5000, 10000,\n",
       "                                            None]},\n",
       "             pre_dispatch='2*n_jobs', refit=True, return_train_score=False,\n",
       "             scoring=None, verbose=True)"
      ]
     },
     "execution_count": 40,
     "metadata": {},
     "output_type": "execute_result"
    }
   ],
   "source": [
    "%%time\n",
    "# Setup the pipeline\n",
    "steps = [('scaler', StandardScaler()),\n",
    "         ('rc3', RandomForestClassifier(n_estimators=100))\n",
    "         ]\n",
    "\n",
    "pipeline = Pipeline(steps)\n",
    "\n",
    "# Create the hyperparameter grid\n",
    "#c_space = np.logspace(-5, 8, 15)\n",
    "param_grid = {'rc3__max_depth': [100, 200, 500, 2000, 5000, 10000, None]}\n",
    "\n",
    "# Instantiate the logistic regression classifier: logreg\n",
    "#logreg = LogisticRegression(solver='lbfgs', max_iter=1000)\n",
    "\n",
    "# Create train and test sets\n",
    "#X_train, X_test, y_train, y_test = train_test_split(X, y, random_state=42, test_size=0.4)\n",
    "\n",
    "# Instantiate the GridSearchCV object: logreg_cv\n",
    "rc_cv3 = GridSearchCV(pipeline, param_grid, cv=5, verbose=True, n_jobs=-1)\n",
    "\n",
    "# Fit it to the training data\n",
    "rc_cv3.fit(X_train, y_train)\n",
    "\n",
    "rc_cv3_predict = rc_cv3.predict(X_test)\n",
    "\n",
    "# Print the optimal parameters and best score\n",
    "print(\"Tuned Logistic Regression Parameter: {}\".format(rc_cv3.best_params_))\n",
    "print(\"Tuned Logistic Regression Accuracy: {}\".format(rc_cv3.best_score_))\n",
    "\n",
    "\n",
    "# Compute and print metrics\n",
    "print (confusion_matrix(y_test , rc_cv3_predict))\n",
    "print (\"Accuracy score: \", accuracy_score(y_test , rc_cv3_predict))\n",
    "print(\"F1 score: \", f1_score(y_test , rc_cv3_predict))\n",
    "print(\"Precision score: \" , precision_score(y_test , rc_cv3_predict))\n",
    "print(\"Recall score: \" , recall_score(y_test , rc_cv3_predict))\n",
    "print (classification_report(y_test , rc_cv3_predict))\n",
    "rc_cv3"
   ]
  },
  {
   "cell_type": "code",
   "execution_count": 9,
   "metadata": {},
   "outputs": [
    {
     "name": "stdout",
     "output_type": "stream",
     "text": [
      "Fitting 5 folds for each of 6 candidates, totalling 30 fits\n"
     ]
    },
    {
     "name": "stderr",
     "output_type": "stream",
     "text": [
      "[Parallel(n_jobs=-1)]: Using backend LokyBackend with 4 concurrent workers.\n",
      "[Parallel(n_jobs=-1)]: Done  30 out of  30 | elapsed: 161.2min finished\n"
     ]
    },
    {
     "name": "stdout",
     "output_type": "stream",
     "text": [
      "Tuned Logistic Regression Parameter: {'rc4__max_depth': 30}\n",
      "Tuned Logistic Regression Accuracy: 0.9997002582494093\n",
      "[[1906305      46]\n",
      " [    540    1895]]\n",
      "Accuracy score:  0.9996929985865362\n",
      "F1 score:  0.8660877513711152\n",
      "Precision score:  0.9763008758371973\n",
      "Recall score:  0.7782340862422998\n",
      "              precision    recall  f1-score   support\n",
      "\n",
      "           0       1.00      1.00      1.00   1906351\n",
      "           1       0.98      0.78      0.87      2435\n",
      "\n",
      "    accuracy                           1.00   1908786\n",
      "   macro avg       0.99      0.89      0.93   1908786\n",
      "weighted avg       1.00      1.00      1.00   1908786\n",
      "\n",
      "Wall time: 3h 3min 35s\n"
     ]
    },
    {
     "data": {
      "text/plain": [
       "GridSearchCV(cv=5, error_score='raise-deprecating',\n",
       "             estimator=Pipeline(memory=None,\n",
       "                                steps=[('scaler',\n",
       "                                        StandardScaler(copy=True,\n",
       "                                                       with_mean=True,\n",
       "                                                       with_std=True)),\n",
       "                                       ('rc4',\n",
       "                                        RandomForestClassifier(bootstrap=True,\n",
       "                                                               class_weight=None,\n",
       "                                                               criterion='gini',\n",
       "                                                               max_depth=None,\n",
       "                                                               max_features='auto',\n",
       "                                                               max_leaf_nodes=None,\n",
       "                                                               min_impurity_decrease=0.0,\n",
       "                                                               min_impurity_split=None,\n",
       "                                                               min_samples_leaf=1,\n",
       "                                                               min_samples_split=2,\n",
       "                                                               min_weight_fraction_leaf=0.0,\n",
       "                                                               n_estimators=100,\n",
       "                                                               n_jobs=None,\n",
       "                                                               oob_score=False,\n",
       "                                                               random_state=None,\n",
       "                                                               verbose=0,\n",
       "                                                               warm_start=False))],\n",
       "                                verbose=False),\n",
       "             iid='warn', n_jobs=-1,\n",
       "             param_grid={'rc4__max_depth': [10, 20, 30, 100, 200, None]},\n",
       "             pre_dispatch='2*n_jobs', refit=True, return_train_score=False,\n",
       "             scoring=None, verbose=True)"
      ]
     },
     "execution_count": 9,
     "metadata": {},
     "output_type": "execute_result"
    }
   ],
   "source": [
    "%%time\n",
    "# Setup the pipeline\n",
    "steps = [('scaler', StandardScaler()),\n",
    "         ('rc4', RandomForestClassifier(n_estimators=100))\n",
    "         ]\n",
    "\n",
    "pipeline = Pipeline(steps)\n",
    "\n",
    "# Create the hyperparameter grid\n",
    "#c_space = np.logspace(-5, 8, 15)\n",
    "param_grid = {'rc4__max_depth': [10, 20, 30, 100, 200, None]}\n",
    "\n",
    "# Instantiate the logistic regression classifier: logreg\n",
    "#logreg = LogisticRegression(solver='lbfgs', max_iter=1000)\n",
    "\n",
    "# Create train and test sets\n",
    "#X_train, X_test, y_train, y_test = train_test_split(X, y, random_state=42, test_size=0.4)\n",
    "\n",
    "# Instantiate the GridSearchCV object: logreg_cv\n",
    "rc_cv4 = GridSearchCV(pipeline, param_grid, cv=5, verbose=True, n_jobs=-1)\n",
    "\n",
    "# Fit it to the training data\n",
    "rc_cv4.fit(X_train, y_train)\n",
    "\n",
    "rc_cv4_predict = rc_cv4.predict(X_test)\n",
    "\n",
    "# Print the optimal parameters and best score\n",
    "print(\"Tuned Logistic Regression Parameter: {}\".format(rc_cv4.best_params_))\n",
    "print(\"Tuned Logistic Regression Accuracy: {}\".format(rc_cv4.best_score_))\n",
    "\n",
    "\n",
    "# Compute and print metrics\n",
    "print (confusion_matrix(y_test , rc_cv4_predict))\n",
    "print (\"Accuracy score: \", accuracy_score(y_test , rc_cv4_predict))\n",
    "print(\"F1 score: \", f1_score(y_test , rc_cv4_predict))\n",
    "print(\"Precision score: \" , precision_score(y_test , rc_cv4_predict))\n",
    "print(\"Recall score: \" , recall_score(y_test , rc_cv4_predict))\n",
    "print (classification_report(y_test , rc_cv4_predict))\n",
    "rc_cv4"
   ]
  },
  {
   "cell_type": "code",
   "execution_count": 12,
   "metadata": {},
   "outputs": [
    {
     "name": "stdout",
     "output_type": "stream",
     "text": [
      "Fitting 5 folds for each of 24 candidates, totalling 120 fits\n"
     ]
    },
    {
     "name": "stderr",
     "output_type": "stream",
     "text": [
      "[Parallel(n_jobs=-1)]: Using backend LokyBackend with 4 concurrent workers.\n",
      "[Parallel(n_jobs=-1)]: Done  42 tasks      | elapsed: 228.2min\n",
      "[Parallel(n_jobs=-1)]: Done 120 out of 120 | elapsed: 525.3min finished\n"
     ]
    },
    {
     "name": "stdout",
     "output_type": "stream",
     "text": [
      "Tuned Logistic Regression Parameter: {'rc5__class_weight': None, 'rc5__criterion': 'entropy', 'rc5__max_depth': 30}\n",
      "Tuned Logistic Regression Accuracy: 0.9997049732881828\n",
      "[[1906308      43]\n",
      " [    504    1931]]\n",
      "Accuracy score:  0.9997134304212206\n",
      "F1 score:  0.8759355863007484\n",
      "Precision score:  0.9782168186423505\n",
      "Recall score:  0.7930184804928131\n",
      "              precision    recall  f1-score   support\n",
      "\n",
      "           0       1.00      1.00      1.00   1906351\n",
      "           1       0.98      0.79      0.88      2435\n",
      "\n",
      "    accuracy                           1.00   1908786\n",
      "   macro avg       0.99      0.90      0.94   1908786\n",
      "weighted avg       1.00      1.00      1.00   1908786\n",
      "\n",
      "Wall time: 9h 2min 39s\n"
     ]
    },
    {
     "data": {
      "text/plain": [
       "GridSearchCV(cv=5, error_score='raise-deprecating',\n",
       "             estimator=Pipeline(memory=None,\n",
       "                                steps=[('scaler',\n",
       "                                        StandardScaler(copy=True,\n",
       "                                                       with_mean=True,\n",
       "                                                       with_std=True)),\n",
       "                                       ('rc5',\n",
       "                                        RandomForestClassifier(bootstrap=True,\n",
       "                                                               class_weight=None,\n",
       "                                                               criterion='gini',\n",
       "                                                               max_depth=None,\n",
       "                                                               max_features='auto',\n",
       "                                                               max_leaf_nodes=None,\n",
       "                                                               min_impurity_decrease=0.0,\n",
       "                                                               min_impurity_split=None,\n",
       "                                                               min_samples...\n",
       "                                                               min_weight_fraction_leaf=0.0,\n",
       "                                                               n_estimators=100,\n",
       "                                                               n_jobs=None,\n",
       "                                                               oob_score=False,\n",
       "                                                               random_state=None,\n",
       "                                                               verbose=0,\n",
       "                                                               warm_start=False))],\n",
       "                                verbose=False),\n",
       "             iid='warn', n_jobs=-1,\n",
       "             param_grid={'rc5__class_weight': [None, 'balanced'],\n",
       "                         'rc5__criterion': ['gini', 'entropy'],\n",
       "                         'rc5__max_depth': [20, 30, 100, 200, 500, None]},\n",
       "             pre_dispatch='2*n_jobs', refit=True, return_train_score=False,\n",
       "             scoring=None, verbose=True)"
      ]
     },
     "execution_count": 12,
     "metadata": {},
     "output_type": "execute_result"
    }
   ],
   "source": [
    "%%time\n",
    "# Setup the pipeline\n",
    "steps = [('scaler', StandardScaler()),\n",
    "         ('rc5', RandomForestClassifier(n_estimators=100))\n",
    "         ]\n",
    "\n",
    "pipeline = Pipeline(steps)\n",
    "\n",
    "# Create the hyperparameter grid\n",
    "#c_space = np.logspace(-5, 8, 15)\n",
    "param_grid = {'rc5__max_depth': [20, 30, 100, 200, 500, None],\n",
    "                'rc5__class_weight': [None, 'balanced'],\n",
    "                 'rc5__criterion' : ['gini', 'entropy']}\n",
    "\n",
    "# Instantiate the logistic regression classifier: logreg\n",
    "#logreg = LogisticRegression(solver='lbfgs', max_iter=1000)\n",
    "\n",
    "# Create train and test sets\n",
    "#X_train, X_test, y_train, y_test = train_test_split(X, y, random_state=42, test_size=0.4)\n",
    "\n",
    "# Instantiate the GridSearchCV object: logreg_cv\n",
    "rc_cv5 = GridSearchCV(pipeline, param_grid, cv=5, verbose=True, n_jobs=-1)\n",
    "\n",
    "# Fit it to the training data\n",
    "rc_cv5.fit(X_train, y_train)\n",
    "\n",
    "rc_cv5_predict = rc_cv5.predict(X_test)\n",
    "\n",
    "# Print the optimal parameters and best score\n",
    "print(\"Tuned Logistic Regression Parameter: {}\".format(rc_cv5.best_params_))\n",
    "print(\"Tuned Logistic Regression Accuracy: {}\".format(rc_cv5.best_score_))\n",
    "\n",
    "\n",
    "# Compute and print metrics\n",
    "print (confusion_matrix(y_test , rc_cv5_predict))\n",
    "print (\"Accuracy score: \", accuracy_score(y_test , rc_cv5_predict))\n",
    "print(\"F1 score: \", f1_score(y_test , rc_cv5_predict))\n",
    "print(\"Precision score: \" , precision_score(y_test , rc_cv5_predict))\n",
    "print(\"Recall score: \" , recall_score(y_test , rc_cv5_predict))\n",
    "print (classification_report(y_test , rc_cv5_predict))\n",
    "rc_cv5"
   ]
  },
  {
   "cell_type": "code",
   "execution_count": 11,
   "metadata": {},
   "outputs": [
    {
     "data": {
      "image/png": "[encoded data removed]",
      "text/plain": [
       "<Figure size 432x288 with 1 Axes>"
      ]
     },
     "metadata": {
      "needs_background": "light"
     },
     "output_type": "display_data"
    },
    {
     "name": "stdout",
     "output_type": "stream",
     "text": [
      "Wall time: 36min 33s\n"
     ]
    }
   ],
   "source": [
    "%%time\n",
    "max_depths = [10, 20, 30, 100, 200]\n",
    "train_results = []\n",
    "test_results = []\n",
    "for max_depth in max_depths:\n",
    "   rf = RandomForestClassifier(max_depth=max_depth, n_jobs=-1, n_estimators=100)\n",
    "   rf.fit(X_train, y_train)\n",
    "   train_pred = rf.predict(X_train)\n",
    "   false_positive_rate, true_positive_rate, thresholds = metrics.roc_curve(y_train, train_pred)\n",
    "   roc_auc = metrics.auc(false_positive_rate, true_positive_rate)\n",
    "   train_results.append(roc_auc)\n",
    "   y_pred = rf.predict(X_test)\n",
    "   false_positive_rate, true_positive_rate, thresholds = metrics.roc_curve(y_test, y_pred)\n",
    "   roc_auc = metrics.auc(false_positive_rate, true_positive_rate)\n",
    "   test_results.append(roc_auc)\n",
    "from matplotlib.legend_handler import HandlerLine2D\n",
    "line1, = plt.plot(max_depths, train_results, 'b', label='Train AUC')\n",
    "line2, = plt.plot(max_depths, test_results, 'r', label='Test AUC')\n",
    "plt.legend(handler_map={line1: HandlerLine2D(numpoints=2)}, fontsize=10)\n",
    "plt.ylabel('AUC score')\n",
    "plt.xlabel('Tree depth')\n",
    "plt.xticks([10, 20, 30, 100, 200], fontsize=5)\n",
    "plt.show()"
   ]
  },
  {
   "cell_type": "code",
   "execution_count": 13,
   "metadata": {},
   "outputs": [
    {
     "data": {
      "image/png": "[encoded data removed]",
      "text/plain": [
       "<Figure size 432x288 with 1 Axes>"
      ]
     },
     "metadata": {
      "needs_background": "light"
     },
     "output_type": "display_data"
    },
    {
     "name": "stdout",
     "output_type": "stream",
     "text": [
      "Wall time: 29min 21s\n"
     ]
    }
   ],
   "source": [
    "%%time\n",
    "max_depths = [10, 20, 30, 100, 200]\n",
    "train_results = []\n",
    "test_results = []\n",
    "for max_depth in max_depths:\n",
    "   rf2 = RandomForestClassifier(max_depth=max_depth, n_jobs=-1, n_estimators=100, criterion='entropy')\n",
    "   rf2.fit(X_train, y_train)\n",
    "   train_pred = rf2.predict(X_train)\n",
    "   false_positive_rate, true_positive_rate, thresholds = metrics.roc_curve(y_train, train_pred)\n",
    "   roc_auc = metrics.auc(false_positive_rate, true_positive_rate)\n",
    "   train_results.append(roc_auc)\n",
    "   y_pred = rf2.predict(X_test)\n",
    "   false_positive_rate, true_positive_rate, thresholds = metrics.roc_curve(y_test, y_pred)\n",
    "   roc_auc = metrics.auc(false_positive_rate, true_positive_rate)\n",
    "   test_results.append(roc_auc)\n",
    "from matplotlib.legend_handler import HandlerLine2D\n",
    "line1, = plt.plot(max_depths, train_results, 'b', label='Train AUC')\n",
    "line2, = plt.plot(max_depths, test_results, 'r', label='Test AUC')\n",
    "plt.legend(handler_map={line1: HandlerLine2D(numpoints=2)}, fontsize=10)\n",
    "plt.ylabel('AUC score')\n",
    "plt.xlabel('Tree depth')\n",
    "plt.xticks([10, 20, 30, 100, 200], fontsize=5)\n",
    "plt.show()"
   ]
  },
  {
   "cell_type": "code",
   "execution_count": 21,
   "metadata": {},
   "outputs": [
    {
     "data": {
      "image/png": "[encoded data removed]",
      "text/plain": [
       "<Figure size 720x648 with 1 Axes>"
      ]
     },
     "metadata": {
      "needs_background": "light"
     },
     "output_type": "display_data"
    },
    {
     "name": "stdout",
     "output_type": "stream",
     "text": [
      "Wall time: 1min 40s\n",
      "Parser   : 330 ms\n"
     ]
    }
   ],
   "source": [
    "%%time\n",
    "#Plotting the ROC AUC curve for the Test models(w/wo scaling and max_iter), and TRAIN result for best pipeline \n",
    "# Since Train and Test results are similar, the model does well as to not over/under fitting\n",
    "# The scaling improves the shape and coverage of the curve, while max_iter is a warning that does not change result\n",
    "plt.rcParams.update({'font.size': 30})\n",
    "model_list = [rc, \n",
    "              rc_scaled, \n",
    "              rc_scaled2,\n",
    "              rc_cv\n",
    "             ]\n",
    "\n",
    "model_name = ['rc','rc_scaled', 'rc_scaled2', 'rc_cv']\n",
    " \n",
    "# Plot ROC curve for all my models\n",
    "fig, ax = plt.subplots(figsize=(10,9))\n",
    "for i, model in enumerate(model_list):\n",
    "    y_pred = list(model.predict_proba(X_test)[:,1])\n",
    "    fpr, tpr, threshold = metrics.roc_curve(y_test, y_pred)\n",
    "    roc_auc = metrics.auc(fpr, tpr)\n",
    "    plt.plot(fpr, tpr, label = (model_name[i] + ' AUC = %0.4f' % roc_auc),linewidth=2.0)\n",
    "y_pred = list(rc_train_scaled2.predict_proba(X_train)[:,1])\n",
    "fpr, tpr, threshold = metrics.roc_curve(y_train, y_pred)\n",
    "roc_auc = metrics.auc(fpr, tpr)\n",
    "plt.plot(fpr, tpr, label = ('rc_train_scaled2' + ' AUC = %0.4f' % roc_auc),linewidth=2.0)\n",
    "    \n",
    "ax.grid(False)\n",
    "ax.tick_params(length=6, width=2,labelsize = 10,\n",
    "               grid_color='r', grid_alpha=0.5)\n",
    "# plt.legend(loc = 'lower right',prop={'size': 25})\n",
    "leg = plt.legend(loc = 'lower right',prop={'size': 15})\n",
    "leg.get_frame().set_edgecolor('b')\n",
    "plt.title('Receiver Operating Characteristic (ROC)', FontSize=20)\n",
    "plt.plot([0, 1], [0, 1], 'r--')\n",
    "#plt.xlim([-.02, 1.02])\n",
    "#plt.ylim([-.02, 1.02])\n",
    "plt.ylabel('True Positive Rate',FontSize=20)\n",
    "plt.xlabel('False Positive Rate',FontSize=20)\n",
    "plt.show()"
   ]
  },
  {
   "cell_type": "code",
   "execution_count": 44,
   "metadata": {},
   "outputs": [
    {
     "data": {
      "image/png": "[encoded data removed]",
      "text/plain": [
       "<Figure size 432x288 with 1 Axes>"
      ]
     },
     "metadata": {
      "needs_background": "light"
     },
     "output_type": "display_data"
    }
   ],
   "source": [
    "%%time\n",
    "max_depths = [1,2,3,4,5,6,7,8,9,10,11,12,13,14,15,16,17,18,19,20,30]\n",
    "train_results = []\n",
    "test_results = []\n",
    "for max_depth in max_depths:\n",
    "   rf = RandomForestClassifier(max_depth=max_depth, n_jobs=-1, n_estimators=100)\n",
    "   rf.fit(X_train, y_train)\n",
    "   train_pred = rf.predict(X_train)\n",
    "   false_positive_rate, true_positive_rate, thresholds = metrics.roc_curve(y_train, train_pred)\n",
    "   roc_auc = metrics.auc(false_positive_rate, true_positive_rate)\n",
    "   train_results.append(roc_auc)\n",
    "   y_pred = rf.predict(X_test)\n",
    "   false_positive_rate, true_positive_rate, thresholds = metrics.roc_curve(y_test, y_pred)\n",
    "   roc_auc = metrics.auc(false_positive_rate, true_positive_rate)\n",
    "   test_results.append(roc_auc)\n",
    "from matplotlib.legend_handler import HandlerLine2D\n",
    "line1, = plt.plot(max_depths, train_results, 'b', label='Train AUC')\n",
    "line2, = plt.plot(max_depths, test_results, 'r', label='Test AUC')\n",
    "plt.legend(handler_map={line1: HandlerLine2D(numpoints=2)}, fontsize=10)\n",
    "plt.ylabel('AUC score')\n",
    "plt.xlabel('Tree depth')\n",
    "plt.xticks([1,2,3,4,5,6,7,8,9,10,11,12,13,14,15,16,17,18,19,20,30], fontsize=5)\n",
    "plt.show()"
   ]
  },
  {
   "cell_type": "code",
   "execution_count": 45,
   "metadata": {},
   "outputs": [
    {
     "data": {
      "image/png": "[encoded data removed]",
      "text/plain": [
       "<Figure size 432x288 with 1 Axes>"
      ]
     },
     "metadata": {
      "needs_background": "light"
     },
     "output_type": "display_data"
    }
   ],
   "source": [
    "line1, = plt.plot(max_depths, train_results, 'b', label='Train AUC')\n",
    "line2, = plt.plot(max_depths, test_results, 'r', label='Test AUC')\n",
    "plt.legend(handler_map={line1: HandlerLine2D(numpoints=2)}, fontsize=10)\n",
    "plt.ylabel('AUC score')\n",
    "plt.xlabel('Tree depth')\n",
    "plt.xticks([1,2,3,4,5,6,7,8,9,10,11,12,13,14,15,16,17,18,19,20,30], fontsize=5)\n",
    "plt.show()"
   ]
  },
  {
   "cell_type": "code",
   "execution_count": 10,
   "metadata": {},
   "outputs": [
    {
     "ename": "NameError",
     "evalue": "name 'test_results' is not defined",
     "output_type": "error",
     "traceback": [
      "\u001b[1;31m---------------------------------------------------------------------------\u001b[0m",
      "\u001b[1;31mNameError\u001b[0m                                 Traceback (most recent call last)",
      "\u001b[1;32m<ipython-input-10-7102679d8383>\u001b[0m in \u001b[0;36m<module>\u001b[1;34m\u001b[0m\n\u001b[1;32m----> 1\u001b[1;33m \u001b[0mtest_results\u001b[0m\u001b[1;33m,\u001b[0m \u001b[0mtrain_results\u001b[0m\u001b[1;33m\u001b[0m\u001b[1;33m\u001b[0m\u001b[0m\n\u001b[0m",
      "\u001b[1;31mNameError\u001b[0m: name 'test_results' is not defined"
     ]
    }
   ],
   "source": [
    "test_results, train_results"
   ]
  },
  {
   "cell_type": "code",
   "execution_count": 33,
   "metadata": {},
   "outputs": [
    {
     "data": {
      "text/plain": [
       "RandomForestClassifier(bootstrap=True, class_weight=None, criterion='entropy',\n",
       "                       max_depth=None, max_features='auto', max_leaf_nodes=None,\n",
       "                       min_impurity_decrease=0.0, min_impurity_split=None,\n",
       "                       min_samples_leaf=1, min_samples_split=2,\n",
       "                       min_weight_fraction_leaf=0.0, n_estimators=100,\n",
       "                       n_jobs=-1, oob_score=False, random_state=None, verbose=0,\n",
       "                       warm_start=False)"
      ]
     },
     "execution_count": 33,
     "metadata": {},
     "output_type": "execute_result"
    }
   ],
   "source": [
    "rf"
   ]
  },
  {
   "cell_type": "code",
   "execution_count": 35,
   "metadata": {},
   "outputs": [
    {
     "data": {
      "text/plain": [
       "[0.5,\n",
       " 0.8642663261665895,\n",
       " 0.8897233551443963,\n",
       " 0.8962920987840303,\n",
       " 0.8952656670200411,\n",
       " 0.8975236070758691,\n",
       " 0.8952651424576703,\n",
       " 0.8973193173915753,\n",
       " 0.8969083774923204,\n",
       " 0.8977299950096453,\n",
       " 0.8967025141209147,\n",
       " 0.8960875468185514]"
      ]
     },
     "execution_count": 35,
     "metadata": {},
     "output_type": "execute_result"
    }
   ],
   "source": [
    "test_results"
   ]
  },
  {
   "cell_type": "code",
   "execution_count": 38,
   "metadata": {},
   "outputs": [
    {
     "data": {
      "text/plain": [
       "['Models/rc_cv2.sav']"
      ]
     },
     "execution_count": 38,
     "metadata": {},
     "output_type": "execute_result"
    }
   ],
   "source": [
    "dump(rc_cv2, 'Models/rc_cv2.sav')"
   ]
  },
  {
   "cell_type": "code",
   "execution_count": 41,
   "metadata": {},
   "outputs": [
    {
     "data": {
      "text/plain": [
       "['Models/rc_cv3.sav']"
      ]
     },
     "execution_count": 41,
     "metadata": {},
     "output_type": "execute_result"
    }
   ],
   "source": [
    "dump(rc_cv3, 'Models/rc_cv3.sav')"
   ]
  },
  {
   "cell_type": "code",
   "execution_count": null,
   "metadata": {},
   "outputs": [],
   "source": []
  }
 ],
 "metadata": {
  "kernelspec": {
   "display_name": "Python 3",
   "language": "python",
   "name": "python3"
  },
  "language_info": {
   "codemirror_mode": {
    "name": "ipython",
    "version": 3
   },
   "file_extension": ".py",
   "mimetype": "text/x-python",
   "name": "python",
   "nbconvert_exporter": "python",
   "pygments_lexer": "ipython3",
   "version": "3.7.4"
  }
 },
 "nbformat": 4,
 "nbformat_minor": 2
}

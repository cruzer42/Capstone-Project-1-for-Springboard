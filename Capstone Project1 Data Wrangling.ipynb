{
 "cells": [
  {
   "cell_type": "code",
   "execution_count": 1,
   "metadata": {},
   "outputs": [],
   "source": [
    "# Import Modules\n",
    "import pandas as pd\n",
    "import matplotlib.pyplot as plt\n",
    "pd.options.display.float_format = '{:,.2f}'.format"
   ]
  },
  {
   "cell_type": "code",
   "execution_count": 2,
   "metadata": {
    "scrolled": true
   },
   "outputs": [
    {
     "name": "stdout",
     "output_type": "stream",
     "text": [
      "<class 'pandas.core.frame.DataFrame'>\n",
      "RangeIndex: 6362620 entries, 0 to 6362619\n",
      "Data columns (total 11 columns):\n",
      "step              int64\n",
      "type              object\n",
      "amount            float64\n",
      "nameOrig          object\n",
      "oldbalanceOrg     float64\n",
      "newbalanceOrig    float64\n",
      "nameDest          object\n",
      "oldbalanceDest    float64\n",
      "newbalanceDest    float64\n",
      "isFraud           int64\n",
      "isFlaggedFraud    int64\n",
      "dtypes: float64(5), int64(3), object(3)\n",
      "memory usage: 534.0+ MB\n"
     ]
    }
   ],
   "source": [
    "# Read csv file into dataframe\n",
    "df = pd.read_csv('paysim.csv')\n",
    "df.info()"
   ]
  },
  {
   "cell_type": "code",
   "execution_count": 3,
   "metadata": {},
   "outputs": [
    {
     "data": {
      "text/html": [
       "<div>\n",
       "<style scoped>\n",
       "    .dataframe tbody tr th:only-of-type {\n",
       "        vertical-align: middle;\n",
       "    }\n",
       "\n",
       "    .dataframe tbody tr th {\n",
       "        vertical-align: top;\n",
       "    }\n",
       "\n",
       "    .dataframe thead th {\n",
       "        text-align: right;\n",
       "    }\n",
       "</style>\n",
       "<table border=\"1\" class=\"dataframe\">\n",
       "  <thead>\n",
       "    <tr style=\"text-align: right;\">\n",
       "      <th></th>\n",
       "      <th>step</th>\n",
       "      <th>amount</th>\n",
       "      <th>oldbalanceOrg</th>\n",
       "      <th>newbalanceOrig</th>\n",
       "      <th>oldbalanceDest</th>\n",
       "      <th>newbalanceDest</th>\n",
       "      <th>isFraud</th>\n",
       "      <th>isFlaggedFraud</th>\n",
       "    </tr>\n",
       "  </thead>\n",
       "  <tbody>\n",
       "    <tr>\n",
       "      <th>count</th>\n",
       "      <td>6,362,620.00</td>\n",
       "      <td>6,362,620.00</td>\n",
       "      <td>6,362,620.00</td>\n",
       "      <td>6,362,620.00</td>\n",
       "      <td>6,362,620.00</td>\n",
       "      <td>6,362,620.00</td>\n",
       "      <td>6,362,620.00</td>\n",
       "      <td>6,362,620.00</td>\n",
       "    </tr>\n",
       "    <tr>\n",
       "      <th>mean</th>\n",
       "      <td>243.40</td>\n",
       "      <td>179,861.90</td>\n",
       "      <td>833,883.10</td>\n",
       "      <td>855,113.67</td>\n",
       "      <td>1,100,701.67</td>\n",
       "      <td>1,224,996.40</td>\n",
       "      <td>0.00</td>\n",
       "      <td>0.00</td>\n",
       "    </tr>\n",
       "    <tr>\n",
       "      <th>std</th>\n",
       "      <td>142.33</td>\n",
       "      <td>603,858.23</td>\n",
       "      <td>2,888,242.67</td>\n",
       "      <td>2,924,048.50</td>\n",
       "      <td>3,399,180.11</td>\n",
       "      <td>3,674,128.94</td>\n",
       "      <td>0.04</td>\n",
       "      <td>0.00</td>\n",
       "    </tr>\n",
       "    <tr>\n",
       "      <th>min</th>\n",
       "      <td>1.00</td>\n",
       "      <td>0.00</td>\n",
       "      <td>0.00</td>\n",
       "      <td>0.00</td>\n",
       "      <td>0.00</td>\n",
       "      <td>0.00</td>\n",
       "      <td>0.00</td>\n",
       "      <td>0.00</td>\n",
       "    </tr>\n",
       "    <tr>\n",
       "      <th>25%</th>\n",
       "      <td>156.00</td>\n",
       "      <td>13,389.57</td>\n",
       "      <td>0.00</td>\n",
       "      <td>0.00</td>\n",
       "      <td>0.00</td>\n",
       "      <td>0.00</td>\n",
       "      <td>0.00</td>\n",
       "      <td>0.00</td>\n",
       "    </tr>\n",
       "    <tr>\n",
       "      <th>50%</th>\n",
       "      <td>239.00</td>\n",
       "      <td>74,871.94</td>\n",
       "      <td>14,208.00</td>\n",
       "      <td>0.00</td>\n",
       "      <td>132,705.66</td>\n",
       "      <td>214,661.44</td>\n",
       "      <td>0.00</td>\n",
       "      <td>0.00</td>\n",
       "    </tr>\n",
       "    <tr>\n",
       "      <th>75%</th>\n",
       "      <td>335.00</td>\n",
       "      <td>208,721.48</td>\n",
       "      <td>107,315.18</td>\n",
       "      <td>144,258.41</td>\n",
       "      <td>943,036.71</td>\n",
       "      <td>1,111,909.25</td>\n",
       "      <td>0.00</td>\n",
       "      <td>0.00</td>\n",
       "    </tr>\n",
       "    <tr>\n",
       "      <th>max</th>\n",
       "      <td>743.00</td>\n",
       "      <td>92,445,516.64</td>\n",
       "      <td>59,585,040.37</td>\n",
       "      <td>49,585,040.37</td>\n",
       "      <td>356,015,889.35</td>\n",
       "      <td>356,179,278.92</td>\n",
       "      <td>1.00</td>\n",
       "      <td>1.00</td>\n",
       "    </tr>\n",
       "  </tbody>\n",
       "</table>\n",
       "</div>"
      ],
      "text/plain": [
       "              step        amount  oldbalanceOrg  newbalanceOrig  \\\n",
       "count 6,362,620.00  6,362,620.00   6,362,620.00    6,362,620.00   \n",
       "mean        243.40    179,861.90     833,883.10      855,113.67   \n",
       "std         142.33    603,858.23   2,888,242.67    2,924,048.50   \n",
       "min           1.00          0.00           0.00            0.00   \n",
       "25%         156.00     13,389.57           0.00            0.00   \n",
       "50%         239.00     74,871.94      14,208.00            0.00   \n",
       "75%         335.00    208,721.48     107,315.18      144,258.41   \n",
       "max         743.00 92,445,516.64  59,585,040.37   49,585,040.37   \n",
       "\n",
       "       oldbalanceDest  newbalanceDest      isFraud  isFlaggedFraud  \n",
       "count    6,362,620.00    6,362,620.00 6,362,620.00    6,362,620.00  \n",
       "mean     1,100,701.67    1,224,996.40         0.00            0.00  \n",
       "std      3,399,180.11    3,674,128.94         0.04            0.00  \n",
       "min              0.00            0.00         0.00            0.00  \n",
       "25%              0.00            0.00         0.00            0.00  \n",
       "50%        132,705.66      214,661.44         0.00            0.00  \n",
       "75%        943,036.71    1,111,909.25         0.00            0.00  \n",
       "max    356,015,889.35  356,179,278.92         1.00            1.00  "
      ]
     },
     "execution_count": 3,
     "metadata": {},
     "output_type": "execute_result"
    }
   ],
   "source": [
    "df.describe()"
   ]
  },
  {
   "cell_type": "code",
   "execution_count": 4,
   "metadata": {},
   "outputs": [
    {
     "data": {
      "text/html": [
       "<div>\n",
       "<style scoped>\n",
       "    .dataframe tbody tr th:only-of-type {\n",
       "        vertical-align: middle;\n",
       "    }\n",
       "\n",
       "    .dataframe tbody tr th {\n",
       "        vertical-align: top;\n",
       "    }\n",
       "\n",
       "    .dataframe thead th {\n",
       "        text-align: right;\n",
       "    }\n",
       "</style>\n",
       "<table border=\"1\" class=\"dataframe\">\n",
       "  <thead>\n",
       "    <tr style=\"text-align: right;\">\n",
       "      <th></th>\n",
       "      <th>step</th>\n",
       "      <th>type</th>\n",
       "      <th>amount</th>\n",
       "      <th>nameOrig</th>\n",
       "      <th>oldbalanceOrg</th>\n",
       "      <th>newbalanceOrig</th>\n",
       "      <th>nameDest</th>\n",
       "      <th>oldbalanceDest</th>\n",
       "      <th>newbalanceDest</th>\n",
       "      <th>isFraud</th>\n",
       "      <th>isFlaggedFraud</th>\n",
       "    </tr>\n",
       "  </thead>\n",
       "  <tbody>\n",
       "    <tr>\n",
       "      <th>0</th>\n",
       "      <td>1</td>\n",
       "      <td>PAYMENT</td>\n",
       "      <td>9,839.64</td>\n",
       "      <td>C1231006815</td>\n",
       "      <td>170,136.00</td>\n",
       "      <td>160,296.36</td>\n",
       "      <td>M1979787155</td>\n",
       "      <td>0.00</td>\n",
       "      <td>0.00</td>\n",
       "      <td>0</td>\n",
       "      <td>0</td>\n",
       "    </tr>\n",
       "    <tr>\n",
       "      <th>1</th>\n",
       "      <td>1</td>\n",
       "      <td>PAYMENT</td>\n",
       "      <td>1,864.28</td>\n",
       "      <td>C1666544295</td>\n",
       "      <td>21,249.00</td>\n",
       "      <td>19,384.72</td>\n",
       "      <td>M2044282225</td>\n",
       "      <td>0.00</td>\n",
       "      <td>0.00</td>\n",
       "      <td>0</td>\n",
       "      <td>0</td>\n",
       "    </tr>\n",
       "    <tr>\n",
       "      <th>2</th>\n",
       "      <td>1</td>\n",
       "      <td>TRANSFER</td>\n",
       "      <td>181.00</td>\n",
       "      <td>C1305486145</td>\n",
       "      <td>181.00</td>\n",
       "      <td>0.00</td>\n",
       "      <td>C553264065</td>\n",
       "      <td>0.00</td>\n",
       "      <td>0.00</td>\n",
       "      <td>1</td>\n",
       "      <td>0</td>\n",
       "    </tr>\n",
       "    <tr>\n",
       "      <th>3</th>\n",
       "      <td>1</td>\n",
       "      <td>CASH_OUT</td>\n",
       "      <td>181.00</td>\n",
       "      <td>C840083671</td>\n",
       "      <td>181.00</td>\n",
       "      <td>0.00</td>\n",
       "      <td>C38997010</td>\n",
       "      <td>21,182.00</td>\n",
       "      <td>0.00</td>\n",
       "      <td>1</td>\n",
       "      <td>0</td>\n",
       "    </tr>\n",
       "    <tr>\n",
       "      <th>4</th>\n",
       "      <td>1</td>\n",
       "      <td>PAYMENT</td>\n",
       "      <td>11,668.14</td>\n",
       "      <td>C2048537720</td>\n",
       "      <td>41,554.00</td>\n",
       "      <td>29,885.86</td>\n",
       "      <td>M1230701703</td>\n",
       "      <td>0.00</td>\n",
       "      <td>0.00</td>\n",
       "      <td>0</td>\n",
       "      <td>0</td>\n",
       "    </tr>\n",
       "  </tbody>\n",
       "</table>\n",
       "</div>"
      ],
      "text/plain": [
       "   step      type    amount     nameOrig  oldbalanceOrg  newbalanceOrig  \\\n",
       "0     1   PAYMENT  9,839.64  C1231006815     170,136.00      160,296.36   \n",
       "1     1   PAYMENT  1,864.28  C1666544295      21,249.00       19,384.72   \n",
       "2     1  TRANSFER    181.00  C1305486145         181.00            0.00   \n",
       "3     1  CASH_OUT    181.00   C840083671         181.00            0.00   \n",
       "4     1   PAYMENT 11,668.14  C2048537720      41,554.00       29,885.86   \n",
       "\n",
       "      nameDest  oldbalanceDest  newbalanceDest  isFraud  isFlaggedFraud  \n",
       "0  M1979787155            0.00            0.00        0               0  \n",
       "1  M2044282225            0.00            0.00        0               0  \n",
       "2   C553264065            0.00            0.00        1               0  \n",
       "3    C38997010       21,182.00            0.00        1               0  \n",
       "4  M1230701703            0.00            0.00        0               0  "
      ]
     },
     "execution_count": 4,
     "metadata": {},
     "output_type": "execute_result"
    }
   ],
   "source": [
    "df.head()"
   ]
  },
  {
   "cell_type": "code",
   "execution_count": 5,
   "metadata": {},
   "outputs": [
    {
     "data": {
      "text/plain": [
       "step              0\n",
       "type              0\n",
       "amount            0\n",
       "nameOrig          0\n",
       "oldbalanceOrg     0\n",
       "newbalanceOrig    0\n",
       "nameDest          0\n",
       "oldbalanceDest    0\n",
       "newbalanceDest    0\n",
       "isFraud           0\n",
       "isFlaggedFraud    0\n",
       "dtype: int64"
      ]
     },
     "execution_count": 5,
     "metadata": {},
     "output_type": "execute_result"
    }
   ],
   "source": [
    "# Get count of null values per cokumn\n",
    "df.isnull().sum()"
   ]
  },
  {
   "cell_type": "code",
   "execution_count": 6,
   "metadata": {},
   "outputs": [
    {
     "name": "stdout",
     "output_type": "stream",
     "text": [
      "19     51352\n",
      "18     49579\n",
      "187    49083\n",
      "235    47491\n",
      "307    46968\n",
      "Name: step, dtype: int64\n",
      "725    4\n",
      "245    4\n",
      "655    4\n",
      "112    2\n",
      "662    2\n",
      "Name: step, dtype: int64\n",
      "743\n"
     ]
    }
   ],
   "source": [
    "# Check frequency of step, which represents an hour time interval.  \n",
    "# All periods have some transaction, and there is a cluster of periods with the most activity. \n",
    "print(df['step'].value_counts(sort=True).head(5))\n",
    "print(df['step'].value_counts(sort=True).tail(5))\n",
    "df['step'].value_counts().describe()\n",
    "print(df['step'].nunique())"
   ]
  },
  {
   "cell_type": "code",
   "execution_count": 7,
   "metadata": {},
   "outputs": [
    {
     "data": {
      "text/plain": [
       "CASH_OUT    2237500\n",
       "PAYMENT     2151495\n",
       "CASH_IN     1399284\n",
       "TRANSFER     532909\n",
       "DEBIT         41432\n",
       "Name: type, dtype: int64"
      ]
     },
     "execution_count": 7,
     "metadata": {},
     "output_type": "execute_result"
    },
    {
     "data": {
      "image/png": "[encoded data removed]",
      "text/plain": [
       "<Figure size 432x288 with 1 Axes>"
      ]
     },
     "metadata": {},
     "output_type": "display_data"
    }
   ],
   "source": [
    "# Get count of unique values for \"type\" field and display pie chart distribution \n",
    "df.type.value_counts().plot.pie(autopct='%.2f%%')\n",
    "df['type'].value_counts()"
   ]
  },
  {
   "cell_type": "code",
   "execution_count": 8,
   "metadata": {},
   "outputs": [
    {
     "name": "stdout",
     "output_type": "stream",
     "text": [
      "The ratio of zero values is 0.00030000000000000003% or 16 of 6,362,620\n"
     ]
    }
   ],
   "source": [
    "# Check the count of value zero \"0\" for \"amount\" column\n",
    "# Investigate further how \"0\" could be the value for a transaction amount\n",
    "zero_amount = df[df.amount == 0]\n",
    "print('The ratio of zero values is ' + str(round(len(zero_amount)/len(df['amount']),6)*100) + '% or ' \n",
    "      + '{0:,.0f}'.format(len(zero_amount)) + ' of ' +'{0:,.0f}'.format(len(df['amount'])))"
   ]
  },
  {
   "cell_type": "code",
   "execution_count": 9,
   "metadata": {},
   "outputs": [
    {
     "name": "stdout",
     "output_type": "stream",
     "text": [
      "count         6362620\n",
      "unique        6353307\n",
      "top       C2051359467\n",
      "freq                3\n",
      "Name: nameOrig, dtype: object\n",
      "The percentage of unique accounts is 99.8536 or 9,313 non-unique accounts out of 6,362,620\n"
     ]
    }
   ],
   "source": [
    "# Check the frequency stats from describe() for origin account\n",
    "# The top frequency for any one account is 3\n",
    "print(df['nameOrig'].describe())\n",
    "print('The percentage of unique accounts is ' + '{0:,.4f}'.format((df['nameOrig'].nunique())/len(df['nameOrig'])*100) + ' or ' \n",
    "     + '{0:,.0f}'.format(len(df['nameOrig'])-df['nameOrig'].nunique()) + ' non-unique accounts out of ' + '{0:,.0f}'.format(len(df['nameOrig'])) )"
   ]
  },
  {
   "cell_type": "code",
   "execution_count": 10,
   "metadata": {},
   "outputs": [
    {
     "name": "stdout",
     "output_type": "stream",
     "text": [
      "The ratio of zero values is 0.33 or 2,102,449 of 6,362,620\n"
     ]
    }
   ],
   "source": [
    "# Check the count of value zero \"0\" for \"oldbalanceOrg\" column \n",
    "zero_oldbalanceOrg = df[df.oldbalanceOrg == 0]\n",
    "print('The ratio of zero values is ' + str(round(len(zero_oldbalanceOrg)/len(df['oldbalanceOrg']),2)) + ' or ' \n",
    "      + '{0:,.0f}'.format(len(zero_oldbalanceOrg)) + ' of ' +'{0:,.0f}'.format(len(df['oldbalanceOrg'])))"
   ]
  },
  {
   "cell_type": "code",
   "execution_count": 11,
   "metadata": {},
   "outputs": [
    {
     "name": "stdout",
     "output_type": "stream",
     "text": [
      "The ratio of zero values is 0.57 or 3,609,566 of 6,362,620\n"
     ]
    }
   ],
   "source": [
    "# Check the count of value zero \"0\" for a \"newbalanceOrig\" column\n",
    "zero_newbalanceOrig = df[df.newbalanceOrig == 0]\n",
    "print('The ratio of zero values is ' + str(round(len(zero_newbalanceOrig)/len(df['newbalanceOrig']),2)) + ' or ' \n",
    "      + '{0:,.0f}'.format(len(zero_newbalanceOrig)) + ' of ' +'{0:,.0f}'.format(len(df['newbalanceOrig'])))"
   ]
  },
  {
   "cell_type": "code",
   "execution_count": 12,
   "metadata": {},
   "outputs": [
    {
     "name": "stdout",
     "output_type": "stream",
     "text": [
      "C1286084959    113\n",
      "C985934102     109\n",
      "C665576141     105\n",
      "C2083562754    102\n",
      "C248609774     101\n",
      "Name: nameDest, dtype: int64\n",
      "M1687737552    1\n",
      "M2008722211    1\n",
      "M203048480     1\n",
      "M702905114     1\n",
      "M974992160     1\n",
      "Name: nameDest, dtype: int64\n",
      "count         6362620\n",
      "unique        2722362\n",
      "top       C1286084959\n",
      "freq              113\n",
      "Name: nameDest, dtype: object\n",
      "The percentage of unique accounts is 42.7868 or 3,640,258 non-unique accounts out of 6,362,620\n"
     ]
    }
   ],
   "source": [
    "# Check the frequency stats from describe() for destination account, \n",
    "# Note the top frequency for destination accounts is 113, several accounts are used nearly as frequently\n",
    "# And the number of unique accounts is nearly half the number of transactions\n",
    "print(df['nameDest'].value_counts(sort=True).head(5))\n",
    "print(df['nameDest'].value_counts(sort=True).tail(5))\n",
    "print(df['nameDest'].describe())\n",
    "print('The percentage of unique accounts is ' + '{0:,.4f}'.format((df['nameDest'].nunique())/len(df['nameDest'])*100) + ' or ' \n",
    "     + '{0:,.0f}'.format(len(df['nameDest'])-df['nameDest'].nunique()) + ' non-unique accounts out of ' + '{0:,.0f}'.format(len(df['nameDest'])) )"
   ]
  },
  {
   "cell_type": "code",
   "execution_count": 13,
   "metadata": {},
   "outputs": [
    {
     "name": "stdout",
     "output_type": "stream",
     "text": [
      "The ratio of zero values is 0.43 or 2,704,388 of 6,362,620\n"
     ]
    }
   ],
   "source": [
    "# Check the count of value zero \"0\" for \"oldbalanceDest\" column\n",
    "zero_oldbalanceDest = df[df.oldbalanceDest == 0]\n",
    "print('The ratio of zero values is ' + str(round(len(zero_oldbalanceDest)/len(df['oldbalanceDest']),2)) + ' or ' \n",
    "      + '{0:,.0f}'.format(len(zero_oldbalanceDest)) + ' of ' +'{0:,.0f}'.format(len(df['oldbalanceDest'])))"
   ]
  },
  {
   "cell_type": "code",
   "execution_count": 14,
   "metadata": {},
   "outputs": [
    {
     "name": "stdout",
     "output_type": "stream",
     "text": [
      "The ratio of zero values is 0.38 or 2,439,433 of 6,362,620\n"
     ]
    }
   ],
   "source": [
    "# Check the count of value zero \"0\" for \"newbalanceDest\" column\n",
    "zero_newbalanceDest = df[df.newbalanceDest == 0]\n",
    "print('The ratio of zero values is ' + str(round(len(zero_newbalanceDest)/len(df['newbalanceDest']),2)) + ' or ' \n",
    "      + '{0:,.0f}'.format(len(zero_newbalanceDest)) + ' of ' +'{0:,.0f}'.format(len(df['newbalanceDest'])))"
   ]
  },
  {
   "cell_type": "code",
   "execution_count": 15,
   "metadata": {},
   "outputs": [
    {
     "name": "stdout",
     "output_type": "stream",
     "text": [
      "The ratio of zero values is 0.998709 or 6,354,407 of 6,362,620\n",
      "The number of isFraud cases is 8,213\n"
     ]
    },
    {
     "data": {
      "image/png": "[encoded data removed]",
      "text/plain": [
       "<Figure size 432x288 with 1 Axes>"
      ]
     },
     "metadata": {},
     "output_type": "display_data"
    }
   ],
   "source": [
    "# Check the count of value zero \"0\" for \"isFraud\" column and show pie chart\n",
    "# The zero is a boolean indicator, and represents a small percentage of the population\n",
    "zero_isFraud = df[df.isFraud == 0]\n",
    "print('The ratio of zero values is ' + str(round(len(zero_isFraud)/len(df['isFraud']),6)) + ' or ' \n",
    "      + '{0:,.0f}'.format(len(zero_isFraud)) + ' of ' +'{0:,.0f}'.format(len(df['isFraud'])))\n",
    "print('The number of isFraud cases is ' + '{0:,.0f}'.format(len(df['isFraud'])-len(zero_isFraud)))\n",
    "df.isFraud.value_counts().plot.pie(autopct='%.4f%%')\n",
    "plt.title('Class Distribution \"isFraud\"')\n",
    "plt.tight_layout()"
   ]
  },
  {
   "cell_type": "code",
   "execution_count": 16,
   "metadata": {},
   "outputs": [
    {
     "name": "stdout",
     "output_type": "stream",
     "text": [
      "The ratio of zero values is 0.999997 or 6,362,604 of 6,362,620\n",
      "The number of isFlaggedFraud cases is 16\n"
     ]
    },
    {
     "data": {
      "image/png": "[encoded data removed]",
      "text/plain": [
       "<Figure size 432x288 with 1 Axes>"
      ]
     },
     "metadata": {},
     "output_type": "display_data"
    }
   ],
   "source": [
    "# Check the count of value zero \"0\" for \"isFlaggedFraud\" column\n",
    "# The zero is a boolean indicator, and represents a small percentage of the population \n",
    "zero_isFlaggedFraud = df[df.isFlaggedFraud == 0]\n",
    "print('The ratio of zero values is ' + str(round(len(zero_isFlaggedFraud)/len(df['isFlaggedFraud']),6)) + ' or ' \n",
    "      + '{0:,.0f}'.format(len(zero_isFlaggedFraud)) + ' of ' +'{0:,.0f}'.format(len(df['isFlaggedFraud'])))\n",
    "print('The number of isFlaggedFraud cases is ' + '{0:,.0f}'.format(len(df['isFlaggedFraud'])-len(zero_isFlaggedFraud)))\n",
    "df.isFlaggedFraud.value_counts().plot.pie(autopct='%.4f%%')\n",
    "plt.title('Class Distribution \"isFlaggedFraud\"')\n",
    "plt.tight_layout()"
   ]
  },
  {
   "cell_type": "code",
   "execution_count": 17,
   "metadata": {},
   "outputs": [
    {
     "data": {
      "text/html": [
       "<div>\n",
       "<style scoped>\n",
       "    .dataframe tbody tr th:only-of-type {\n",
       "        vertical-align: middle;\n",
       "    }\n",
       "\n",
       "    .dataframe tbody tr th {\n",
       "        vertical-align: top;\n",
       "    }\n",
       "\n",
       "    .dataframe thead th {\n",
       "        text-align: right;\n",
       "    }\n",
       "</style>\n",
       "<table border=\"1\" class=\"dataframe\">\n",
       "  <thead>\n",
       "    <tr style=\"text-align: right;\">\n",
       "      <th></th>\n",
       "      <th>step</th>\n",
       "      <th>type</th>\n",
       "      <th>amount</th>\n",
       "      <th>nameOrig</th>\n",
       "      <th>oldbalanceOrg</th>\n",
       "      <th>newbalanceOrig</th>\n",
       "      <th>nameDest</th>\n",
       "      <th>oldbalanceDest</th>\n",
       "      <th>newbalanceDest</th>\n",
       "      <th>isFraud</th>\n",
       "      <th>isFlaggedFraud</th>\n",
       "    </tr>\n",
       "  </thead>\n",
       "  <tbody>\n",
       "    <tr>\n",
       "      <th>2736447</th>\n",
       "      <td>212</td>\n",
       "      <td>CASH_OUT</td>\n",
       "      <td>0.00</td>\n",
       "      <td>C1510987794</td>\n",
       "      <td>0.00</td>\n",
       "      <td>0.00</td>\n",
       "      <td>C1696624817</td>\n",
       "      <td>0.00</td>\n",
       "      <td>0.00</td>\n",
       "      <td>1</td>\n",
       "      <td>0</td>\n",
       "    </tr>\n",
       "    <tr>\n",
       "      <th>3247298</th>\n",
       "      <td>250</td>\n",
       "      <td>CASH_OUT</td>\n",
       "      <td>0.00</td>\n",
       "      <td>C521393327</td>\n",
       "      <td>0.00</td>\n",
       "      <td>0.00</td>\n",
       "      <td>C480398193</td>\n",
       "      <td>0.00</td>\n",
       "      <td>0.00</td>\n",
       "      <td>1</td>\n",
       "      <td>0</td>\n",
       "    </tr>\n",
       "    <tr>\n",
       "      <th>3760289</th>\n",
       "      <td>279</td>\n",
       "      <td>CASH_OUT</td>\n",
       "      <td>0.00</td>\n",
       "      <td>C539112012</td>\n",
       "      <td>0.00</td>\n",
       "      <td>0.00</td>\n",
       "      <td>C1106468520</td>\n",
       "      <td>538,547.63</td>\n",
       "      <td>538,547.63</td>\n",
       "      <td>1</td>\n",
       "      <td>0</td>\n",
       "    </tr>\n",
       "    <tr>\n",
       "      <th>5563714</th>\n",
       "      <td>387</td>\n",
       "      <td>CASH_OUT</td>\n",
       "      <td>0.00</td>\n",
       "      <td>C1294472700</td>\n",
       "      <td>0.00</td>\n",
       "      <td>0.00</td>\n",
       "      <td>C1325541393</td>\n",
       "      <td>7,970,766.57</td>\n",
       "      <td>7,970,766.57</td>\n",
       "      <td>1</td>\n",
       "      <td>0</td>\n",
       "    </tr>\n",
       "    <tr>\n",
       "      <th>5996408</th>\n",
       "      <td>425</td>\n",
       "      <td>CASH_OUT</td>\n",
       "      <td>0.00</td>\n",
       "      <td>C832555372</td>\n",
       "      <td>0.00</td>\n",
       "      <td>0.00</td>\n",
       "      <td>C1462759334</td>\n",
       "      <td>76,759.90</td>\n",
       "      <td>76,759.90</td>\n",
       "      <td>1</td>\n",
       "      <td>0</td>\n",
       "    </tr>\n",
       "    <tr>\n",
       "      <th>5996410</th>\n",
       "      <td>425</td>\n",
       "      <td>CASH_OUT</td>\n",
       "      <td>0.00</td>\n",
       "      <td>C69493310</td>\n",
       "      <td>0.00</td>\n",
       "      <td>0.00</td>\n",
       "      <td>C719711728</td>\n",
       "      <td>2,921,531.34</td>\n",
       "      <td>2,921,531.34</td>\n",
       "      <td>1</td>\n",
       "      <td>0</td>\n",
       "    </tr>\n",
       "    <tr>\n",
       "      <th>6168500</th>\n",
       "      <td>554</td>\n",
       "      <td>CASH_OUT</td>\n",
       "      <td>0.00</td>\n",
       "      <td>C10965156</td>\n",
       "      <td>0.00</td>\n",
       "      <td>0.00</td>\n",
       "      <td>C1493336195</td>\n",
       "      <td>230,289.66</td>\n",
       "      <td>230,289.66</td>\n",
       "      <td>1</td>\n",
       "      <td>0</td>\n",
       "    </tr>\n",
       "    <tr>\n",
       "      <th>6205440</th>\n",
       "      <td>586</td>\n",
       "      <td>CASH_OUT</td>\n",
       "      <td>0.00</td>\n",
       "      <td>C1303719003</td>\n",
       "      <td>0.00</td>\n",
       "      <td>0.00</td>\n",
       "      <td>C900608348</td>\n",
       "      <td>1,328,472.86</td>\n",
       "      <td>1,328,472.86</td>\n",
       "      <td>1</td>\n",
       "      <td>0</td>\n",
       "    </tr>\n",
       "    <tr>\n",
       "      <th>6266414</th>\n",
       "      <td>617</td>\n",
       "      <td>CASH_OUT</td>\n",
       "      <td>0.00</td>\n",
       "      <td>C1971175979</td>\n",
       "      <td>0.00</td>\n",
       "      <td>0.00</td>\n",
       "      <td>C1352345416</td>\n",
       "      <td>0.00</td>\n",
       "      <td>0.00</td>\n",
       "      <td>1</td>\n",
       "      <td>0</td>\n",
       "    </tr>\n",
       "    <tr>\n",
       "      <th>6281483</th>\n",
       "      <td>646</td>\n",
       "      <td>CASH_OUT</td>\n",
       "      <td>0.00</td>\n",
       "      <td>C2060908932</td>\n",
       "      <td>0.00</td>\n",
       "      <td>0.00</td>\n",
       "      <td>C1587892888</td>\n",
       "      <td>0.00</td>\n",
       "      <td>0.00</td>\n",
       "      <td>1</td>\n",
       "      <td>0</td>\n",
       "    </tr>\n",
       "    <tr>\n",
       "      <th>6281485</th>\n",
       "      <td>646</td>\n",
       "      <td>CASH_OUT</td>\n",
       "      <td>0.00</td>\n",
       "      <td>C1997645312</td>\n",
       "      <td>0.00</td>\n",
       "      <td>0.00</td>\n",
       "      <td>C601248796</td>\n",
       "      <td>0.00</td>\n",
       "      <td>0.00</td>\n",
       "      <td>1</td>\n",
       "      <td>0</td>\n",
       "    </tr>\n",
       "    <tr>\n",
       "      <th>6296015</th>\n",
       "      <td>671</td>\n",
       "      <td>CASH_OUT</td>\n",
       "      <td>0.00</td>\n",
       "      <td>C1960007029</td>\n",
       "      <td>0.00</td>\n",
       "      <td>0.00</td>\n",
       "      <td>C459118517</td>\n",
       "      <td>27,938.72</td>\n",
       "      <td>27,938.72</td>\n",
       "      <td>1</td>\n",
       "      <td>0</td>\n",
       "    </tr>\n",
       "    <tr>\n",
       "      <th>6351226</th>\n",
       "      <td>702</td>\n",
       "      <td>CASH_OUT</td>\n",
       "      <td>0.00</td>\n",
       "      <td>C1461113533</td>\n",
       "      <td>0.00</td>\n",
       "      <td>0.00</td>\n",
       "      <td>C1382150537</td>\n",
       "      <td>107,777.02</td>\n",
       "      <td>107,777.02</td>\n",
       "      <td>1</td>\n",
       "      <td>0</td>\n",
       "    </tr>\n",
       "    <tr>\n",
       "      <th>6362461</th>\n",
       "      <td>730</td>\n",
       "      <td>CASH_OUT</td>\n",
       "      <td>0.00</td>\n",
       "      <td>C729003789</td>\n",
       "      <td>0.00</td>\n",
       "      <td>0.00</td>\n",
       "      <td>C1388096959</td>\n",
       "      <td>1,008,609.53</td>\n",
       "      <td>1,008,609.53</td>\n",
       "      <td>1</td>\n",
       "      <td>0</td>\n",
       "    </tr>\n",
       "    <tr>\n",
       "      <th>6362463</th>\n",
       "      <td>730</td>\n",
       "      <td>CASH_OUT</td>\n",
       "      <td>0.00</td>\n",
       "      <td>C2088151490</td>\n",
       "      <td>0.00</td>\n",
       "      <td>0.00</td>\n",
       "      <td>C1156763710</td>\n",
       "      <td>0.00</td>\n",
       "      <td>0.00</td>\n",
       "      <td>1</td>\n",
       "      <td>0</td>\n",
       "    </tr>\n",
       "    <tr>\n",
       "      <th>6362585</th>\n",
       "      <td>741</td>\n",
       "      <td>CASH_OUT</td>\n",
       "      <td>0.00</td>\n",
       "      <td>C312737633</td>\n",
       "      <td>0.00</td>\n",
       "      <td>0.00</td>\n",
       "      <td>C1400061387</td>\n",
       "      <td>267,522.87</td>\n",
       "      <td>267,522.87</td>\n",
       "      <td>1</td>\n",
       "      <td>0</td>\n",
       "    </tr>\n",
       "  </tbody>\n",
       "</table>\n",
       "</div>"
      ],
      "text/plain": [
       "         step      type  amount     nameOrig  oldbalanceOrg  newbalanceOrig  \\\n",
       "2736447   212  CASH_OUT    0.00  C1510987794           0.00            0.00   \n",
       "3247298   250  CASH_OUT    0.00   C521393327           0.00            0.00   \n",
       "3760289   279  CASH_OUT    0.00   C539112012           0.00            0.00   \n",
       "5563714   387  CASH_OUT    0.00  C1294472700           0.00            0.00   \n",
       "5996408   425  CASH_OUT    0.00   C832555372           0.00            0.00   \n",
       "5996410   425  CASH_OUT    0.00    C69493310           0.00            0.00   \n",
       "6168500   554  CASH_OUT    0.00    C10965156           0.00            0.00   \n",
       "6205440   586  CASH_OUT    0.00  C1303719003           0.00            0.00   \n",
       "6266414   617  CASH_OUT    0.00  C1971175979           0.00            0.00   \n",
       "6281483   646  CASH_OUT    0.00  C2060908932           0.00            0.00   \n",
       "6281485   646  CASH_OUT    0.00  C1997645312           0.00            0.00   \n",
       "6296015   671  CASH_OUT    0.00  C1960007029           0.00            0.00   \n",
       "6351226   702  CASH_OUT    0.00  C1461113533           0.00            0.00   \n",
       "6362461   730  CASH_OUT    0.00   C729003789           0.00            0.00   \n",
       "6362463   730  CASH_OUT    0.00  C2088151490           0.00            0.00   \n",
       "6362585   741  CASH_OUT    0.00   C312737633           0.00            0.00   \n",
       "\n",
       "            nameDest  oldbalanceDest  newbalanceDest  isFraud  isFlaggedFraud  \n",
       "2736447  C1696624817            0.00            0.00        1               0  \n",
       "3247298   C480398193            0.00            0.00        1               0  \n",
       "3760289  C1106468520      538,547.63      538,547.63        1               0  \n",
       "5563714  C1325541393    7,970,766.57    7,970,766.57        1               0  \n",
       "5996408  C1462759334       76,759.90       76,759.90        1               0  \n",
       "5996410   C719711728    2,921,531.34    2,921,531.34        1               0  \n",
       "6168500  C1493336195      230,289.66      230,289.66        1               0  \n",
       "6205440   C900608348    1,328,472.86    1,328,472.86        1               0  \n",
       "6266414  C1352345416            0.00            0.00        1               0  \n",
       "6281483  C1587892888            0.00            0.00        1               0  \n",
       "6281485   C601248796            0.00            0.00        1               0  \n",
       "6296015   C459118517       27,938.72       27,938.72        1               0  \n",
       "6351226  C1382150537      107,777.02      107,777.02        1               0  \n",
       "6362461  C1388096959    1,008,609.53    1,008,609.53        1               0  \n",
       "6362463  C1156763710            0.00            0.00        1               0  \n",
       "6362585  C1400061387      267,522.87      267,522.87        1               0  "
      ]
     },
     "execution_count": 17,
     "metadata": {},
     "output_type": "execute_result"
    }
   ],
   "source": [
    "# The isFlaggedFraud indicator coincides with the only zero amounts\n",
    "zero_amount.head(16)"
   ]
  },
  {
   "cell_type": "code",
   "execution_count": 18,
   "metadata": {
    "scrolled": true
   },
   "outputs": [
    {
     "data": {
      "image/png": "[encoded data removed]",
      "text/plain": [
       "<Figure size 432x288 with 9 Axes>"
      ]
     },
     "metadata": {
      "needs_background": "light"
     },
     "output_type": "display_data"
    },
    {
     "data": {
      "text/plain": [
       "<Figure size 432x288 with 0 Axes>"
      ]
     },
     "metadata": {},
     "output_type": "display_data"
    }
   ],
   "source": [
    "# Check the histogram for all columns. Note the imbalanced nature of the data, meaning that there are very few fraud cases.\n",
    "#df.hist(bins=50, figsize=(15,15), color = 'cyan')\n",
    "df.hist()\n",
    "plt.show()\n",
    "plt.tight_layout()"
   ]
  },
  {
   "cell_type": "code",
   "execution_count": null,
   "metadata": {},
   "outputs": [],
   "source": []
  },
  {
   "cell_type": "code",
   "execution_count": null,
   "metadata": {},
   "outputs": [],
   "source": []
  },
  {
   "cell_type": "code",
   "execution_count": null,
   "metadata": {},
   "outputs": [],
   "source": []
  }
 ],
 "metadata": {
  "kernelspec": {
   "display_name": "Python 3",
   "language": "python",
   "name": "python3"
  },
  "language_info": {
   "codemirror_mode": {
    "name": "ipython",
    "version": 3
   },
   "file_extension": ".py",
   "mimetype": "text/x-python",
   "name": "python",
   "nbconvert_exporter": "python",
   "pygments_lexer": "ipython3",
   "version": "3.7.1"
  }
 },
 "nbformat": 4,
 "nbformat_minor": 2
}
